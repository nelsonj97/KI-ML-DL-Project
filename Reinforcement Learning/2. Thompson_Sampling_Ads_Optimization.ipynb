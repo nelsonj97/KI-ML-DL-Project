{
 "cells": [
  {
   "cell_type": "markdown",
   "id": "c6bd8082",
   "metadata": {},
   "source": [
    "# Thompson Sampling Algorithm"
   ]
  },
  {
   "cell_type": "markdown",
   "id": "4c7f4a07",
   "metadata": {},
   "source": [
    "![alt text](../Images/image-24.png)<br>"
   ]
  },
  {
   "cell_type": "markdown",
   "id": "ca01926b",
   "metadata": {},
   "source": [
    "# 1. Importing the Libraries"
   ]
  },
  {
   "cell_type": "code",
   "execution_count": 9,
   "id": "f15f0e2c",
   "metadata": {},
   "outputs": [],
   "source": [
    "import pandas as pd\n",
    "import numpy as np\n",
    "import matplotlib.pyplot as plt"
   ]
  },
  {
   "cell_type": "markdown",
   "id": "68f36814",
   "metadata": {},
   "source": [
    "# 2. Importing the Dataset"
   ]
  },
  {
   "cell_type": "code",
   "execution_count": 10,
   "id": "e84fa6f4",
   "metadata": {},
   "outputs": [],
   "source": [
    "data_set = pd.read_csv(\"Ads_CTR_Optimisation.csv\")"
   ]
  },
  {
   "cell_type": "markdown",
   "id": "902186ab",
   "metadata": {},
   "source": [
    "❌ Has no Metric of feature and no dependent variable"
   ]
  },
  {
   "cell_type": "markdown",
   "id": "522d7f8c",
   "metadata": {},
   "source": [
    "# 3. Implementing Thompson Sampling Algorithm"
   ]
  },
  {
   "cell_type": "code",
   "execution_count": null,
   "id": "16052529",
   "metadata": {},
   "outputs": [],
   "source": [
    "# importing the random Library, because we are going to work with random numbers\n",
    "import random\n",
    "\n",
    "\n",
    "# 1. Total number of Users N to whom we show the ads\n",
    "N : int = 100######## ###########uuggfdfdsaq###00 \n",
    "\n",
    "# 2. Total number of ads d we used in the process, among which we want to find the best ad with the highest ...\n",
    "# ... conversion rate. In our dataset each ad has a fixed conversion rate.\n",
    "d : int = 10\n",
    "\n",
    "# 3. this variable will store the List of  all the ads that will be selected over the 10000 rounds\n",
    "ads_selected : list = []                      # We initialize it as an empty list, then store over the round different ads we selected.\n",
    "\n",
    "######################################################## Step 1 ######################################################################\n",
    "# 4. Creating an empty list to store the number of times an ad got a reward 1\n",
    "numbers_of_rewards_1 : list = [0] * d     # We initialize it as a list of 10 zeros elements because no ad got a reward at the beginning\n",
    "                                          # here is the trick to initialize a list of 10 zeros : [0] * d, d = 10\n",
    "\n",
    "# 5. Creating an empty list to store the number of times an ad got a reward 0\n",
    "numbers_of_rewards_0 : list = [0] * d      # We initialize it as a list of 10 zeros elements because no ad got a reward at the beginning\n",
    "                                           # here is the trick to initialize a list of 10 zeros : [0] * d, d = 10\n",
    "\n",
    "\n",
    "# 6. total reward\n",
    "total_reward : int = 0                      # total reward will be initialize at the beginning as 0.\n",
    "\n",
    "\n",
    "# 7. for loop to iterate through the 10000 rounds\n",
    "for n in range(0, N):                       # n represent the number of rounds and n goes from 0 to 9999\n",
    "\n",
    "    # 8. select the ads i.e. Ad that will be selected at the current round\n",
    "    ad : int = 0\n",
    "\n",
    "    max_random : float = 0                 # for each of the ads we will compare its upper bound with the max upper bound.\n",
    "    \n",
    " ############################################################ Step 2 ##############################################################################  \n",
    "    for i in range(0, d):                  # Iterating over the 10 ads\n",
    "        \n",
    "        # Index of the current ad  \n",
    "                            # ⬇️ betavariate() will provide is with the beta distribution\n",
    "                                          # ⬇️ number of time ad 1 got a reward 1, as argument \n",
    "                                                                            # ⬇️ number of time ad 1 got a reward 0, as argument\n",
    "        random_beta = random.betavariate(numbers_of_rewards_1[i] + 1, numbers_of_rewards_0[i] + 1)\n",
    "\n",
    "############################################################# Step 3 ##############################################################################\n",
    "        # Comparing the current ad upper bound with the max upper bound\n",
    "        if random_beta > max_random:\n",
    "            max_random = random_beta     # if the random_beta of the current ad is greater than the max_random drawn, we have to update the max_random\n",
    "            ad = i                       # since the current ad will be selected, we have to update the current ad to i.\n",
    "\n",
    "        # No need to do an else because if the condition is not true, the last ad with with the max_random drawn will be kept.\n",
    "\n",
    "    # Adding the selected ad that has the highest random drawn to the selection list\n",
    "    ads_selected.append(ad)              # append() will add the selected ad to the selection list\n",
    "    \n",
    "    # 9. getting the reward of the current ad\n",
    "    reward : float = data_set.values[n, ad]\n",
    "    \n",
    "    # 10. then Checking if the ad got a reward oe not and then updating the reward lists\n",
    "    if reward == 1:                         # i.e. if the ad got a reward , we need to update the reward lists by incrementing their values by 1\n",
    "        numbers_of_rewards_1[ad] = numbers_of_rewards_1[ad] + 1\n",
    "    else:\n",
    "        numbers_of_rewards_0[ad] = numbers_of_rewards_0[ad] + 1\n",
    "        \n",
    "    # 11. updating the total reward by incrementing it by the reward we just got\n",
    "    total_reward = total_reward + reward\n"
   ]
  },
  {
   "cell_type": "markdown",
   "id": "aa0c2ba0",
   "metadata": {},
   "source": [
    "# 4. Visualizing the results"
   ]
  },
  {
   "cell_type": "code",
   "execution_count": 12,
   "id": "d2dc8859",
   "metadata": {},
   "outputs": [
    {
     "data": {
      "image/png": "[encoded data removed]",
      "text/plain": [
       "<Figure size 640x480 with 1 Axes>"
      ]
     },
     "metadata": {},
     "output_type": "display_data"
    }
   ],
   "source": [
    "plt.hist(ads_selected)\n",
    "plt.title(\"Histogram of ads selections\")\n",
    "plt.xlabel(\"Ads\")\n",
    "plt.ylabel(\"Number of times each ad was selected\")\n",
    "plt.show()"
   ]
  }
 ],
 "metadata": {
  "kernelspec": {
   "display_name": "Python 3",
   "language": "python",
   "name": "python3"
  },
  "language_info": {
   "codemirror_mode": {
    "name": "ipython",
    "version": 3
   },
   "file_extension": ".py",
   "mimetype": "text/x-python",
   "name": "python",
   "nbconvert_exporter": "python",
   "pygments_lexer": "ipython3",
   "version": "3.13.2"
  }
 },
 "nbformat": 4,
 "nbformat_minor": 5
}
