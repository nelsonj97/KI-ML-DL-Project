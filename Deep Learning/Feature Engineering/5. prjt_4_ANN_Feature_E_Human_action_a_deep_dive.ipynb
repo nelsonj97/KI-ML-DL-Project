{
 "cells": [
  {
   "cell_type": "markdown",
   "id": "JKz_WaT3-0ez",
   "metadata": {
    "id": "JKz_WaT3-0ez"
   },
   "source": [
    "# 📍 Feature Engineering to improve the Accuracy of the Model\n",
    "- Feature engineering is very important in ML and DL.\n",
    "  - By Performing feature engineering create new feature from existing feature,\n",
    "    - Which then improve the classification problem of the model."
   ]
  },
  {
   "cell_type": "markdown",
   "id": "99a39971",
   "metadata": {
    "id": "99a39971"
   },
   "source": [
    "# ANN Human action recognition\n",
    "- Goal:\n",
    "  - Create a Neural network that can recognizes, in order word classify different action perform by humans.\n",
    "  \n",
    "  ![alt text](Images/image-4.png)\n",
    "  - Here we have an example of 27 different action performed by humans.\n",
    "- The dataset is in the form of images.\n",
    "  - the dataset for human action recognition are of two different types.\n",
    "    -  The data can be collected in the form of images as show on the image above\n",
    "    -  The data can be collected with help of a sensor\n",
    " - The data set that we're going to use is a **heterogeneous dataset**.\n",
    "   - This dataset consist of 6 different actions.\n",
    "     - 0: WALKING\n",
    "     - 1: Bike\n",
    "     - 2: RUNNING\n",
    "     - 3: WALKING DOWNSTAIRS\n",
    "     - 4: WALKING UPSTAIRS\n",
    "     - 5: SITTING\n",
    "     - 6: STANDING\n",
    "- And we have to design this dataset that can classify this 6 classes using sensor data.\n",
    "\n"
   ]
  },
  {
   "cell_type": "markdown",
   "id": "7wokFq0isWCp",
   "metadata": {
    "id": "7wokFq0isWCp"
   },
   "source": [
    "# 0. Importing Libraries"
   ]
  },
  {
   "cell_type": "code",
   "execution_count": 213,
   "id": "iqIMV9Zmsb8y",
   "metadata": {
    "executionInfo": {
     "elapsed": 16,
     "status": "ok",
     "timestamp": 1754065013921,
     "user": {
      "displayName": "Jorvany Nelson",
      "userId": "15494697462108672179"
     },
     "user_tz": -120
    },
    "id": "iqIMV9Zmsb8y"
   },
   "outputs": [],
   "source": [
    "import numpy as np\n",
    "import pandas as pd\n",
    "import seaborn as sns\n",
    "import matplotlib.pyplot as plt\n",
    "\n",
    "from matplotlib import style\n",
    "style.use('default')\n",
    "\n",
    "import torch\n",
    "import torch.nn as nn\n",
    "import torch.nn.functional as F      # <- Use to create our activation functions.\n",
    "from torch.utils.data import DataLoader, TensorDataset\n",
    "\n",
    "# from sklearn.model_selection import train_test_split"
   ]
  },
  {
   "cell_type": "markdown",
   "id": "28S1kph5vGHB",
   "metadata": {
    "id": "28S1kph5vGHB"
   },
   "source": [
    "### &nbsp;&nbsp;&nbsp;&nbsp; Checking if cuda is available"
   ]
  },
  {
   "cell_type": "code",
   "execution_count": 214,
   "id": "tACQaLNutNcM",
   "metadata": {
    "colab": {
     "base_uri": "https://localhost:8080/"
    },
    "executionInfo": {
     "elapsed": 16,
     "status": "ok",
     "timestamp": 1754065013942,
     "user": {
      "displayName": "Jorvany Nelson",
      "userId": "15494697462108672179"
     },
     "user_tz": -120
    },
    "id": "tACQaLNutNcM",
    "outputId": "5eb2200e-6210-4c90-d52e-bbb429a406af"
   },
   "outputs": [
    {
     "data": {
      "text/plain": [
       "False"
      ]
     },
     "execution_count": 214,
     "metadata": {},
     "output_type": "execute_result"
    }
   ],
   "source": [
    "torch.cuda.is_available()"
   ]
  },
  {
   "cell_type": "markdown",
   "id": "NDYFHx1Bttmq",
   "metadata": {
    "id": "NDYFHx1Bttmq"
   },
   "source": [
    "### &nbsp;&nbsp;&nbsp;&nbsp; Selecting the GPU as device for training and testing"
   ]
  },
  {
   "cell_type": "code",
   "execution_count": 215,
   "id": "tESk9L0otRwN",
   "metadata": {
    "executionInfo": {
     "elapsed": 6,
     "status": "ok",
     "timestamp": 1754065013945,
     "user": {
      "displayName": "Jorvany Nelson",
      "userId": "15494697462108672179"
     },
     "user_tz": -120
    },
    "id": "tESk9L0otRwN"
   },
   "outputs": [],
   "source": [
    "device = torch.device(\"cuda\" if torch.cuda.is_available() else \"cpu\")"
   ]
  },
  {
   "cell_type": "code",
   "execution_count": 216,
   "id": "IrrWYleItVTk",
   "metadata": {
    "executionInfo": {
     "elapsed": 3,
     "status": "ok",
     "timestamp": 1754065013946,
     "user": {
      "displayName": "Jorvany Nelson",
      "userId": "15494697462108672179"
     },
     "user_tz": -120
    },
    "id": "IrrWYleItVTk"
   },
   "outputs": [],
   "source": [
    "#from google.colab import drive\n",
    "#drive.mount('/content/drive')"
   ]
  },
  {
   "cell_type": "code",
   "execution_count": 217,
   "id": "UmE01YxetdMH",
   "metadata": {
    "executionInfo": {
     "elapsed": 1,
     "status": "ok",
     "timestamp": 1754065013948,
     "user": {
      "displayName": "Jorvany Nelson",
      "userId": "15494697462108672179"
     },
     "user_tz": -120
    },
    "id": "UmE01YxetdMH"
   },
   "outputs": [],
   "source": [
    "# %cd path??"
   ]
  },
  {
   "cell_type": "markdown",
   "id": "DETRPyvMtovd",
   "metadata": {
    "id": "DETRPyvMtovd"
   },
   "source": [
    "# 1. Importing and processing the Data"
   ]
  },
  {
   "cell_type": "markdown",
   "id": "NsYq2EZ8uO6-",
   "metadata": {
    "id": "NsYq2EZ8uO6-"
   },
   "source": [
    "### &nbsp;&nbsp;&nbsp;&nbsp; 1.1 Importing the Dataset"
   ]
  },
  {
   "cell_type": "code",
   "execution_count": 218,
   "id": "C_-bFxKxuZ-v",
   "metadata": {
    "colab": {
     "base_uri": "https://localhost:8080/"
    },
    "executionInfo": {
     "elapsed": 3467,
     "status": "ok",
     "timestamp": 1754065017417,
     "user": {
      "displayName": "Jorvany Nelson",
      "userId": "15494697462108672179"
     },
     "user_tz": -120
    },
    "id": "C_-bFxKxuZ-v",
    "outputId": "f1c9bf2f-2a6d-41d1-8e9e-222fec7822d4"
   },
   "outputs": [
    {
     "data": {
      "text/plain": [
       "(3540962, 10)"
      ]
     },
     "execution_count": 218,
     "metadata": {},
     "output_type": "execute_result"
    }
   ],
   "source": [
    "dataset = pd.read_csv('Heterogeneous_accelerometer_HAR.csv')\n",
    "\n",
    "dataset.shape"
   ]
  },
  {
   "cell_type": "markdown",
   "id": "XzvmSokf0PAT",
   "metadata": {
    "id": "XzvmSokf0PAT"
   },
   "source": [
    "### &nbsp;&nbsp;&nbsp;&nbsp; 1.2 Data Processing"
   ]
  },
  {
   "cell_type": "code",
   "execution_count": 219,
   "id": "7z9f7RF6usJn",
   "metadata": {
    "colab": {
     "base_uri": "https://localhost:8080/",
     "height": 206
    },
    "executionInfo": {
     "elapsed": 31,
     "status": "ok",
     "timestamp": 1754065017451,
     "user": {
      "displayName": "Jorvany Nelson",
      "userId": "15494697462108672179"
     },
     "user_tz": -120
    },
    "id": "7z9f7RF6usJn",
    "outputId": "e440053a-7ca5-4300-8af3-2254350f44a5"
   },
   "outputs": [
    {
     "data": {
      "application/vnd.google.colaboratory.intrinsic+json": {
       "type": "dataframe",
       "variable_name": "dataset"
      },
      "text/html": [
       "\n",
       "  <div id=\"df-965c4834-e3e0-45e2-8d36-4da24ac1ba74\" class=\"colab-df-container\">\n",
       "    <div>\n",
       "<style scoped>\n",
       "    .dataframe tbody tr th:only-of-type {\n",
       "        vertical-align: middle;\n",
       "    }\n",
       "\n",
       "    .dataframe tbody tr th {\n",
       "        vertical-align: top;\n",
       "    }\n",
       "\n",
       "    .dataframe thead th {\n",
       "        text-align: right;\n",
       "    }\n",
       "</style>\n",
       "<table border=\"1\" class=\"dataframe\">\n",
       "  <thead>\n",
       "    <tr style=\"text-align: right;\">\n",
       "      <th></th>\n",
       "      <th>Index</th>\n",
       "      <th>Arrival_Time</th>\n",
       "      <th>Creation_Time</th>\n",
       "      <th>x</th>\n",
       "      <th>y</th>\n",
       "      <th>z</th>\n",
       "      <th>User</th>\n",
       "      <th>Model</th>\n",
       "      <th>Device</th>\n",
       "      <th>gt</th>\n",
       "    </tr>\n",
       "  </thead>\n",
       "  <tbody>\n",
       "    <tr>\n",
       "      <th>0</th>\n",
       "      <td>0</td>\n",
       "      <td>1424696638740</td>\n",
       "      <td>27920678471000</td>\n",
       "      <td>-0.565032</td>\n",
       "      <td>-9.572019</td>\n",
       "      <td>-0.614113</td>\n",
       "      <td>a</td>\n",
       "      <td>gear</td>\n",
       "      <td>gear_1</td>\n",
       "      <td>stand</td>\n",
       "    </tr>\n",
       "    <tr>\n",
       "      <th>1</th>\n",
       "      <td>1</td>\n",
       "      <td>1424696638740</td>\n",
       "      <td>27920681910000</td>\n",
       "      <td>-0.832584</td>\n",
       "      <td>-9.713276</td>\n",
       "      <td>-0.606930</td>\n",
       "      <td>a</td>\n",
       "      <td>gear</td>\n",
       "      <td>gear_1</td>\n",
       "      <td>stand</td>\n",
       "    </tr>\n",
       "    <tr>\n",
       "      <th>2</th>\n",
       "      <td>2</td>\n",
       "      <td>1424696638740</td>\n",
       "      <td>27920692014000</td>\n",
       "      <td>-1.018134</td>\n",
       "      <td>-9.935339</td>\n",
       "      <td>-0.544082</td>\n",
       "      <td>a</td>\n",
       "      <td>gear</td>\n",
       "      <td>gear_1</td>\n",
       "      <td>stand</td>\n",
       "    </tr>\n",
       "    <tr>\n",
       "      <th>3</th>\n",
       "      <td>3</td>\n",
       "      <td>1424696638741</td>\n",
       "      <td>27920701983000</td>\n",
       "      <td>-1.222838</td>\n",
       "      <td>-10.142437</td>\n",
       "      <td>-0.566229</td>\n",
       "      <td>a</td>\n",
       "      <td>gear</td>\n",
       "      <td>gear_1</td>\n",
       "      <td>stand</td>\n",
       "    </tr>\n",
       "    <tr>\n",
       "      <th>4</th>\n",
       "      <td>4</td>\n",
       "      <td>1424696638741</td>\n",
       "      <td>27920711906000</td>\n",
       "      <td>-1.577180</td>\n",
       "      <td>-10.480618</td>\n",
       "      <td>-0.402824</td>\n",
       "      <td>a</td>\n",
       "      <td>gear</td>\n",
       "      <td>gear_1</td>\n",
       "      <td>stand</td>\n",
       "    </tr>\n",
       "  </tbody>\n",
       "</table>\n",
       "</div>\n",
       "    <div class=\"colab-df-buttons\">\n",
       "\n",
       "  <div class=\"colab-df-container\">\n",
       "    <button class=\"colab-df-convert\" onclick=\"convertToInteractive('df-965c4834-e3e0-45e2-8d36-4da24ac1ba74')\"\n",
       "            title=\"Convert this dataframe to an interactive table.\"\n",
       "            style=\"display:none;\">\n",
       "\n",
       "  <svg xmlns=\"http://www.w3.org/2000/svg\" height=\"24px\" viewBox=\"0 -960 960 960\">\n",
       "    <path d=\"M120-120v-720h720v720H120Zm60-500h600v-160H180v160Zm220 220h160v-160H400v160Zm0 220h160v-160H400v160ZM180-400h160v-160H180v160Zm440 0h160v-160H620v160ZM180-180h160v-160H180v160Zm440 0h160v-160H620v160Z\"/>\n",
       "  </svg>\n",
       "    </button>\n",
       "\n",
       "  <style>\n",
       "    .colab-df-container {\n",
       "      display:flex;\n",
       "      gap: 12px;\n",
       "    }\n",
       "\n",
       "    .colab-df-convert {\n",
       "      background-color: #E8F0FE;\n",
       "      border: none;\n",
       "      border-radius: 50%;\n",
       "      cursor: pointer;\n",
       "      display: none;\n",
       "      fill: #1967D2;\n",
       "      height: 32px;\n",
       "      padding: 0 0 0 0;\n",
       "      width: 32px;\n",
       "    }\n",
       "\n",
       "    .colab-df-convert:hover {\n",
       "      background-color: #E2EBFA;\n",
       "      box-shadow: 0px 1px 2px rgba(60, 64, 67, 0.3), 0px 1px 3px 1px rgba(60, 64, 67, 0.15);\n",
       "      fill: #174EA6;\n",
       "    }\n",
       "\n",
       "    .colab-df-buttons div {\n",
       "      margin-bottom: 4px;\n",
       "    }\n",
       "\n",
       "    [theme=dark] .colab-df-convert {\n",
       "      background-color: #3B4455;\n",
       "      fill: #D2E3FC;\n",
       "    }\n",
       "\n",
       "    [theme=dark] .colab-df-convert:hover {\n",
       "      background-color: #434B5C;\n",
       "      box-shadow: 0px 1px 3px 1px rgba(0, 0, 0, 0.15);\n",
       "      filter: drop-shadow(0px 1px 2px rgba(0, 0, 0, 0.3));\n",
       "      fill: #FFFFFF;\n",
       "    }\n",
       "  </style>\n",
       "\n",
       "    <script>\n",
       "      const buttonEl =\n",
       "        document.querySelector('#df-965c4834-e3e0-45e2-8d36-4da24ac1ba74 button.colab-df-convert');\n",
       "      buttonEl.style.display =\n",
       "        google.colab.kernel.accessAllowed ? 'block' : 'none';\n",
       "\n",
       "      async function convertToInteractive(key) {\n",
       "        const element = document.querySelector('#df-965c4834-e3e0-45e2-8d36-4da24ac1ba74');\n",
       "        const dataTable =\n",
       "          await google.colab.kernel.invokeFunction('convertToInteractive',\n",
       "                                                    [key], {});\n",
       "        if (!dataTable) return;\n",
       "\n",
       "        const docLinkHtml = 'Like what you see? Visit the ' +\n",
       "          '<a target=\"_blank\" href=https://colab.research.google.com/notebooks/data_table.ipynb>data table notebook</a>'\n",
       "          + ' to learn more about interactive tables.';\n",
       "        element.innerHTML = '';\n",
       "        dataTable['output_type'] = 'display_data';\n",
       "        await google.colab.output.renderOutput(dataTable, element);\n",
       "        const docLink = document.createElement('div');\n",
       "        docLink.innerHTML = docLinkHtml;\n",
       "        element.appendChild(docLink);\n",
       "      }\n",
       "    </script>\n",
       "  </div>\n",
       "\n",
       "\n",
       "    <div id=\"df-7d8888ff-205e-4a8e-903d-48966d84e9d4\">\n",
       "      <button class=\"colab-df-quickchart\" onclick=\"quickchart('df-7d8888ff-205e-4a8e-903d-48966d84e9d4')\"\n",
       "                title=\"Suggest charts\"\n",
       "                style=\"display:none;\">\n",
       "\n",
       "<svg xmlns=\"http://www.w3.org/2000/svg\" height=\"24px\"viewBox=\"0 0 24 24\"\n",
       "     width=\"24px\">\n",
       "    <g>\n",
       "        <path d=\"M19 3H5c-1.1 0-2 .9-2 2v14c0 1.1.9 2 2 2h14c1.1 0 2-.9 2-2V5c0-1.1-.9-2-2-2zM9 17H7v-7h2v7zm4 0h-2V7h2v10zm4 0h-2v-4h2v4z\"/>\n",
       "    </g>\n",
       "</svg>\n",
       "      </button>\n",
       "\n",
       "<style>\n",
       "  .colab-df-quickchart {\n",
       "      --bg-color: #E8F0FE;\n",
       "      --fill-color: #1967D2;\n",
       "      --hover-bg-color: #E2EBFA;\n",
       "      --hover-fill-color: #174EA6;\n",
       "      --disabled-fill-color: #AAA;\n",
       "      --disabled-bg-color: #DDD;\n",
       "  }\n",
       "\n",
       "  [theme=dark] .colab-df-quickchart {\n",
       "      --bg-color: #3B4455;\n",
       "      --fill-color: #D2E3FC;\n",
       "      --hover-bg-color: #434B5C;\n",
       "      --hover-fill-color: #FFFFFF;\n",
       "      --disabled-bg-color: #3B4455;\n",
       "      --disabled-fill-color: #666;\n",
       "  }\n",
       "\n",
       "  .colab-df-quickchart {\n",
       "    background-color: var(--bg-color);\n",
       "    border: none;\n",
       "    border-radius: 50%;\n",
       "    cursor: pointer;\n",
       "    display: none;\n",
       "    fill: var(--fill-color);\n",
       "    height: 32px;\n",
       "    padding: 0;\n",
       "    width: 32px;\n",
       "  }\n",
       "\n",
       "  .colab-df-quickchart:hover {\n",
       "    background-color: var(--hover-bg-color);\n",
       "    box-shadow: 0 1px 2px rgba(60, 64, 67, 0.3), 0 1px 3px 1px rgba(60, 64, 67, 0.15);\n",
       "    fill: var(--button-hover-fill-color);\n",
       "  }\n",
       "\n",
       "  .colab-df-quickchart-complete:disabled,\n",
       "  .colab-df-quickchart-complete:disabled:hover {\n",
       "    background-color: var(--disabled-bg-color);\n",
       "    fill: var(--disabled-fill-color);\n",
       "    box-shadow: none;\n",
       "  }\n",
       "\n",
       "  .colab-df-spinner {\n",
       "    border: 2px solid var(--fill-color);\n",
       "    border-color: transparent;\n",
       "    border-bottom-color: var(--fill-color);\n",
       "    animation:\n",
       "      spin 1s steps(1) infinite;\n",
       "  }\n",
       "\n",
       "  @keyframes spin {\n",
       "    0% {\n",
       "      border-color: transparent;\n",
       "      border-bottom-color: var(--fill-color);\n",
       "      border-left-color: var(--fill-color);\n",
       "    }\n",
       "    20% {\n",
       "      border-color: transparent;\n",
       "      border-left-color: var(--fill-color);\n",
       "      border-top-color: var(--fill-color);\n",
       "    }\n",
       "    30% {\n",
       "      border-color: transparent;\n",
       "      border-left-color: var(--fill-color);\n",
       "      border-top-color: var(--fill-color);\n",
       "      border-right-color: var(--fill-color);\n",
       "    }\n",
       "    40% {\n",
       "      border-color: transparent;\n",
       "      border-right-color: var(--fill-color);\n",
       "      border-top-color: var(--fill-color);\n",
       "    }\n",
       "    60% {\n",
       "      border-color: transparent;\n",
       "      border-right-color: var(--fill-color);\n",
       "    }\n",
       "    80% {\n",
       "      border-color: transparent;\n",
       "      border-right-color: var(--fill-color);\n",
       "      border-bottom-color: var(--fill-color);\n",
       "    }\n",
       "    90% {\n",
       "      border-color: transparent;\n",
       "      border-bottom-color: var(--fill-color);\n",
       "    }\n",
       "  }\n",
       "</style>\n",
       "\n",
       "      <script>\n",
       "        async function quickchart(key) {\n",
       "          const quickchartButtonEl =\n",
       "            document.querySelector('#' + key + ' button');\n",
       "          quickchartButtonEl.disabled = true;  // To prevent multiple clicks.\n",
       "          quickchartButtonEl.classList.add('colab-df-spinner');\n",
       "          try {\n",
       "            const charts = await google.colab.kernel.invokeFunction(\n",
       "                'suggestCharts', [key], {});\n",
       "          } catch (error) {\n",
       "            console.error('Error during call to suggestCharts:', error);\n",
       "          }\n",
       "          quickchartButtonEl.classList.remove('colab-df-spinner');\n",
       "          quickchartButtonEl.classList.add('colab-df-quickchart-complete');\n",
       "        }\n",
       "        (() => {\n",
       "          let quickchartButtonEl =\n",
       "            document.querySelector('#df-7d8888ff-205e-4a8e-903d-48966d84e9d4 button');\n",
       "          quickchartButtonEl.style.display =\n",
       "            google.colab.kernel.accessAllowed ? 'block' : 'none';\n",
       "        })();\n",
       "      </script>\n",
       "    </div>\n",
       "\n",
       "    </div>\n",
       "  </div>\n"
      ],
      "text/plain": [
       "   Index   Arrival_Time   Creation_Time         x          y         z User  \\\n",
       "0      0  1424696638740  27920678471000 -0.565032  -9.572019 -0.614113    a   \n",
       "1      1  1424696638740  27920681910000 -0.832584  -9.713276 -0.606930    a   \n",
       "2      2  1424696638740  27920692014000 -1.018134  -9.935339 -0.544082    a   \n",
       "3      3  1424696638741  27920701983000 -1.222838 -10.142437 -0.566229    a   \n",
       "4      4  1424696638741  27920711906000 -1.577180 -10.480618 -0.402824    a   \n",
       "\n",
       "  Model  Device     gt  \n",
       "0  gear  gear_1  stand  \n",
       "1  gear  gear_1  stand  \n",
       "2  gear  gear_1  stand  \n",
       "3  gear  gear_1  stand  \n",
       "4  gear  gear_1  stand  "
      ]
     },
     "execution_count": 219,
     "metadata": {},
     "output_type": "execute_result"
    }
   ],
   "source": [
    "dataset.head()"
   ]
  },
  {
   "cell_type": "markdown",
   "id": "506sMNoZvonn",
   "metadata": {
    "id": "506sMNoZvonn"
   },
   "source": [
    "- Some Information are irrelevant such: index, arrival time, creation time, model of device, and device are all irrelevant.\n",
    "- X, Y and Z are important, since they are collected with the accelometer"
   ]
  },
  {
   "cell_type": "code",
   "execution_count": 220,
   "id": "QwKt7wmEuwB4",
   "metadata": {
    "colab": {
     "base_uri": "https://localhost:8080/",
     "height": 204
    },
    "executionInfo": {
     "elapsed": 158,
     "status": "ok",
     "timestamp": 1754065017605,
     "user": {
      "displayName": "Jorvany Nelson",
      "userId": "15494697462108672179"
     },
     "user_tz": -120
    },
    "id": "QwKt7wmEuwB4",
    "outputId": "32e21807-fab5-4b17-9328-55a508104a7b"
   },
   "outputs": [
    {
     "data": {
      "text/html": [
       "<div style=\"max-width:800px; border: 1px solid var(--colab-border-color);\"><style>\n",
       "      pre.function-repr-contents {\n",
       "        overflow-x: auto;\n",
       "        padding: 8px 12px;\n",
       "        max-height: 500px;\n",
       "      }\n",
       "\n",
       "      pre.function-repr-contents.function-repr-contents-collapsed {\n",
       "        cursor: pointer;\n",
       "        max-height: 100px;\n",
       "      }\n",
       "    </style>\n",
       "    <pre style=\"white-space: initial; background:\n",
       "         var(--colab-secondary-surface-color); padding: 8px 12px;\n",
       "         border-bottom: 1px solid var(--colab-border-color);\"><b>pandas.core.frame.DataFrame</b><br/>def __init__(data=None, index: Axes | None=None, columns: Axes | None=None, dtype: Dtype | None=None, copy: bool | None=None) -&gt; None</pre><pre class=\"function-repr-contents function-repr-contents-collapsed\" style=\"\"><a class=\"filepath\" style=\"display:none\" href=\"#\">/usr/local/lib/python3.11/dist-packages/pandas/core/frame.py</a>Two-dimensional, size-mutable, potentially heterogeneous tabular data.\n",
       "\n",
       "Data structure also contains labeled axes (rows and columns).\n",
       "Arithmetic operations align on both row and column labels. Can be\n",
       "thought of as a dict-like container for Series objects. The primary\n",
       "pandas data structure.\n",
       "\n",
       "Parameters\n",
       "----------\n",
       "data : ndarray (structured or homogeneous), Iterable, dict, or DataFrame\n",
       "    Dict can contain Series, arrays, constants, dataclass or list-like objects. If\n",
       "    data is a dict, column order follows insertion-order. If a dict contains Series\n",
       "    which have an index defined, it is aligned by its index. This alignment also\n",
       "    occurs if data is a Series or a DataFrame itself. Alignment is done on\n",
       "    Series/DataFrame inputs.\n",
       "\n",
       "    If data is a list of dicts, column order follows insertion-order.\n",
       "\n",
       "index : Index or array-like\n",
       "    Index to use for resulting frame. Will default to RangeIndex if\n",
       "    no indexing information part of input data and no index provided.\n",
       "columns : Index or array-like\n",
       "    Column labels to use for resulting frame when data does not have them,\n",
       "    defaulting to RangeIndex(0, 1, 2, ..., n). If data contains column labels,\n",
       "    will perform column selection instead.\n",
       "dtype : dtype, default None\n",
       "    Data type to force. Only a single dtype is allowed. If None, infer.\n",
       "copy : bool or None, default None\n",
       "    Copy data from inputs.\n",
       "    For dict data, the default of None behaves like ``copy=True``.  For DataFrame\n",
       "    or 2d ndarray input, the default of None behaves like ``copy=False``.\n",
       "    If data is a dict containing one or more Series (possibly of different dtypes),\n",
       "    ``copy=False`` will ensure that these inputs are not copied.\n",
       "\n",
       "    .. versionchanged:: 1.3.0\n",
       "\n",
       "See Also\n",
       "--------\n",
       "DataFrame.from_records : Constructor from tuples, also record arrays.\n",
       "DataFrame.from_dict : From dicts of Series, arrays, or dicts.\n",
       "read_csv : Read a comma-separated values (csv) file into DataFrame.\n",
       "read_table : Read general delimited file into DataFrame.\n",
       "read_clipboard : Read text from clipboard into DataFrame.\n",
       "\n",
       "Notes\n",
       "-----\n",
       "Please reference the :ref:`User Guide &lt;basics.dataframe&gt;` for more information.\n",
       "\n",
       "Examples\n",
       "--------\n",
       "Constructing DataFrame from a dictionary.\n",
       "\n",
       "&gt;&gt;&gt; d = {&#x27;col1&#x27;: [1, 2], &#x27;col2&#x27;: [3, 4]}\n",
       "&gt;&gt;&gt; df = pd.DataFrame(data=d)\n",
       "&gt;&gt;&gt; df\n",
       "   col1  col2\n",
       "0     1     3\n",
       "1     2     4\n",
       "\n",
       "Notice that the inferred dtype is int64.\n",
       "\n",
       "&gt;&gt;&gt; df.dtypes\n",
       "col1    int64\n",
       "col2    int64\n",
       "dtype: object\n",
       "\n",
       "To enforce a single dtype:\n",
       "\n",
       "&gt;&gt;&gt; df = pd.DataFrame(data=d, dtype=np.int8)\n",
       "&gt;&gt;&gt; df.dtypes\n",
       "col1    int8\n",
       "col2    int8\n",
       "dtype: object\n",
       "\n",
       "Constructing DataFrame from a dictionary including Series:\n",
       "\n",
       "&gt;&gt;&gt; d = {&#x27;col1&#x27;: [0, 1, 2, 3], &#x27;col2&#x27;: pd.Series([2, 3], index=[2, 3])}\n",
       "&gt;&gt;&gt; pd.DataFrame(data=d, index=[0, 1, 2, 3])\n",
       "   col1  col2\n",
       "0     0   NaN\n",
       "1     1   NaN\n",
       "2     2   2.0\n",
       "3     3   3.0\n",
       "\n",
       "Constructing DataFrame from numpy ndarray:\n",
       "\n",
       "&gt;&gt;&gt; df2 = pd.DataFrame(np.array([[1, 2, 3], [4, 5, 6], [7, 8, 9]]),\n",
       "...                    columns=[&#x27;a&#x27;, &#x27;b&#x27;, &#x27;c&#x27;])\n",
       "&gt;&gt;&gt; df2\n",
       "   a  b  c\n",
       "0  1  2  3\n",
       "1  4  5  6\n",
       "2  7  8  9\n",
       "\n",
       "Constructing DataFrame from a numpy ndarray that has labeled columns:\n",
       "\n",
       "&gt;&gt;&gt; data = np.array([(1, 2, 3), (4, 5, 6), (7, 8, 9)],\n",
       "...                 dtype=[(&quot;a&quot;, &quot;i4&quot;), (&quot;b&quot;, &quot;i4&quot;), (&quot;c&quot;, &quot;i4&quot;)])\n",
       "&gt;&gt;&gt; df3 = pd.DataFrame(data, columns=[&#x27;c&#x27;, &#x27;a&#x27;])\n",
       "...\n",
       "&gt;&gt;&gt; df3\n",
       "   c  a\n",
       "0  3  1\n",
       "1  6  4\n",
       "2  9  7\n",
       "\n",
       "Constructing DataFrame from dataclass:\n",
       "\n",
       "&gt;&gt;&gt; from dataclasses import make_dataclass\n",
       "&gt;&gt;&gt; Point = make_dataclass(&quot;Point&quot;, [(&quot;x&quot;, int), (&quot;y&quot;, int)])\n",
       "&gt;&gt;&gt; pd.DataFrame([Point(0, 0), Point(0, 3), Point(2, 3)])\n",
       "   x  y\n",
       "0  0  0\n",
       "1  0  3\n",
       "2  2  3\n",
       "\n",
       "Constructing DataFrame from Series/DataFrame:\n",
       "\n",
       "&gt;&gt;&gt; ser = pd.Series([1, 2, 3], index=[&quot;a&quot;, &quot;b&quot;, &quot;c&quot;])\n",
       "&gt;&gt;&gt; df = pd.DataFrame(data=ser, index=[&quot;a&quot;, &quot;c&quot;])\n",
       "&gt;&gt;&gt; df\n",
       "   0\n",
       "a  1\n",
       "c  3\n",
       "\n",
       "&gt;&gt;&gt; df1 = pd.DataFrame([1, 2, 3], index=[&quot;a&quot;, &quot;b&quot;, &quot;c&quot;], columns=[&quot;x&quot;])\n",
       "&gt;&gt;&gt; df2 = pd.DataFrame(data=df1, index=[&quot;a&quot;, &quot;c&quot;])\n",
       "&gt;&gt;&gt; df2\n",
       "   x\n",
       "a  1\n",
       "c  3</pre>\n",
       "      <script>\n",
       "      if (google.colab.kernel.accessAllowed && google.colab.files && google.colab.files.view) {\n",
       "        for (const element of document.querySelectorAll('.filepath')) {\n",
       "          element.style.display = 'block'\n",
       "          element.onclick = (event) => {\n",
       "            event.preventDefault();\n",
       "            event.stopPropagation();\n",
       "            google.colab.files.view(element.textContent, 509);\n",
       "          };\n",
       "        }\n",
       "      }\n",
       "      for (const element of document.querySelectorAll('.function-repr-contents')) {\n",
       "        element.onclick = (event) => {\n",
       "          event.preventDefault();\n",
       "          event.stopPropagation();\n",
       "          element.classList.toggle('function-repr-contents-collapsed');\n",
       "        };\n",
       "      }\n",
       "      </script>\n",
       "      </div>"
      ],
      "text/plain": [
       "pandas.core.frame.DataFrame"
      ]
     },
     "execution_count": 220,
     "metadata": {},
     "output_type": "execute_result"
    }
   ],
   "source": [
    "type(dataset)"
   ]
  },
  {
   "cell_type": "code",
   "execution_count": 221,
   "id": "YKod2vmgw3lF",
   "metadata": {
    "colab": {
     "base_uri": "https://localhost:8080/",
     "height": 398
    },
    "executionInfo": {
     "elapsed": 454,
     "status": "ok",
     "timestamp": 1754065018080,
     "user": {
      "displayName": "Jorvany Nelson",
      "userId": "15494697462108672179"
     },
     "user_tz": -120
    },
    "id": "YKod2vmgw3lF",
    "outputId": "a9f96b90-3229-4bc9-99c7-b56c9ec02caa"
   },
   "outputs": [
    {
     "data": {
      "text/html": [
       "<div>\n",
       "<style scoped>\n",
       "    .dataframe tbody tr th:only-of-type {\n",
       "        vertical-align: middle;\n",
       "    }\n",
       "\n",
       "    .dataframe tbody tr th {\n",
       "        vertical-align: top;\n",
       "    }\n",
       "\n",
       "    .dataframe thead th {\n",
       "        text-align: right;\n",
       "    }\n",
       "</style>\n",
       "<table border=\"1\" class=\"dataframe\">\n",
       "  <thead>\n",
       "    <tr style=\"text-align: right;\">\n",
       "      <th></th>\n",
       "      <th>0</th>\n",
       "    </tr>\n",
       "  </thead>\n",
       "  <tbody>\n",
       "    <tr>\n",
       "      <th>Index</th>\n",
       "      <td>False</td>\n",
       "    </tr>\n",
       "    <tr>\n",
       "      <th>Arrival_Time</th>\n",
       "      <td>False</td>\n",
       "    </tr>\n",
       "    <tr>\n",
       "      <th>Creation_Time</th>\n",
       "      <td>False</td>\n",
       "    </tr>\n",
       "    <tr>\n",
       "      <th>x</th>\n",
       "      <td>False</td>\n",
       "    </tr>\n",
       "    <tr>\n",
       "      <th>y</th>\n",
       "      <td>False</td>\n",
       "    </tr>\n",
       "    <tr>\n",
       "      <th>z</th>\n",
       "      <td>False</td>\n",
       "    </tr>\n",
       "    <tr>\n",
       "      <th>User</th>\n",
       "      <td>False</td>\n",
       "    </tr>\n",
       "    <tr>\n",
       "      <th>Model</th>\n",
       "      <td>False</td>\n",
       "    </tr>\n",
       "    <tr>\n",
       "      <th>Device</th>\n",
       "      <td>False</td>\n",
       "    </tr>\n",
       "    <tr>\n",
       "      <th>gt</th>\n",
       "      <td>True</td>\n",
       "    </tr>\n",
       "  </tbody>\n",
       "</table>\n",
       "</div><br><label><b>dtype:</b> bool</label>"
      ],
      "text/plain": [
       "Index            False\n",
       "Arrival_Time     False\n",
       "Creation_Time    False\n",
       "x                False\n",
       "y                False\n",
       "z                False\n",
       "User             False\n",
       "Model            False\n",
       "Device           False\n",
       "gt                True\n",
       "dtype: bool"
      ]
     },
     "execution_count": 221,
     "metadata": {},
     "output_type": "execute_result"
    }
   ],
   "source": [
    "# Check if the is any null value present\n",
    "dataset.isnull().any()"
   ]
  },
  {
   "cell_type": "markdown",
   "id": "PYO6QwTbxZo1",
   "metadata": {
    "id": "PYO6QwTbxZo1"
   },
   "source": [
    "- We can see that we have null where its \"True\", since we have many samples we can easily drop those rows."
   ]
  },
  {
   "cell_type": "code",
   "execution_count": 222,
   "id": "hplbuA-Hxujm",
   "metadata": {
    "executionInfo": {
     "elapsed": 667,
     "status": "ok",
     "timestamp": 1754065018746,
     "user": {
      "displayName": "Jorvany Nelson",
      "userId": "15494697462108672179"
     },
     "user_tz": -120
    },
    "id": "hplbuA-Hxujm"
   },
   "outputs": [],
   "source": [
    "# Dropping the nan values\n",
    "dataset.dropna(inplace = True)"
   ]
  },
  {
   "cell_type": "code",
   "execution_count": 223,
   "id": "OYa82aedyAy_",
   "metadata": {
    "colab": {
     "base_uri": "https://localhost:8080/",
     "height": 398
    },
    "executionInfo": {
     "elapsed": 405,
     "status": "ok",
     "timestamp": 1754065019147,
     "user": {
      "displayName": "Jorvany Nelson",
      "userId": "15494697462108672179"
     },
     "user_tz": -120
    },
    "id": "OYa82aedyAy_",
    "outputId": "e884f865-5780-4cd7-c458-4c0cbded3245"
   },
   "outputs": [
    {
     "data": {
      "text/html": [
       "<div>\n",
       "<style scoped>\n",
       "    .dataframe tbody tr th:only-of-type {\n",
       "        vertical-align: middle;\n",
       "    }\n",
       "\n",
       "    .dataframe tbody tr th {\n",
       "        vertical-align: top;\n",
       "    }\n",
       "\n",
       "    .dataframe thead th {\n",
       "        text-align: right;\n",
       "    }\n",
       "</style>\n",
       "<table border=\"1\" class=\"dataframe\">\n",
       "  <thead>\n",
       "    <tr style=\"text-align: right;\">\n",
       "      <th></th>\n",
       "      <th>0</th>\n",
       "    </tr>\n",
       "  </thead>\n",
       "  <tbody>\n",
       "    <tr>\n",
       "      <th>Index</th>\n",
       "      <td>False</td>\n",
       "    </tr>\n",
       "    <tr>\n",
       "      <th>Arrival_Time</th>\n",
       "      <td>False</td>\n",
       "    </tr>\n",
       "    <tr>\n",
       "      <th>Creation_Time</th>\n",
       "      <td>False</td>\n",
       "    </tr>\n",
       "    <tr>\n",
       "      <th>x</th>\n",
       "      <td>False</td>\n",
       "    </tr>\n",
       "    <tr>\n",
       "      <th>y</th>\n",
       "      <td>False</td>\n",
       "    </tr>\n",
       "    <tr>\n",
       "      <th>z</th>\n",
       "      <td>False</td>\n",
       "    </tr>\n",
       "    <tr>\n",
       "      <th>User</th>\n",
       "      <td>False</td>\n",
       "    </tr>\n",
       "    <tr>\n",
       "      <th>Model</th>\n",
       "      <td>False</td>\n",
       "    </tr>\n",
       "    <tr>\n",
       "      <th>Device</th>\n",
       "      <td>False</td>\n",
       "    </tr>\n",
       "    <tr>\n",
       "      <th>gt</th>\n",
       "      <td>False</td>\n",
       "    </tr>\n",
       "  </tbody>\n",
       "</table>\n",
       "</div><br><label><b>dtype:</b> bool</label>"
      ],
      "text/plain": [
       "Index            False\n",
       "Arrival_Time     False\n",
       "Creation_Time    False\n",
       "x                False\n",
       "y                False\n",
       "z                False\n",
       "User             False\n",
       "Model            False\n",
       "Device           False\n",
       "gt               False\n",
       "dtype: bool"
      ]
     },
     "execution_count": 223,
     "metadata": {},
     "output_type": "execute_result"
    }
   ],
   "source": [
    "# Checking the null values again\n",
    "dataset.isnull().any()"
   ]
  },
  {
   "cell_type": "markdown",
   "id": "LTqAps-MyOG3",
   "metadata": {
    "id": "LTqAps-MyOG3"
   },
   "source": [
    "- We don't not have null values anylonger."
   ]
  },
  {
   "cell_type": "code",
   "execution_count": 224,
   "id": "sEs-V9LWydMg",
   "metadata": {
    "executionInfo": {
     "elapsed": 57,
     "status": "ok",
     "timestamp": 1754065019206,
     "user": {
      "displayName": "Jorvany Nelson",
      "userId": "15494697462108672179"
     },
     "user_tz": -120
    },
    "id": "sEs-V9LWydMg"
   },
   "outputs": [],
   "source": [
    "# Extracting the important data i.e. X, Y, Z, gt and dropping the rest\n",
    "har = dataset[['x','y','z','gt']]          # <= har: Human Action Recognition\n",
    "                                           # <= gt: is the label"
   ]
  },
  {
   "cell_type": "code",
   "execution_count": 225,
   "id": "jcPKJ21O0kAt",
   "metadata": {
    "colab": {
     "base_uri": "https://localhost:8080/",
     "height": 206
    },
    "executionInfo": {
     "elapsed": 5,
     "status": "ok",
     "timestamp": 1754065019235,
     "user": {
      "displayName": "Jorvany Nelson",
      "userId": "15494697462108672179"
     },
     "user_tz": -120
    },
    "id": "jcPKJ21O0kAt",
    "outputId": "e174c882-d1d6-4ee8-951e-0642dce171b6"
   },
   "outputs": [
    {
     "data": {
      "application/vnd.google.colaboratory.intrinsic+json": {
       "type": "dataframe",
       "variable_name": "har"
      },
      "text/html": [
       "\n",
       "  <div id=\"df-a2a56427-3923-4a81-8144-c6f97307b99e\" class=\"colab-df-container\">\n",
       "    <div>\n",
       "<style scoped>\n",
       "    .dataframe tbody tr th:only-of-type {\n",
       "        vertical-align: middle;\n",
       "    }\n",
       "\n",
       "    .dataframe tbody tr th {\n",
       "        vertical-align: top;\n",
       "    }\n",
       "\n",
       "    .dataframe thead th {\n",
       "        text-align: right;\n",
       "    }\n",
       "</style>\n",
       "<table border=\"1\" class=\"dataframe\">\n",
       "  <thead>\n",
       "    <tr style=\"text-align: right;\">\n",
       "      <th></th>\n",
       "      <th>x</th>\n",
       "      <th>y</th>\n",
       "      <th>z</th>\n",
       "      <th>gt</th>\n",
       "    </tr>\n",
       "  </thead>\n",
       "  <tbody>\n",
       "    <tr>\n",
       "      <th>0</th>\n",
       "      <td>-0.565032</td>\n",
       "      <td>-9.572019</td>\n",
       "      <td>-0.614113</td>\n",
       "      <td>stand</td>\n",
       "    </tr>\n",
       "    <tr>\n",
       "      <th>1</th>\n",
       "      <td>-0.832584</td>\n",
       "      <td>-9.713276</td>\n",
       "      <td>-0.606930</td>\n",
       "      <td>stand</td>\n",
       "    </tr>\n",
       "    <tr>\n",
       "      <th>2</th>\n",
       "      <td>-1.018134</td>\n",
       "      <td>-9.935339</td>\n",
       "      <td>-0.544082</td>\n",
       "      <td>stand</td>\n",
       "    </tr>\n",
       "    <tr>\n",
       "      <th>3</th>\n",
       "      <td>-1.222838</td>\n",
       "      <td>-10.142437</td>\n",
       "      <td>-0.566229</td>\n",
       "      <td>stand</td>\n",
       "    </tr>\n",
       "    <tr>\n",
       "      <th>4</th>\n",
       "      <td>-1.577180</td>\n",
       "      <td>-10.480618</td>\n",
       "      <td>-0.402824</td>\n",
       "      <td>stand</td>\n",
       "    </tr>\n",
       "  </tbody>\n",
       "</table>\n",
       "</div>\n",
       "    <div class=\"colab-df-buttons\">\n",
       "\n",
       "  <div class=\"colab-df-container\">\n",
       "    <button class=\"colab-df-convert\" onclick=\"convertToInteractive('df-a2a56427-3923-4a81-8144-c6f97307b99e')\"\n",
       "            title=\"Convert this dataframe to an interactive table.\"\n",
       "            style=\"display:none;\">\n",
       "\n",
       "  <svg xmlns=\"http://www.w3.org/2000/svg\" height=\"24px\" viewBox=\"0 -960 960 960\">\n",
       "    <path d=\"M120-120v-720h720v720H120Zm60-500h600v-160H180v160Zm220 220h160v-160H400v160Zm0 220h160v-160H400v160ZM180-400h160v-160H180v160Zm440 0h160v-160H620v160ZM180-180h160v-160H180v160Zm440 0h160v-160H620v160Z\"/>\n",
       "  </svg>\n",
       "    </button>\n",
       "\n",
       "  <style>\n",
       "    .colab-df-container {\n",
       "      display:flex;\n",
       "      gap: 12px;\n",
       "    }\n",
       "\n",
       "    .colab-df-convert {\n",
       "      background-color: #E8F0FE;\n",
       "      border: none;\n",
       "      border-radius: 50%;\n",
       "      cursor: pointer;\n",
       "      display: none;\n",
       "      fill: #1967D2;\n",
       "      height: 32px;\n",
       "      padding: 0 0 0 0;\n",
       "      width: 32px;\n",
       "    }\n",
       "\n",
       "    .colab-df-convert:hover {\n",
       "      background-color: #E2EBFA;\n",
       "      box-shadow: 0px 1px 2px rgba(60, 64, 67, 0.3), 0px 1px 3px 1px rgba(60, 64, 67, 0.15);\n",
       "      fill: #174EA6;\n",
       "    }\n",
       "\n",
       "    .colab-df-buttons div {\n",
       "      margin-bottom: 4px;\n",
       "    }\n",
       "\n",
       "    [theme=dark] .colab-df-convert {\n",
       "      background-color: #3B4455;\n",
       "      fill: #D2E3FC;\n",
       "    }\n",
       "\n",
       "    [theme=dark] .colab-df-convert:hover {\n",
       "      background-color: #434B5C;\n",
       "      box-shadow: 0px 1px 3px 1px rgba(0, 0, 0, 0.15);\n",
       "      filter: drop-shadow(0px 1px 2px rgba(0, 0, 0, 0.3));\n",
       "      fill: #FFFFFF;\n",
       "    }\n",
       "  </style>\n",
       "\n",
       "    <script>\n",
       "      const buttonEl =\n",
       "        document.querySelector('#df-a2a56427-3923-4a81-8144-c6f97307b99e button.colab-df-convert');\n",
       "      buttonEl.style.display =\n",
       "        google.colab.kernel.accessAllowed ? 'block' : 'none';\n",
       "\n",
       "      async function convertToInteractive(key) {\n",
       "        const element = document.querySelector('#df-a2a56427-3923-4a81-8144-c6f97307b99e');\n",
       "        const dataTable =\n",
       "          await google.colab.kernel.invokeFunction('convertToInteractive',\n",
       "                                                    [key], {});\n",
       "        if (!dataTable) return;\n",
       "\n",
       "        const docLinkHtml = 'Like what you see? Visit the ' +\n",
       "          '<a target=\"_blank\" href=https://colab.research.google.com/notebooks/data_table.ipynb>data table notebook</a>'\n",
       "          + ' to learn more about interactive tables.';\n",
       "        element.innerHTML = '';\n",
       "        dataTable['output_type'] = 'display_data';\n",
       "        await google.colab.output.renderOutput(dataTable, element);\n",
       "        const docLink = document.createElement('div');\n",
       "        docLink.innerHTML = docLinkHtml;\n",
       "        element.appendChild(docLink);\n",
       "      }\n",
       "    </script>\n",
       "  </div>\n",
       "\n",
       "\n",
       "    <div id=\"df-ea3cece5-4f17-4ab0-869f-c9ce38f18937\">\n",
       "      <button class=\"colab-df-quickchart\" onclick=\"quickchart('df-ea3cece5-4f17-4ab0-869f-c9ce38f18937')\"\n",
       "                title=\"Suggest charts\"\n",
       "                style=\"display:none;\">\n",
       "\n",
       "<svg xmlns=\"http://www.w3.org/2000/svg\" height=\"24px\"viewBox=\"0 0 24 24\"\n",
       "     width=\"24px\">\n",
       "    <g>\n",
       "        <path d=\"M19 3H5c-1.1 0-2 .9-2 2v14c0 1.1.9 2 2 2h14c1.1 0 2-.9 2-2V5c0-1.1-.9-2-2-2zM9 17H7v-7h2v7zm4 0h-2V7h2v10zm4 0h-2v-4h2v4z\"/>\n",
       "    </g>\n",
       "</svg>\n",
       "      </button>\n",
       "\n",
       "<style>\n",
       "  .colab-df-quickchart {\n",
       "      --bg-color: #E8F0FE;\n",
       "      --fill-color: #1967D2;\n",
       "      --hover-bg-color: #E2EBFA;\n",
       "      --hover-fill-color: #174EA6;\n",
       "      --disabled-fill-color: #AAA;\n",
       "      --disabled-bg-color: #DDD;\n",
       "  }\n",
       "\n",
       "  [theme=dark] .colab-df-quickchart {\n",
       "      --bg-color: #3B4455;\n",
       "      --fill-color: #D2E3FC;\n",
       "      --hover-bg-color: #434B5C;\n",
       "      --hover-fill-color: #FFFFFF;\n",
       "      --disabled-bg-color: #3B4455;\n",
       "      --disabled-fill-color: #666;\n",
       "  }\n",
       "\n",
       "  .colab-df-quickchart {\n",
       "    background-color: var(--bg-color);\n",
       "    border: none;\n",
       "    border-radius: 50%;\n",
       "    cursor: pointer;\n",
       "    display: none;\n",
       "    fill: var(--fill-color);\n",
       "    height: 32px;\n",
       "    padding: 0;\n",
       "    width: 32px;\n",
       "  }\n",
       "\n",
       "  .colab-df-quickchart:hover {\n",
       "    background-color: var(--hover-bg-color);\n",
       "    box-shadow: 0 1px 2px rgba(60, 64, 67, 0.3), 0 1px 3px 1px rgba(60, 64, 67, 0.15);\n",
       "    fill: var(--button-hover-fill-color);\n",
       "  }\n",
       "\n",
       "  .colab-df-quickchart-complete:disabled,\n",
       "  .colab-df-quickchart-complete:disabled:hover {\n",
       "    background-color: var(--disabled-bg-color);\n",
       "    fill: var(--disabled-fill-color);\n",
       "    box-shadow: none;\n",
       "  }\n",
       "\n",
       "  .colab-df-spinner {\n",
       "    border: 2px solid var(--fill-color);\n",
       "    border-color: transparent;\n",
       "    border-bottom-color: var(--fill-color);\n",
       "    animation:\n",
       "      spin 1s steps(1) infinite;\n",
       "  }\n",
       "\n",
       "  @keyframes spin {\n",
       "    0% {\n",
       "      border-color: transparent;\n",
       "      border-bottom-color: var(--fill-color);\n",
       "      border-left-color: var(--fill-color);\n",
       "    }\n",
       "    20% {\n",
       "      border-color: transparent;\n",
       "      border-left-color: var(--fill-color);\n",
       "      border-top-color: var(--fill-color);\n",
       "    }\n",
       "    30% {\n",
       "      border-color: transparent;\n",
       "      border-left-color: var(--fill-color);\n",
       "      border-top-color: var(--fill-color);\n",
       "      border-right-color: var(--fill-color);\n",
       "    }\n",
       "    40% {\n",
       "      border-color: transparent;\n",
       "      border-right-color: var(--fill-color);\n",
       "      border-top-color: var(--fill-color);\n",
       "    }\n",
       "    60% {\n",
       "      border-color: transparent;\n",
       "      border-right-color: var(--fill-color);\n",
       "    }\n",
       "    80% {\n",
       "      border-color: transparent;\n",
       "      border-right-color: var(--fill-color);\n",
       "      border-bottom-color: var(--fill-color);\n",
       "    }\n",
       "    90% {\n",
       "      border-color: transparent;\n",
       "      border-bottom-color: var(--fill-color);\n",
       "    }\n",
       "  }\n",
       "</style>\n",
       "\n",
       "      <script>\n",
       "        async function quickchart(key) {\n",
       "          const quickchartButtonEl =\n",
       "            document.querySelector('#' + key + ' button');\n",
       "          quickchartButtonEl.disabled = true;  // To prevent multiple clicks.\n",
       "          quickchartButtonEl.classList.add('colab-df-spinner');\n",
       "          try {\n",
       "            const charts = await google.colab.kernel.invokeFunction(\n",
       "                'suggestCharts', [key], {});\n",
       "          } catch (error) {\n",
       "            console.error('Error during call to suggestCharts:', error);\n",
       "          }\n",
       "          quickchartButtonEl.classList.remove('colab-df-spinner');\n",
       "          quickchartButtonEl.classList.add('colab-df-quickchart-complete');\n",
       "        }\n",
       "        (() => {\n",
       "          let quickchartButtonEl =\n",
       "            document.querySelector('#df-ea3cece5-4f17-4ab0-869f-c9ce38f18937 button');\n",
       "          quickchartButtonEl.style.display =\n",
       "            google.colab.kernel.accessAllowed ? 'block' : 'none';\n",
       "        })();\n",
       "      </script>\n",
       "    </div>\n",
       "\n",
       "    </div>\n",
       "  </div>\n"
      ],
      "text/plain": [
       "          x          y         z     gt\n",
       "0 -0.565032  -9.572019 -0.614113  stand\n",
       "1 -0.832584  -9.713276 -0.606930  stand\n",
       "2 -1.018134  -9.935339 -0.544082  stand\n",
       "3 -1.222838 -10.142437 -0.566229  stand\n",
       "4 -1.577180 -10.480618 -0.402824  stand"
      ]
     },
     "execution_count": 225,
     "metadata": {},
     "output_type": "execute_result"
    }
   ],
   "source": [
    "# Checking the head of the data, if data were succefully extracted\n",
    "har.head()"
   ]
  },
  {
   "cell_type": "code",
   "execution_count": 226,
   "id": "tU0a77r61Quz",
   "metadata": {
    "colab": {
     "base_uri": "https://localhost:8080/"
    },
    "executionInfo": {
     "elapsed": 89,
     "status": "ok",
     "timestamp": 1754065019329,
     "user": {
      "displayName": "Jorvany Nelson",
      "userId": "15494697462108672179"
     },
     "user_tz": -120
    },
    "id": "tU0a77r61Quz",
    "outputId": "91df483b-d7a5-4c1b-99b7-d6b2b15daf9a"
   },
   "outputs": [
    {
     "data": {
      "text/plain": [
       "array(['stand', 'sit', 'walk', 'stairsup', 'stairsdown', 'bike'],\n",
       "      dtype=object)"
      ]
     },
     "execution_count": 226,
     "metadata": {},
     "output_type": "execute_result"
    }
   ],
   "source": [
    "# Let's see uniques labels present in gt\n",
    "har['gt'].unique()"
   ]
  },
  {
   "cell_type": "code",
   "execution_count": 227,
   "id": "F-io3nWf1vpw",
   "metadata": {
    "colab": {
     "base_uri": "https://localhost:8080/"
    },
    "executionInfo": {
     "elapsed": 61,
     "status": "ok",
     "timestamp": 1754065019415,
     "user": {
      "displayName": "Jorvany Nelson",
      "userId": "15494697462108672179"
     },
     "user_tz": -120
    },
    "id": "F-io3nWf1vpw",
    "outputId": "f2a638d1-75e1-4f44-a03b-eddc4b2460fe"
   },
   "outputs": [
    {
     "data": {
      "text/plain": [
       "6"
      ]
     },
     "execution_count": 227,
     "metadata": {},
     "output_type": "execute_result"
    }
   ],
   "source": [
    "# number of labels\n",
    "number_class = len(har['gt'].unique())\n",
    "\n",
    "number_class"
   ]
  },
  {
   "cell_type": "code",
   "execution_count": 228,
   "id": "hpErsuYS23eS",
   "metadata": {
    "executionInfo": {
     "elapsed": 197,
     "status": "ok",
     "timestamp": 1754065019614,
     "user": {
      "displayName": "Jorvany Nelson",
      "userId": "15494697462108672179"
     },
     "user_tz": -120
    },
    "id": "hpErsuYS23eS"
   },
   "outputs": [],
   "source": [
    "# Storng all the stand labels in the variable stand\n",
    "stand = har[har['gt'] == 'stand']"
   ]
  },
  {
   "cell_type": "code",
   "execution_count": 229,
   "id": "FDWlMvIs3O4i",
   "metadata": {
    "colab": {
     "base_uri": "https://localhost:8080/",
     "height": 206
    },
    "executionInfo": {
     "elapsed": 10,
     "status": "ok",
     "timestamp": 1754065019627,
     "user": {
      "displayName": "Jorvany Nelson",
      "userId": "15494697462108672179"
     },
     "user_tz": -120
    },
    "id": "FDWlMvIs3O4i",
    "outputId": "b952b2d5-c534-4c30-ae22-e1c3e310feb0"
   },
   "outputs": [
    {
     "data": {
      "application/vnd.google.colaboratory.intrinsic+json": {
       "type": "dataframe",
       "variable_name": "stand"
      },
      "text/html": [
       "\n",
       "  <div id=\"df-46117f7b-f7d1-42ab-80d5-3c3d8ea2acf7\" class=\"colab-df-container\">\n",
       "    <div>\n",
       "<style scoped>\n",
       "    .dataframe tbody tr th:only-of-type {\n",
       "        vertical-align: middle;\n",
       "    }\n",
       "\n",
       "    .dataframe tbody tr th {\n",
       "        vertical-align: top;\n",
       "    }\n",
       "\n",
       "    .dataframe thead th {\n",
       "        text-align: right;\n",
       "    }\n",
       "</style>\n",
       "<table border=\"1\" class=\"dataframe\">\n",
       "  <thead>\n",
       "    <tr style=\"text-align: right;\">\n",
       "      <th></th>\n",
       "      <th>x</th>\n",
       "      <th>y</th>\n",
       "      <th>z</th>\n",
       "      <th>gt</th>\n",
       "    </tr>\n",
       "  </thead>\n",
       "  <tbody>\n",
       "    <tr>\n",
       "      <th>0</th>\n",
       "      <td>-0.565032</td>\n",
       "      <td>-9.572019</td>\n",
       "      <td>-0.614113</td>\n",
       "      <td>stand</td>\n",
       "    </tr>\n",
       "    <tr>\n",
       "      <th>1</th>\n",
       "      <td>-0.832584</td>\n",
       "      <td>-9.713276</td>\n",
       "      <td>-0.606930</td>\n",
       "      <td>stand</td>\n",
       "    </tr>\n",
       "    <tr>\n",
       "      <th>2</th>\n",
       "      <td>-1.018134</td>\n",
       "      <td>-9.935339</td>\n",
       "      <td>-0.544082</td>\n",
       "      <td>stand</td>\n",
       "    </tr>\n",
       "    <tr>\n",
       "      <th>3</th>\n",
       "      <td>-1.222838</td>\n",
       "      <td>-10.142437</td>\n",
       "      <td>-0.566229</td>\n",
       "      <td>stand</td>\n",
       "    </tr>\n",
       "    <tr>\n",
       "      <th>4</th>\n",
       "      <td>-1.577180</td>\n",
       "      <td>-10.480618</td>\n",
       "      <td>-0.402824</td>\n",
       "      <td>stand</td>\n",
       "    </tr>\n",
       "  </tbody>\n",
       "</table>\n",
       "</div>\n",
       "    <div class=\"colab-df-buttons\">\n",
       "\n",
       "  <div class=\"colab-df-container\">\n",
       "    <button class=\"colab-df-convert\" onclick=\"convertToInteractive('df-46117f7b-f7d1-42ab-80d5-3c3d8ea2acf7')\"\n",
       "            title=\"Convert this dataframe to an interactive table.\"\n",
       "            style=\"display:none;\">\n",
       "\n",
       "  <svg xmlns=\"http://www.w3.org/2000/svg\" height=\"24px\" viewBox=\"0 -960 960 960\">\n",
       "    <path d=\"M120-120v-720h720v720H120Zm60-500h600v-160H180v160Zm220 220h160v-160H400v160Zm0 220h160v-160H400v160ZM180-400h160v-160H180v160Zm440 0h160v-160H620v160ZM180-180h160v-160H180v160Zm440 0h160v-160H620v160Z\"/>\n",
       "  </svg>\n",
       "    </button>\n",
       "\n",
       "  <style>\n",
       "    .colab-df-container {\n",
       "      display:flex;\n",
       "      gap: 12px;\n",
       "    }\n",
       "\n",
       "    .colab-df-convert {\n",
       "      background-color: #E8F0FE;\n",
       "      border: none;\n",
       "      border-radius: 50%;\n",
       "      cursor: pointer;\n",
       "      display: none;\n",
       "      fill: #1967D2;\n",
       "      height: 32px;\n",
       "      padding: 0 0 0 0;\n",
       "      width: 32px;\n",
       "    }\n",
       "\n",
       "    .colab-df-convert:hover {\n",
       "      background-color: #E2EBFA;\n",
       "      box-shadow: 0px 1px 2px rgba(60, 64, 67, 0.3), 0px 1px 3px 1px rgba(60, 64, 67, 0.15);\n",
       "      fill: #174EA6;\n",
       "    }\n",
       "\n",
       "    .colab-df-buttons div {\n",
       "      margin-bottom: 4px;\n",
       "    }\n",
       "\n",
       "    [theme=dark] .colab-df-convert {\n",
       "      background-color: #3B4455;\n",
       "      fill: #D2E3FC;\n",
       "    }\n",
       "\n",
       "    [theme=dark] .colab-df-convert:hover {\n",
       "      background-color: #434B5C;\n",
       "      box-shadow: 0px 1px 3px 1px rgba(0, 0, 0, 0.15);\n",
       "      filter: drop-shadow(0px 1px 2px rgba(0, 0, 0, 0.3));\n",
       "      fill: #FFFFFF;\n",
       "    }\n",
       "  </style>\n",
       "\n",
       "    <script>\n",
       "      const buttonEl =\n",
       "        document.querySelector('#df-46117f7b-f7d1-42ab-80d5-3c3d8ea2acf7 button.colab-df-convert');\n",
       "      buttonEl.style.display =\n",
       "        google.colab.kernel.accessAllowed ? 'block' : 'none';\n",
       "\n",
       "      async function convertToInteractive(key) {\n",
       "        const element = document.querySelector('#df-46117f7b-f7d1-42ab-80d5-3c3d8ea2acf7');\n",
       "        const dataTable =\n",
       "          await google.colab.kernel.invokeFunction('convertToInteractive',\n",
       "                                                    [key], {});\n",
       "        if (!dataTable) return;\n",
       "\n",
       "        const docLinkHtml = 'Like what you see? Visit the ' +\n",
       "          '<a target=\"_blank\" href=https://colab.research.google.com/notebooks/data_table.ipynb>data table notebook</a>'\n",
       "          + ' to learn more about interactive tables.';\n",
       "        element.innerHTML = '';\n",
       "        dataTable['output_type'] = 'display_data';\n",
       "        await google.colab.output.renderOutput(dataTable, element);\n",
       "        const docLink = document.createElement('div');\n",
       "        docLink.innerHTML = docLinkHtml;\n",
       "        element.appendChild(docLink);\n",
       "      }\n",
       "    </script>\n",
       "  </div>\n",
       "\n",
       "\n",
       "    <div id=\"df-8e1c57a9-210f-4bda-ad0b-126fe320d800\">\n",
       "      <button class=\"colab-df-quickchart\" onclick=\"quickchart('df-8e1c57a9-210f-4bda-ad0b-126fe320d800')\"\n",
       "                title=\"Suggest charts\"\n",
       "                style=\"display:none;\">\n",
       "\n",
       "<svg xmlns=\"http://www.w3.org/2000/svg\" height=\"24px\"viewBox=\"0 0 24 24\"\n",
       "     width=\"24px\">\n",
       "    <g>\n",
       "        <path d=\"M19 3H5c-1.1 0-2 .9-2 2v14c0 1.1.9 2 2 2h14c1.1 0 2-.9 2-2V5c0-1.1-.9-2-2-2zM9 17H7v-7h2v7zm4 0h-2V7h2v10zm4 0h-2v-4h2v4z\"/>\n",
       "    </g>\n",
       "</svg>\n",
       "      </button>\n",
       "\n",
       "<style>\n",
       "  .colab-df-quickchart {\n",
       "      --bg-color: #E8F0FE;\n",
       "      --fill-color: #1967D2;\n",
       "      --hover-bg-color: #E2EBFA;\n",
       "      --hover-fill-color: #174EA6;\n",
       "      --disabled-fill-color: #AAA;\n",
       "      --disabled-bg-color: #DDD;\n",
       "  }\n",
       "\n",
       "  [theme=dark] .colab-df-quickchart {\n",
       "      --bg-color: #3B4455;\n",
       "      --fill-color: #D2E3FC;\n",
       "      --hover-bg-color: #434B5C;\n",
       "      --hover-fill-color: #FFFFFF;\n",
       "      --disabled-bg-color: #3B4455;\n",
       "      --disabled-fill-color: #666;\n",
       "  }\n",
       "\n",
       "  .colab-df-quickchart {\n",
       "    background-color: var(--bg-color);\n",
       "    border: none;\n",
       "    border-radius: 50%;\n",
       "    cursor: pointer;\n",
       "    display: none;\n",
       "    fill: var(--fill-color);\n",
       "    height: 32px;\n",
       "    padding: 0;\n",
       "    width: 32px;\n",
       "  }\n",
       "\n",
       "  .colab-df-quickchart:hover {\n",
       "    background-color: var(--hover-bg-color);\n",
       "    box-shadow: 0 1px 2px rgba(60, 64, 67, 0.3), 0 1px 3px 1px rgba(60, 64, 67, 0.15);\n",
       "    fill: var(--button-hover-fill-color);\n",
       "  }\n",
       "\n",
       "  .colab-df-quickchart-complete:disabled,\n",
       "  .colab-df-quickchart-complete:disabled:hover {\n",
       "    background-color: var(--disabled-bg-color);\n",
       "    fill: var(--disabled-fill-color);\n",
       "    box-shadow: none;\n",
       "  }\n",
       "\n",
       "  .colab-df-spinner {\n",
       "    border: 2px solid var(--fill-color);\n",
       "    border-color: transparent;\n",
       "    border-bottom-color: var(--fill-color);\n",
       "    animation:\n",
       "      spin 1s steps(1) infinite;\n",
       "  }\n",
       "\n",
       "  @keyframes spin {\n",
       "    0% {\n",
       "      border-color: transparent;\n",
       "      border-bottom-color: var(--fill-color);\n",
       "      border-left-color: var(--fill-color);\n",
       "    }\n",
       "    20% {\n",
       "      border-color: transparent;\n",
       "      border-left-color: var(--fill-color);\n",
       "      border-top-color: var(--fill-color);\n",
       "    }\n",
       "    30% {\n",
       "      border-color: transparent;\n",
       "      border-left-color: var(--fill-color);\n",
       "      border-top-color: var(--fill-color);\n",
       "      border-right-color: var(--fill-color);\n",
       "    }\n",
       "    40% {\n",
       "      border-color: transparent;\n",
       "      border-right-color: var(--fill-color);\n",
       "      border-top-color: var(--fill-color);\n",
       "    }\n",
       "    60% {\n",
       "      border-color: transparent;\n",
       "      border-right-color: var(--fill-color);\n",
       "    }\n",
       "    80% {\n",
       "      border-color: transparent;\n",
       "      border-right-color: var(--fill-color);\n",
       "      border-bottom-color: var(--fill-color);\n",
       "    }\n",
       "    90% {\n",
       "      border-color: transparent;\n",
       "      border-bottom-color: var(--fill-color);\n",
       "    }\n",
       "  }\n",
       "</style>\n",
       "\n",
       "      <script>\n",
       "        async function quickchart(key) {\n",
       "          const quickchartButtonEl =\n",
       "            document.querySelector('#' + key + ' button');\n",
       "          quickchartButtonEl.disabled = true;  // To prevent multiple clicks.\n",
       "          quickchartButtonEl.classList.add('colab-df-spinner');\n",
       "          try {\n",
       "            const charts = await google.colab.kernel.invokeFunction(\n",
       "                'suggestCharts', [key], {});\n",
       "          } catch (error) {\n",
       "            console.error('Error during call to suggestCharts:', error);\n",
       "          }\n",
       "          quickchartButtonEl.classList.remove('colab-df-spinner');\n",
       "          quickchartButtonEl.classList.add('colab-df-quickchart-complete');\n",
       "        }\n",
       "        (() => {\n",
       "          let quickchartButtonEl =\n",
       "            document.querySelector('#df-8e1c57a9-210f-4bda-ad0b-126fe320d800 button');\n",
       "          quickchartButtonEl.style.display =\n",
       "            google.colab.kernel.accessAllowed ? 'block' : 'none';\n",
       "        })();\n",
       "      </script>\n",
       "    </div>\n",
       "\n",
       "    </div>\n",
       "  </div>\n"
      ],
      "text/plain": [
       "          x          y         z     gt\n",
       "0 -0.565032  -9.572019 -0.614113  stand\n",
       "1 -0.832584  -9.713276 -0.606930  stand\n",
       "2 -1.018134  -9.935339 -0.544082  stand\n",
       "3 -1.222838 -10.142437 -0.566229  stand\n",
       "4 -1.577180 -10.480618 -0.402824  stand"
      ]
     },
     "execution_count": 229,
     "metadata": {},
     "output_type": "execute_result"
    }
   ],
   "source": [
    "stand.head()"
   ]
  },
  {
   "cell_type": "code",
   "execution_count": 230,
   "id": "UhnoAPjh3a6M",
   "metadata": {
    "colab": {
     "base_uri": "https://localhost:8080/"
    },
    "executionInfo": {
     "elapsed": 90,
     "status": "ok",
     "timestamp": 1754065019719,
     "user": {
      "displayName": "Jorvany Nelson",
      "userId": "15494697462108672179"
     },
     "user_tz": -120
    },
    "id": "UhnoAPjh3a6M",
    "outputId": "88fd3ef2-f46e-4653-8c03-b73a27843498"
   },
   "outputs": [
    {
     "data": {
      "text/plain": [
       "(451189, 4)"
      ]
     },
     "execution_count": 230,
     "metadata": {},
     "output_type": "execute_result"
    }
   ],
   "source": [
    "stand.shape"
   ]
  },
  {
   "cell_type": "code",
   "execution_count": 231,
   "id": "siw0T2Xw3a4b",
   "metadata": {
    "executionInfo": {
     "elapsed": 63,
     "status": "ok",
     "timestamp": 1754065019722,
     "user": {
      "displayName": "Jorvany Nelson",
      "userId": "15494697462108672179"
     },
     "user_tz": -120
    },
    "id": "siw0T2Xw3a4b"
   },
   "outputs": [],
   "source": [
    "# Selecting 5000 samples belonging to the stand class\n",
    "stand = stand.iloc[0:5000, :]"
   ]
  },
  {
   "cell_type": "code",
   "execution_count": 232,
   "id": "Ztlocp0G4JDU",
   "metadata": {
    "colab": {
     "base_uri": "https://localhost:8080/"
    },
    "executionInfo": {
     "elapsed": 23,
     "status": "ok",
     "timestamp": 1754065019724,
     "user": {
      "displayName": "Jorvany Nelson",
      "userId": "15494697462108672179"
     },
     "user_tz": -120
    },
    "id": "Ztlocp0G4JDU",
    "outputId": "4c5447fd-af95-4c49-d2c0-74699ff8a04d"
   },
   "outputs": [
    {
     "data": {
      "text/plain": [
       "(5000, 4)"
      ]
     },
     "execution_count": 232,
     "metadata": {},
     "output_type": "execute_result"
    }
   ],
   "source": [
    "stand.shape"
   ]
  },
  {
   "cell_type": "markdown",
   "id": "oE_jd_834YwF",
   "metadata": {
    "id": "oE_jd_834YwF"
   },
   "source": [
    "- Now stand only contains 5000 *samples*"
   ]
  },
  {
   "cell_type": "code",
   "execution_count": 233,
   "id": "p-CgcfjL4N1d",
   "metadata": {
    "colab": {
     "base_uri": "https://localhost:8080/",
     "height": 204
    },
    "executionInfo": {
     "elapsed": 451,
     "status": "ok",
     "timestamp": 1754065020176,
     "user": {
      "displayName": "Jorvany Nelson",
      "userId": "15494697462108672179"
     },
     "user_tz": -120
    },
    "id": "p-CgcfjL4N1d",
    "outputId": "e6c5777b-0418-4ac8-d995-b3702e5b6a96"
   },
   "outputs": [
    {
     "data": {
      "text/html": [
       "<div style=\"max-width:800px; border: 1px solid var(--colab-border-color);\"><style>\n",
       "      pre.function-repr-contents {\n",
       "        overflow-x: auto;\n",
       "        padding: 8px 12px;\n",
       "        max-height: 500px;\n",
       "      }\n",
       "\n",
       "      pre.function-repr-contents.function-repr-contents-collapsed {\n",
       "        cursor: pointer;\n",
       "        max-height: 100px;\n",
       "      }\n",
       "    </style>\n",
       "    <pre style=\"white-space: initial; background:\n",
       "         var(--colab-secondary-surface-color); padding: 8px 12px;\n",
       "         border-bottom: 1px solid var(--colab-border-color);\"><b>pandas.core.frame.DataFrame</b><br/>def __init__(data=None, index: Axes | None=None, columns: Axes | None=None, dtype: Dtype | None=None, copy: bool | None=None) -&gt; None</pre><pre class=\"function-repr-contents function-repr-contents-collapsed\" style=\"\"><a class=\"filepath\" style=\"display:none\" href=\"#\">/usr/local/lib/python3.11/dist-packages/pandas/core/frame.py</a>Two-dimensional, size-mutable, potentially heterogeneous tabular data.\n",
       "\n",
       "Data structure also contains labeled axes (rows and columns).\n",
       "Arithmetic operations align on both row and column labels. Can be\n",
       "thought of as a dict-like container for Series objects. The primary\n",
       "pandas data structure.\n",
       "\n",
       "Parameters\n",
       "----------\n",
       "data : ndarray (structured or homogeneous), Iterable, dict, or DataFrame\n",
       "    Dict can contain Series, arrays, constants, dataclass or list-like objects. If\n",
       "    data is a dict, column order follows insertion-order. If a dict contains Series\n",
       "    which have an index defined, it is aligned by its index. This alignment also\n",
       "    occurs if data is a Series or a DataFrame itself. Alignment is done on\n",
       "    Series/DataFrame inputs.\n",
       "\n",
       "    If data is a list of dicts, column order follows insertion-order.\n",
       "\n",
       "index : Index or array-like\n",
       "    Index to use for resulting frame. Will default to RangeIndex if\n",
       "    no indexing information part of input data and no index provided.\n",
       "columns : Index or array-like\n",
       "    Column labels to use for resulting frame when data does not have them,\n",
       "    defaulting to RangeIndex(0, 1, 2, ..., n). If data contains column labels,\n",
       "    will perform column selection instead.\n",
       "dtype : dtype, default None\n",
       "    Data type to force. Only a single dtype is allowed. If None, infer.\n",
       "copy : bool or None, default None\n",
       "    Copy data from inputs.\n",
       "    For dict data, the default of None behaves like ``copy=True``.  For DataFrame\n",
       "    or 2d ndarray input, the default of None behaves like ``copy=False``.\n",
       "    If data is a dict containing one or more Series (possibly of different dtypes),\n",
       "    ``copy=False`` will ensure that these inputs are not copied.\n",
       "\n",
       "    .. versionchanged:: 1.3.0\n",
       "\n",
       "See Also\n",
       "--------\n",
       "DataFrame.from_records : Constructor from tuples, also record arrays.\n",
       "DataFrame.from_dict : From dicts of Series, arrays, or dicts.\n",
       "read_csv : Read a comma-separated values (csv) file into DataFrame.\n",
       "read_table : Read general delimited file into DataFrame.\n",
       "read_clipboard : Read text from clipboard into DataFrame.\n",
       "\n",
       "Notes\n",
       "-----\n",
       "Please reference the :ref:`User Guide &lt;basics.dataframe&gt;` for more information.\n",
       "\n",
       "Examples\n",
       "--------\n",
       "Constructing DataFrame from a dictionary.\n",
       "\n",
       "&gt;&gt;&gt; d = {&#x27;col1&#x27;: [1, 2], &#x27;col2&#x27;: [3, 4]}\n",
       "&gt;&gt;&gt; df = pd.DataFrame(data=d)\n",
       "&gt;&gt;&gt; df\n",
       "   col1  col2\n",
       "0     1     3\n",
       "1     2     4\n",
       "\n",
       "Notice that the inferred dtype is int64.\n",
       "\n",
       "&gt;&gt;&gt; df.dtypes\n",
       "col1    int64\n",
       "col2    int64\n",
       "dtype: object\n",
       "\n",
       "To enforce a single dtype:\n",
       "\n",
       "&gt;&gt;&gt; df = pd.DataFrame(data=d, dtype=np.int8)\n",
       "&gt;&gt;&gt; df.dtypes\n",
       "col1    int8\n",
       "col2    int8\n",
       "dtype: object\n",
       "\n",
       "Constructing DataFrame from a dictionary including Series:\n",
       "\n",
       "&gt;&gt;&gt; d = {&#x27;col1&#x27;: [0, 1, 2, 3], &#x27;col2&#x27;: pd.Series([2, 3], index=[2, 3])}\n",
       "&gt;&gt;&gt; pd.DataFrame(data=d, index=[0, 1, 2, 3])\n",
       "   col1  col2\n",
       "0     0   NaN\n",
       "1     1   NaN\n",
       "2     2   2.0\n",
       "3     3   3.0\n",
       "\n",
       "Constructing DataFrame from numpy ndarray:\n",
       "\n",
       "&gt;&gt;&gt; df2 = pd.DataFrame(np.array([[1, 2, 3], [4, 5, 6], [7, 8, 9]]),\n",
       "...                    columns=[&#x27;a&#x27;, &#x27;b&#x27;, &#x27;c&#x27;])\n",
       "&gt;&gt;&gt; df2\n",
       "   a  b  c\n",
       "0  1  2  3\n",
       "1  4  5  6\n",
       "2  7  8  9\n",
       "\n",
       "Constructing DataFrame from a numpy ndarray that has labeled columns:\n",
       "\n",
       "&gt;&gt;&gt; data = np.array([(1, 2, 3), (4, 5, 6), (7, 8, 9)],\n",
       "...                 dtype=[(&quot;a&quot;, &quot;i4&quot;), (&quot;b&quot;, &quot;i4&quot;), (&quot;c&quot;, &quot;i4&quot;)])\n",
       "&gt;&gt;&gt; df3 = pd.DataFrame(data, columns=[&#x27;c&#x27;, &#x27;a&#x27;])\n",
       "...\n",
       "&gt;&gt;&gt; df3\n",
       "   c  a\n",
       "0  3  1\n",
       "1  6  4\n",
       "2  9  7\n",
       "\n",
       "Constructing DataFrame from dataclass:\n",
       "\n",
       "&gt;&gt;&gt; from dataclasses import make_dataclass\n",
       "&gt;&gt;&gt; Point = make_dataclass(&quot;Point&quot;, [(&quot;x&quot;, int), (&quot;y&quot;, int)])\n",
       "&gt;&gt;&gt; pd.DataFrame([Point(0, 0), Point(0, 3), Point(2, 3)])\n",
       "   x  y\n",
       "0  0  0\n",
       "1  0  3\n",
       "2  2  3\n",
       "\n",
       "Constructing DataFrame from Series/DataFrame:\n",
       "\n",
       "&gt;&gt;&gt; ser = pd.Series([1, 2, 3], index=[&quot;a&quot;, &quot;b&quot;, &quot;c&quot;])\n",
       "&gt;&gt;&gt; df = pd.DataFrame(data=ser, index=[&quot;a&quot;, &quot;c&quot;])\n",
       "&gt;&gt;&gt; df\n",
       "   0\n",
       "a  1\n",
       "c  3\n",
       "\n",
       "&gt;&gt;&gt; df1 = pd.DataFrame([1, 2, 3], index=[&quot;a&quot;, &quot;b&quot;, &quot;c&quot;], columns=[&quot;x&quot;])\n",
       "&gt;&gt;&gt; df2 = pd.DataFrame(data=df1, index=[&quot;a&quot;, &quot;c&quot;])\n",
       "&gt;&gt;&gt; df2\n",
       "   x\n",
       "a  1\n",
       "c  3</pre>\n",
       "      <script>\n",
       "      if (google.colab.kernel.accessAllowed && google.colab.files && google.colab.files.view) {\n",
       "        for (const element of document.querySelectorAll('.filepath')) {\n",
       "          element.style.display = 'block'\n",
       "          element.onclick = (event) => {\n",
       "            event.preventDefault();\n",
       "            event.stopPropagation();\n",
       "            google.colab.files.view(element.textContent, 509);\n",
       "          };\n",
       "        }\n",
       "      }\n",
       "      for (const element of document.querySelectorAll('.function-repr-contents')) {\n",
       "        element.onclick = (event) => {\n",
       "          event.preventDefault();\n",
       "          event.stopPropagation();\n",
       "          element.classList.toggle('function-repr-contents-collapsed');\n",
       "        };\n",
       "      }\n",
       "      </script>\n",
       "      </div>"
      ],
      "text/plain": [
       "pandas.core.frame.DataFrame"
      ]
     },
     "execution_count": 233,
     "metadata": {},
     "output_type": "execute_result"
    }
   ],
   "source": [
    "type(stand)"
   ]
  },
  {
   "cell_type": "code",
   "execution_count": 234,
   "id": "KxnfPDEs4yBm",
   "metadata": {
    "executionInfo": {
     "elapsed": 228,
     "status": "ok",
     "timestamp": 1754065020408,
     "user": {
      "displayName": "Jorvany Nelson",
      "userId": "15494697462108672179"
     },
     "user_tz": -120
    },
    "id": "KxnfPDEs4yBm"
   },
   "outputs": [],
   "source": [
    "# storing all the sit labels in the variable sit\n",
    "sit = har[har['gt'] == 'sit']"
   ]
  },
  {
   "cell_type": "code",
   "execution_count": 235,
   "id": "1kW_-KS_5ozv",
   "metadata": {
    "colab": {
     "base_uri": "https://localhost:8080/",
     "height": 206
    },
    "executionInfo": {
     "elapsed": 16,
     "status": "ok",
     "timestamp": 1754065020413,
     "user": {
      "displayName": "Jorvany Nelson",
      "userId": "15494697462108672179"
     },
     "user_tz": -120
    },
    "id": "1kW_-KS_5ozv",
    "outputId": "526fbda8-70bc-43a2-a7fd-2ce80b958635"
   },
   "outputs": [
    {
     "data": {
      "application/vnd.google.colaboratory.intrinsic+json": {
       "type": "dataframe",
       "variable_name": "sit"
      },
      "text/html": [
       "\n",
       "  <div id=\"df-9302b55a-37ff-464a-b098-4d044d727518\" class=\"colab-df-container\">\n",
       "    <div>\n",
       "<style scoped>\n",
       "    .dataframe tbody tr th:only-of-type {\n",
       "        vertical-align: middle;\n",
       "    }\n",
       "\n",
       "    .dataframe tbody tr th {\n",
       "        vertical-align: top;\n",
       "    }\n",
       "\n",
       "    .dataframe thead th {\n",
       "        text-align: right;\n",
       "    }\n",
       "</style>\n",
       "<table border=\"1\" class=\"dataframe\">\n",
       "  <thead>\n",
       "    <tr style=\"text-align: right;\">\n",
       "      <th></th>\n",
       "      <th>x</th>\n",
       "      <th>y</th>\n",
       "      <th>z</th>\n",
       "      <th>gt</th>\n",
       "    </tr>\n",
       "  </thead>\n",
       "  <tbody>\n",
       "    <tr>\n",
       "      <th>5405</th>\n",
       "      <td>-10.530297</td>\n",
       "      <td>-2.439093</td>\n",
       "      <td>-3.663727</td>\n",
       "      <td>sit</td>\n",
       "    </tr>\n",
       "    <tr>\n",
       "      <th>5406</th>\n",
       "      <td>-9.252991</td>\n",
       "      <td>-3.397971</td>\n",
       "      <td>-1.118092</td>\n",
       "      <td>sit</td>\n",
       "    </tr>\n",
       "    <tr>\n",
       "      <th>5407</th>\n",
       "      <td>-9.252991</td>\n",
       "      <td>-3.397971</td>\n",
       "      <td>-1.118092</td>\n",
       "      <td>sit</td>\n",
       "    </tr>\n",
       "    <tr>\n",
       "      <th>5408</th>\n",
       "      <td>-9.252991</td>\n",
       "      <td>-3.397971</td>\n",
       "      <td>-1.118092</td>\n",
       "      <td>sit</td>\n",
       "    </tr>\n",
       "    <tr>\n",
       "      <th>5409</th>\n",
       "      <td>-9.248801</td>\n",
       "      <td>-3.409942</td>\n",
       "      <td>-1.101931</td>\n",
       "      <td>sit</td>\n",
       "    </tr>\n",
       "  </tbody>\n",
       "</table>\n",
       "</div>\n",
       "    <div class=\"colab-df-buttons\">\n",
       "\n",
       "  <div class=\"colab-df-container\">\n",
       "    <button class=\"colab-df-convert\" onclick=\"convertToInteractive('df-9302b55a-37ff-464a-b098-4d044d727518')\"\n",
       "            title=\"Convert this dataframe to an interactive table.\"\n",
       "            style=\"display:none;\">\n",
       "\n",
       "  <svg xmlns=\"http://www.w3.org/2000/svg\" height=\"24px\" viewBox=\"0 -960 960 960\">\n",
       "    <path d=\"M120-120v-720h720v720H120Zm60-500h600v-160H180v160Zm220 220h160v-160H400v160Zm0 220h160v-160H400v160ZM180-400h160v-160H180v160Zm440 0h160v-160H620v160ZM180-180h160v-160H180v160Zm440 0h160v-160H620v160Z\"/>\n",
       "  </svg>\n",
       "    </button>\n",
       "\n",
       "  <style>\n",
       "    .colab-df-container {\n",
       "      display:flex;\n",
       "      gap: 12px;\n",
       "    }\n",
       "\n",
       "    .colab-df-convert {\n",
       "      background-color: #E8F0FE;\n",
       "      border: none;\n",
       "      border-radius: 50%;\n",
       "      cursor: pointer;\n",
       "      display: none;\n",
       "      fill: #1967D2;\n",
       "      height: 32px;\n",
       "      padding: 0 0 0 0;\n",
       "      width: 32px;\n",
       "    }\n",
       "\n",
       "    .colab-df-convert:hover {\n",
       "      background-color: #E2EBFA;\n",
       "      box-shadow: 0px 1px 2px rgba(60, 64, 67, 0.3), 0px 1px 3px 1px rgba(60, 64, 67, 0.15);\n",
       "      fill: #174EA6;\n",
       "    }\n",
       "\n",
       "    .colab-df-buttons div {\n",
       "      margin-bottom: 4px;\n",
       "    }\n",
       "\n",
       "    [theme=dark] .colab-df-convert {\n",
       "      background-color: #3B4455;\n",
       "      fill: #D2E3FC;\n",
       "    }\n",
       "\n",
       "    [theme=dark] .colab-df-convert:hover {\n",
       "      background-color: #434B5C;\n",
       "      box-shadow: 0px 1px 3px 1px rgba(0, 0, 0, 0.15);\n",
       "      filter: drop-shadow(0px 1px 2px rgba(0, 0, 0, 0.3));\n",
       "      fill: #FFFFFF;\n",
       "    }\n",
       "  </style>\n",
       "\n",
       "    <script>\n",
       "      const buttonEl =\n",
       "        document.querySelector('#df-9302b55a-37ff-464a-b098-4d044d727518 button.colab-df-convert');\n",
       "      buttonEl.style.display =\n",
       "        google.colab.kernel.accessAllowed ? 'block' : 'none';\n",
       "\n",
       "      async function convertToInteractive(key) {\n",
       "        const element = document.querySelector('#df-9302b55a-37ff-464a-b098-4d044d727518');\n",
       "        const dataTable =\n",
       "          await google.colab.kernel.invokeFunction('convertToInteractive',\n",
       "                                                    [key], {});\n",
       "        if (!dataTable) return;\n",
       "\n",
       "        const docLinkHtml = 'Like what you see? Visit the ' +\n",
       "          '<a target=\"_blank\" href=https://colab.research.google.com/notebooks/data_table.ipynb>data table notebook</a>'\n",
       "          + ' to learn more about interactive tables.';\n",
       "        element.innerHTML = '';\n",
       "        dataTable['output_type'] = 'display_data';\n",
       "        await google.colab.output.renderOutput(dataTable, element);\n",
       "        const docLink = document.createElement('div');\n",
       "        docLink.innerHTML = docLinkHtml;\n",
       "        element.appendChild(docLink);\n",
       "      }\n",
       "    </script>\n",
       "  </div>\n",
       "\n",
       "\n",
       "    <div id=\"df-1a2cbabb-5656-401f-8849-6606858e2369\">\n",
       "      <button class=\"colab-df-quickchart\" onclick=\"quickchart('df-1a2cbabb-5656-401f-8849-6606858e2369')\"\n",
       "                title=\"Suggest charts\"\n",
       "                style=\"display:none;\">\n",
       "\n",
       "<svg xmlns=\"http://www.w3.org/2000/svg\" height=\"24px\"viewBox=\"0 0 24 24\"\n",
       "     width=\"24px\">\n",
       "    <g>\n",
       "        <path d=\"M19 3H5c-1.1 0-2 .9-2 2v14c0 1.1.9 2 2 2h14c1.1 0 2-.9 2-2V5c0-1.1-.9-2-2-2zM9 17H7v-7h2v7zm4 0h-2V7h2v10zm4 0h-2v-4h2v4z\"/>\n",
       "    </g>\n",
       "</svg>\n",
       "      </button>\n",
       "\n",
       "<style>\n",
       "  .colab-df-quickchart {\n",
       "      --bg-color: #E8F0FE;\n",
       "      --fill-color: #1967D2;\n",
       "      --hover-bg-color: #E2EBFA;\n",
       "      --hover-fill-color: #174EA6;\n",
       "      --disabled-fill-color: #AAA;\n",
       "      --disabled-bg-color: #DDD;\n",
       "  }\n",
       "\n",
       "  [theme=dark] .colab-df-quickchart {\n",
       "      --bg-color: #3B4455;\n",
       "      --fill-color: #D2E3FC;\n",
       "      --hover-bg-color: #434B5C;\n",
       "      --hover-fill-color: #FFFFFF;\n",
       "      --disabled-bg-color: #3B4455;\n",
       "      --disabled-fill-color: #666;\n",
       "  }\n",
       "\n",
       "  .colab-df-quickchart {\n",
       "    background-color: var(--bg-color);\n",
       "    border: none;\n",
       "    border-radius: 50%;\n",
       "    cursor: pointer;\n",
       "    display: none;\n",
       "    fill: var(--fill-color);\n",
       "    height: 32px;\n",
       "    padding: 0;\n",
       "    width: 32px;\n",
       "  }\n",
       "\n",
       "  .colab-df-quickchart:hover {\n",
       "    background-color: var(--hover-bg-color);\n",
       "    box-shadow: 0 1px 2px rgba(60, 64, 67, 0.3), 0 1px 3px 1px rgba(60, 64, 67, 0.15);\n",
       "    fill: var(--button-hover-fill-color);\n",
       "  }\n",
       "\n",
       "  .colab-df-quickchart-complete:disabled,\n",
       "  .colab-df-quickchart-complete:disabled:hover {\n",
       "    background-color: var(--disabled-bg-color);\n",
       "    fill: var(--disabled-fill-color);\n",
       "    box-shadow: none;\n",
       "  }\n",
       "\n",
       "  .colab-df-spinner {\n",
       "    border: 2px solid var(--fill-color);\n",
       "    border-color: transparent;\n",
       "    border-bottom-color: var(--fill-color);\n",
       "    animation:\n",
       "      spin 1s steps(1) infinite;\n",
       "  }\n",
       "\n",
       "  @keyframes spin {\n",
       "    0% {\n",
       "      border-color: transparent;\n",
       "      border-bottom-color: var(--fill-color);\n",
       "      border-left-color: var(--fill-color);\n",
       "    }\n",
       "    20% {\n",
       "      border-color: transparent;\n",
       "      border-left-color: var(--fill-color);\n",
       "      border-top-color: var(--fill-color);\n",
       "    }\n",
       "    30% {\n",
       "      border-color: transparent;\n",
       "      border-left-color: var(--fill-color);\n",
       "      border-top-color: var(--fill-color);\n",
       "      border-right-color: var(--fill-color);\n",
       "    }\n",
       "    40% {\n",
       "      border-color: transparent;\n",
       "      border-right-color: var(--fill-color);\n",
       "      border-top-color: var(--fill-color);\n",
       "    }\n",
       "    60% {\n",
       "      border-color: transparent;\n",
       "      border-right-color: var(--fill-color);\n",
       "    }\n",
       "    80% {\n",
       "      border-color: transparent;\n",
       "      border-right-color: var(--fill-color);\n",
       "      border-bottom-color: var(--fill-color);\n",
       "    }\n",
       "    90% {\n",
       "      border-color: transparent;\n",
       "      border-bottom-color: var(--fill-color);\n",
       "    }\n",
       "  }\n",
       "</style>\n",
       "\n",
       "      <script>\n",
       "        async function quickchart(key) {\n",
       "          const quickchartButtonEl =\n",
       "            document.querySelector('#' + key + ' button');\n",
       "          quickchartButtonEl.disabled = true;  // To prevent multiple clicks.\n",
       "          quickchartButtonEl.classList.add('colab-df-spinner');\n",
       "          try {\n",
       "            const charts = await google.colab.kernel.invokeFunction(\n",
       "                'suggestCharts', [key], {});\n",
       "          } catch (error) {\n",
       "            console.error('Error during call to suggestCharts:', error);\n",
       "          }\n",
       "          quickchartButtonEl.classList.remove('colab-df-spinner');\n",
       "          quickchartButtonEl.classList.add('colab-df-quickchart-complete');\n",
       "        }\n",
       "        (() => {\n",
       "          let quickchartButtonEl =\n",
       "            document.querySelector('#df-1a2cbabb-5656-401f-8849-6606858e2369 button');\n",
       "          quickchartButtonEl.style.display =\n",
       "            google.colab.kernel.accessAllowed ? 'block' : 'none';\n",
       "        })();\n",
       "      </script>\n",
       "    </div>\n",
       "\n",
       "    </div>\n",
       "  </div>\n"
      ],
      "text/plain": [
       "              x         y         z   gt\n",
       "5405 -10.530297 -2.439093 -3.663727  sit\n",
       "5406  -9.252991 -3.397971 -1.118092  sit\n",
       "5407  -9.252991 -3.397971 -1.118092  sit\n",
       "5408  -9.252991 -3.397971 -1.118092  sit\n",
       "5409  -9.248801 -3.409942 -1.101931  sit"
      ]
     },
     "execution_count": 235,
     "metadata": {},
     "output_type": "execute_result"
    }
   ],
   "source": [
    "# Diplaying the 1st 5 samples\n",
    "sit.head()"
   ]
  },
  {
   "cell_type": "code",
   "execution_count": 236,
   "id": "mH0IxdA75u-o",
   "metadata": {
    "colab": {
     "base_uri": "https://localhost:8080/"
    },
    "executionInfo": {
     "elapsed": 59,
     "status": "ok",
     "timestamp": 1754065020474,
     "user": {
      "displayName": "Jorvany Nelson",
      "userId": "15494697462108672179"
     },
     "user_tz": -120
    },
    "id": "mH0IxdA75u-o",
    "outputId": "dc1fb2b3-1739-4db8-c065-46dab90b95f2"
   },
   "outputs": [
    {
     "data": {
      "text/plain": [
       "(423995, 4)"
      ]
     },
     "execution_count": 236,
     "metadata": {},
     "output_type": "execute_result"
    }
   ],
   "source": [
    "sit.shape"
   ]
  },
  {
   "cell_type": "code",
   "execution_count": 237,
   "id": "_BWNt6Ag6gK8",
   "metadata": {
    "executionInfo": {
     "elapsed": 3,
     "status": "ok",
     "timestamp": 1754065020480,
     "user": {
      "displayName": "Jorvany Nelson",
      "userId": "15494697462108672179"
     },
     "user_tz": -120
    },
    "id": "_BWNt6Ag6gK8"
   },
   "outputs": [],
   "source": [
    "# selecting only 5000 samples and storing it in sit\n",
    "sit = sit.iloc[0:5000, :]"
   ]
  },
  {
   "cell_type": "code",
   "execution_count": 238,
   "id": "nWl0dKO76v90",
   "metadata": {
    "colab": {
     "base_uri": "https://localhost:8080/"
    },
    "executionInfo": {
     "elapsed": 10,
     "status": "ok",
     "timestamp": 1754065020492,
     "user": {
      "displayName": "Jorvany Nelson",
      "userId": "15494697462108672179"
     },
     "user_tz": -120
    },
    "id": "nWl0dKO76v90",
    "outputId": "c5a31d72-9077-4909-8b80-eabd89b19028"
   },
   "outputs": [
    {
     "data": {
      "text/plain": [
       "(5000, 4)"
      ]
     },
     "execution_count": 238,
     "metadata": {},
     "output_type": "execute_result"
    }
   ],
   "source": [
    "sit.shape"
   ]
  },
  {
   "cell_type": "code",
   "execution_count": 239,
   "id": "u0RfYvwd6zqz",
   "metadata": {
    "executionInfo": {
     "elapsed": 206,
     "status": "ok",
     "timestamp": 1754065020701,
     "user": {
      "displayName": "Jorvany Nelson",
      "userId": "15494697462108672179"
     },
     "user_tz": -120
    },
    "id": "u0RfYvwd6zqz"
   },
   "outputs": [],
   "source": [
    "# assigning 5000 walk sample to the variable walk\n",
    "walk = har[har['gt'] == 'walk'].iloc[0:5000, :]"
   ]
  },
  {
   "cell_type": "code",
   "execution_count": 240,
   "id": "FnJBeq8_QnSY",
   "metadata": {
    "colab": {
     "base_uri": "https://localhost:8080/"
    },
    "executionInfo": {
     "elapsed": 21,
     "status": "ok",
     "timestamp": 1754065020748,
     "user": {
      "displayName": "Jorvany Nelson",
      "userId": "15494697462108672179"
     },
     "user_tz": -120
    },
    "id": "FnJBeq8_QnSY",
    "outputId": "4e6a3164-2334-44f4-96c8-45579b3c36e0"
   },
   "outputs": [
    {
     "data": {
      "text/plain": [
       "(5000, 4)"
      ]
     },
     "execution_count": 240,
     "metadata": {},
     "output_type": "execute_result"
    }
   ],
   "source": [
    "walk.shape"
   ]
  },
  {
   "cell_type": "code",
   "execution_count": 241,
   "id": "cuqawgjl7LkD",
   "metadata": {
    "executionInfo": {
     "elapsed": 226,
     "status": "ok",
     "timestamp": 1754065020976,
     "user": {
      "displayName": "Jorvany Nelson",
      "userId": "15494697462108672179"
     },
     "user_tz": -120
    },
    "id": "cuqawgjl7LkD"
   },
   "outputs": [],
   "source": [
    "# assigning 5000 stairup sample to the variable stairsup\n",
    "stairsup = har[har['gt'] == 'stairup'].iloc[0:5000, :]"
   ]
  },
  {
   "cell_type": "code",
   "execution_count": 242,
   "id": "k5DCbdnsQqiC",
   "metadata": {
    "colab": {
     "base_uri": "https://localhost:8080/"
    },
    "executionInfo": {
     "elapsed": 10,
     "status": "ok",
     "timestamp": 1754065020977,
     "user": {
      "displayName": "Jorvany Nelson",
      "userId": "15494697462108672179"
     },
     "user_tz": -120
    },
    "id": "k5DCbdnsQqiC",
    "outputId": "ffa571d6-1e8e-4952-bcce-9851472556be"
   },
   "outputs": [
    {
     "data": {
      "text/plain": [
       "(0, 4)"
      ]
     },
     "execution_count": 242,
     "metadata": {},
     "output_type": "execute_result"
    }
   ],
   "source": [
    "stairsup.shape"
   ]
  },
  {
   "cell_type": "code",
   "execution_count": 243,
   "id": "w9NyByOY7ezd",
   "metadata": {
    "executionInfo": {
     "elapsed": 236,
     "status": "ok",
     "timestamp": 1754065021214,
     "user": {
      "displayName": "Jorvany Nelson",
      "userId": "15494697462108672179"
     },
     "user_tz": -120
    },
    "id": "w9NyByOY7ezd"
   },
   "outputs": [],
   "source": [
    "# assigning 5000 stairsdown sample to the variable stairsdown\n",
    "stairsdown = har[har['gt'] == 'stairdown'].iloc[0:5000, :]"
   ]
  },
  {
   "cell_type": "code",
   "execution_count": 244,
   "id": "MO55tqGXQuTo",
   "metadata": {
    "colab": {
     "base_uri": "https://localhost:8080/"
    },
    "executionInfo": {
     "elapsed": 42,
     "status": "ok",
     "timestamp": 1754065021258,
     "user": {
      "displayName": "Jorvany Nelson",
      "userId": "15494697462108672179"
     },
     "user_tz": -120
    },
    "id": "MO55tqGXQuTo",
    "outputId": "5bff74b7-8dd6-49c0-be25-0c8efe6280fb"
   },
   "outputs": [
    {
     "data": {
      "text/plain": [
       "(0, 4)"
      ]
     },
     "execution_count": 244,
     "metadata": {},
     "output_type": "execute_result"
    }
   ],
   "source": [
    "stairsdown.shape"
   ]
  },
  {
   "cell_type": "code",
   "execution_count": 245,
   "id": "-fLtlfE8WhU4",
   "metadata": {
    "executionInfo": {
     "elapsed": 202,
     "status": "ok",
     "timestamp": 1754065021463,
     "user": {
      "displayName": "Jorvany Nelson",
      "userId": "15494697462108672179"
     },
     "user_tz": -120
    },
    "id": "-fLtlfE8WhU4"
   },
   "outputs": [],
   "source": [
    "# assigning 5000 bike sample to the variable bike\n",
    "bike = har[har['gt'] == 'bike'].iloc[0:5000, :]"
   ]
  },
  {
   "cell_type": "code",
   "execution_count": 246,
   "id": "k58C3P9zQxsa",
   "metadata": {
    "colab": {
     "base_uri": "https://localhost:8080/"
    },
    "executionInfo": {
     "elapsed": 53,
     "status": "ok",
     "timestamp": 1754065021521,
     "user": {
      "displayName": "Jorvany Nelson",
      "userId": "15494697462108672179"
     },
     "user_tz": -120
    },
    "id": "k58C3P9zQxsa",
    "outputId": "8a447b77-098b-4d5d-8b52-08f9e69622b3"
   },
   "outputs": [
    {
     "data": {
      "text/plain": [
       "(5000, 4)"
      ]
     },
     "execution_count": 246,
     "metadata": {},
     "output_type": "execute_result"
    }
   ],
   "source": [
    "bike.shape"
   ]
  },
  {
   "cell_type": "code",
   "execution_count": 247,
   "id": "4af7ubrB7__d",
   "metadata": {
    "executionInfo": {
     "elapsed": 4,
     "status": "ok",
     "timestamp": 1754065021528,
     "user": {
      "displayName": "Jorvany Nelson",
      "userId": "15494697462108672179"
     },
     "user_tz": -120
    },
    "id": "4af7ubrB7__d"
   },
   "outputs": [],
   "source": [
    "# Concatinating all the variables together\n",
    "har_new_concat = pd.concat([stand, sit, walk, stairsup, stairsdown, bike])"
   ]
  },
  {
   "cell_type": "code",
   "execution_count": 248,
   "id": "QiVybs_y8Tru",
   "metadata": {
    "colab": {
     "base_uri": "https://localhost:8080/"
    },
    "executionInfo": {
     "elapsed": 10,
     "status": "ok",
     "timestamp": 1754065021541,
     "user": {
      "displayName": "Jorvany Nelson",
      "userId": "15494697462108672179"
     },
     "user_tz": -120
    },
    "id": "QiVybs_y8Tru",
    "outputId": "1f53f11a-aa4d-40c1-c997-f431d84e9a27"
   },
   "outputs": [
    {
     "data": {
      "text/plain": [
       "(20000, 4)"
      ]
     },
     "execution_count": 248,
     "metadata": {},
     "output_type": "execute_result"
    }
   ],
   "source": [
    "har_new_concat.shape"
   ]
  },
  {
   "cell_type": "code",
   "execution_count": 249,
   "id": "VUpbBJLJ8WoZ",
   "metadata": {
    "colab": {
     "base_uri": "https://localhost:8080/",
     "height": 424
    },
    "executionInfo": {
     "elapsed": 26,
     "status": "ok",
     "timestamp": 1754065021589,
     "user": {
      "displayName": "Jorvany Nelson",
      "userId": "15494697462108672179"
     },
     "user_tz": -120
    },
    "id": "VUpbBJLJ8WoZ",
    "outputId": "44c8f860-e053-4e83-9914-ccc7c5df3eac"
   },
   "outputs": [
    {
     "data": {
      "application/vnd.google.colaboratory.intrinsic+json": {
       "summary": "{\n  \"name\": \"har_new_concat\",\n  \"rows\": 20000,\n  \"fields\": [\n    {\n      \"column\": \"x\",\n      \"properties\": {\n        \"dtype\": \"number\",\n        \"std\": 2.0201717268846386,\n        \"min\": -19.6133,\n        \"max\": 3.9612067,\n        \"num_unique_values\": 7982,\n        \"samples\": [\n          -4.821324,\n          -9.938332,\n          -12.551602\n        ],\n        \"semantic_type\": \"\",\n        \"description\": \"\"\n      }\n    },\n    {\n      \"column\": \"y\",\n      \"properties\": {\n        \"dtype\": \"number\",\n        \"std\": 2.4659121469090017,\n        \"min\": -15.020623,\n        \"max\": 11.140221,\n        \"num_unique_values\": 8619,\n        \"samples\": [\n          -3.3614593,\n          -5.6407394,\n          -1.9752164\n        ],\n        \"semantic_type\": \"\",\n        \"description\": \"\"\n      }\n    },\n    {\n      \"column\": \"z\",\n      \"properties\": {\n        \"dtype\": \"number\",\n        \"std\": 3.6930233098228316,\n        \"min\": -10.596737,\n        \"max\": 13.58051,\n        \"num_unique_values\": 9841,\n        \"samples\": [\n          7.2729864,\n          5.5264163,\n          -1.2593501\n        ],\n        \"semantic_type\": \"\",\n        \"description\": \"\"\n      }\n    },\n    {\n      \"column\": \"gt\",\n      \"properties\": {\n        \"dtype\": \"category\",\n        \"num_unique_values\": 4,\n        \"samples\": [\n          \"sit\",\n          \"bike\",\n          \"stand\"\n        ],\n        \"semantic_type\": \"\",\n        \"description\": \"\"\n      }\n    }\n  ]\n}",
       "type": "dataframe",
       "variable_name": "har_new_concat"
      },
      "text/html": [
       "\n",
       "  <div id=\"df-a5790cbb-898b-40b1-a8c5-fedeefd05115\" class=\"colab-df-container\">\n",
       "    <div>\n",
       "<style scoped>\n",
       "    .dataframe tbody tr th:only-of-type {\n",
       "        vertical-align: middle;\n",
       "    }\n",
       "\n",
       "    .dataframe tbody tr th {\n",
       "        vertical-align: top;\n",
       "    }\n",
       "\n",
       "    .dataframe thead th {\n",
       "        text-align: right;\n",
       "    }\n",
       "</style>\n",
       "<table border=\"1\" class=\"dataframe\">\n",
       "  <thead>\n",
       "    <tr style=\"text-align: right;\">\n",
       "      <th></th>\n",
       "      <th>x</th>\n",
       "      <th>y</th>\n",
       "      <th>z</th>\n",
       "      <th>gt</th>\n",
       "    </tr>\n",
       "  </thead>\n",
       "  <tbody>\n",
       "    <tr>\n",
       "      <th>0</th>\n",
       "      <td>-0.565032</td>\n",
       "      <td>-9.572019</td>\n",
       "      <td>-0.614113</td>\n",
       "      <td>stand</td>\n",
       "    </tr>\n",
       "    <tr>\n",
       "      <th>1</th>\n",
       "      <td>-0.832584</td>\n",
       "      <td>-9.713276</td>\n",
       "      <td>-0.606930</td>\n",
       "      <td>stand</td>\n",
       "    </tr>\n",
       "    <tr>\n",
       "      <th>2</th>\n",
       "      <td>-1.018134</td>\n",
       "      <td>-9.935339</td>\n",
       "      <td>-0.544082</td>\n",
       "      <td>stand</td>\n",
       "    </tr>\n",
       "    <tr>\n",
       "      <th>3</th>\n",
       "      <td>-1.222838</td>\n",
       "      <td>-10.142437</td>\n",
       "      <td>-0.566229</td>\n",
       "      <td>stand</td>\n",
       "    </tr>\n",
       "    <tr>\n",
       "      <th>4</th>\n",
       "      <td>-1.577180</td>\n",
       "      <td>-10.480618</td>\n",
       "      <td>-0.402824</td>\n",
       "      <td>stand</td>\n",
       "    </tr>\n",
       "    <tr>\n",
       "      <th>...</th>\n",
       "      <td>...</td>\n",
       "      <td>...</td>\n",
       "      <td>...</td>\n",
       "      <td>...</td>\n",
       "    </tr>\n",
       "    <tr>\n",
       "      <th>32228</th>\n",
       "      <td>-7.964911</td>\n",
       "      <td>-0.887650</td>\n",
       "      <td>6.034586</td>\n",
       "      <td>bike</td>\n",
       "    </tr>\n",
       "    <tr>\n",
       "      <th>32229</th>\n",
       "      <td>-8.882488</td>\n",
       "      <td>-1.451485</td>\n",
       "      <td>6.030994</td>\n",
       "      <td>bike</td>\n",
       "    </tr>\n",
       "    <tr>\n",
       "      <th>32230</th>\n",
       "      <td>-8.641871</td>\n",
       "      <td>-1.823783</td>\n",
       "      <td>6.533178</td>\n",
       "      <td>bike</td>\n",
       "    </tr>\n",
       "    <tr>\n",
       "      <th>32231</th>\n",
       "      <td>-9.081207</td>\n",
       "      <td>-1.670554</td>\n",
       "      <td>7.043143</td>\n",
       "      <td>bike</td>\n",
       "    </tr>\n",
       "    <tr>\n",
       "      <th>32232</th>\n",
       "      <td>-7.817069</td>\n",
       "      <td>-0.821810</td>\n",
       "      <td>6.237494</td>\n",
       "      <td>bike</td>\n",
       "    </tr>\n",
       "  </tbody>\n",
       "</table>\n",
       "<p>20000 rows × 4 columns</p>\n",
       "</div>\n",
       "    <div class=\"colab-df-buttons\">\n",
       "\n",
       "  <div class=\"colab-df-container\">\n",
       "    <button class=\"colab-df-convert\" onclick=\"convertToInteractive('df-a5790cbb-898b-40b1-a8c5-fedeefd05115')\"\n",
       "            title=\"Convert this dataframe to an interactive table.\"\n",
       "            style=\"display:none;\">\n",
       "\n",
       "  <svg xmlns=\"http://www.w3.org/2000/svg\" height=\"24px\" viewBox=\"0 -960 960 960\">\n",
       "    <path d=\"M120-120v-720h720v720H120Zm60-500h600v-160H180v160Zm220 220h160v-160H400v160Zm0 220h160v-160H400v160ZM180-400h160v-160H180v160Zm440 0h160v-160H620v160ZM180-180h160v-160H180v160Zm440 0h160v-160H620v160Z\"/>\n",
       "  </svg>\n",
       "    </button>\n",
       "\n",
       "  <style>\n",
       "    .colab-df-container {\n",
       "      display:flex;\n",
       "      gap: 12px;\n",
       "    }\n",
       "\n",
       "    .colab-df-convert {\n",
       "      background-color: #E8F0FE;\n",
       "      border: none;\n",
       "      border-radius: 50%;\n",
       "      cursor: pointer;\n",
       "      display: none;\n",
       "      fill: #1967D2;\n",
       "      height: 32px;\n",
       "      padding: 0 0 0 0;\n",
       "      width: 32px;\n",
       "    }\n",
       "\n",
       "    .colab-df-convert:hover {\n",
       "      background-color: #E2EBFA;\n",
       "      box-shadow: 0px 1px 2px rgba(60, 64, 67, 0.3), 0px 1px 3px 1px rgba(60, 64, 67, 0.15);\n",
       "      fill: #174EA6;\n",
       "    }\n",
       "\n",
       "    .colab-df-buttons div {\n",
       "      margin-bottom: 4px;\n",
       "    }\n",
       "\n",
       "    [theme=dark] .colab-df-convert {\n",
       "      background-color: #3B4455;\n",
       "      fill: #D2E3FC;\n",
       "    }\n",
       "\n",
       "    [theme=dark] .colab-df-convert:hover {\n",
       "      background-color: #434B5C;\n",
       "      box-shadow: 0px 1px 3px 1px rgba(0, 0, 0, 0.15);\n",
       "      filter: drop-shadow(0px 1px 2px rgba(0, 0, 0, 0.3));\n",
       "      fill: #FFFFFF;\n",
       "    }\n",
       "  </style>\n",
       "\n",
       "    <script>\n",
       "      const buttonEl =\n",
       "        document.querySelector('#df-a5790cbb-898b-40b1-a8c5-fedeefd05115 button.colab-df-convert');\n",
       "      buttonEl.style.display =\n",
       "        google.colab.kernel.accessAllowed ? 'block' : 'none';\n",
       "\n",
       "      async function convertToInteractive(key) {\n",
       "        const element = document.querySelector('#df-a5790cbb-898b-40b1-a8c5-fedeefd05115');\n",
       "        const dataTable =\n",
       "          await google.colab.kernel.invokeFunction('convertToInteractive',\n",
       "                                                    [key], {});\n",
       "        if (!dataTable) return;\n",
       "\n",
       "        const docLinkHtml = 'Like what you see? Visit the ' +\n",
       "          '<a target=\"_blank\" href=https://colab.research.google.com/notebooks/data_table.ipynb>data table notebook</a>'\n",
       "          + ' to learn more about interactive tables.';\n",
       "        element.innerHTML = '';\n",
       "        dataTable['output_type'] = 'display_data';\n",
       "        await google.colab.output.renderOutput(dataTable, element);\n",
       "        const docLink = document.createElement('div');\n",
       "        docLink.innerHTML = docLinkHtml;\n",
       "        element.appendChild(docLink);\n",
       "      }\n",
       "    </script>\n",
       "  </div>\n",
       "\n",
       "\n",
       "    <div id=\"df-39825bfc-3b14-41b5-8e54-f71c3aacf8f7\">\n",
       "      <button class=\"colab-df-quickchart\" onclick=\"quickchart('df-39825bfc-3b14-41b5-8e54-f71c3aacf8f7')\"\n",
       "                title=\"Suggest charts\"\n",
       "                style=\"display:none;\">\n",
       "\n",
       "<svg xmlns=\"http://www.w3.org/2000/svg\" height=\"24px\"viewBox=\"0 0 24 24\"\n",
       "     width=\"24px\">\n",
       "    <g>\n",
       "        <path d=\"M19 3H5c-1.1 0-2 .9-2 2v14c0 1.1.9 2 2 2h14c1.1 0 2-.9 2-2V5c0-1.1-.9-2-2-2zM9 17H7v-7h2v7zm4 0h-2V7h2v10zm4 0h-2v-4h2v4z\"/>\n",
       "    </g>\n",
       "</svg>\n",
       "      </button>\n",
       "\n",
       "<style>\n",
       "  .colab-df-quickchart {\n",
       "      --bg-color: #E8F0FE;\n",
       "      --fill-color: #1967D2;\n",
       "      --hover-bg-color: #E2EBFA;\n",
       "      --hover-fill-color: #174EA6;\n",
       "      --disabled-fill-color: #AAA;\n",
       "      --disabled-bg-color: #DDD;\n",
       "  }\n",
       "\n",
       "  [theme=dark] .colab-df-quickchart {\n",
       "      --bg-color: #3B4455;\n",
       "      --fill-color: #D2E3FC;\n",
       "      --hover-bg-color: #434B5C;\n",
       "      --hover-fill-color: #FFFFFF;\n",
       "      --disabled-bg-color: #3B4455;\n",
       "      --disabled-fill-color: #666;\n",
       "  }\n",
       "\n",
       "  .colab-df-quickchart {\n",
       "    background-color: var(--bg-color);\n",
       "    border: none;\n",
       "    border-radius: 50%;\n",
       "    cursor: pointer;\n",
       "    display: none;\n",
       "    fill: var(--fill-color);\n",
       "    height: 32px;\n",
       "    padding: 0;\n",
       "    width: 32px;\n",
       "  }\n",
       "\n",
       "  .colab-df-quickchart:hover {\n",
       "    background-color: var(--hover-bg-color);\n",
       "    box-shadow: 0 1px 2px rgba(60, 64, 67, 0.3), 0 1px 3px 1px rgba(60, 64, 67, 0.15);\n",
       "    fill: var(--button-hover-fill-color);\n",
       "  }\n",
       "\n",
       "  .colab-df-quickchart-complete:disabled,\n",
       "  .colab-df-quickchart-complete:disabled:hover {\n",
       "    background-color: var(--disabled-bg-color);\n",
       "    fill: var(--disabled-fill-color);\n",
       "    box-shadow: none;\n",
       "  }\n",
       "\n",
       "  .colab-df-spinner {\n",
       "    border: 2px solid var(--fill-color);\n",
       "    border-color: transparent;\n",
       "    border-bottom-color: var(--fill-color);\n",
       "    animation:\n",
       "      spin 1s steps(1) infinite;\n",
       "  }\n",
       "\n",
       "  @keyframes spin {\n",
       "    0% {\n",
       "      border-color: transparent;\n",
       "      border-bottom-color: var(--fill-color);\n",
       "      border-left-color: var(--fill-color);\n",
       "    }\n",
       "    20% {\n",
       "      border-color: transparent;\n",
       "      border-left-color: var(--fill-color);\n",
       "      border-top-color: var(--fill-color);\n",
       "    }\n",
       "    30% {\n",
       "      border-color: transparent;\n",
       "      border-left-color: var(--fill-color);\n",
       "      border-top-color: var(--fill-color);\n",
       "      border-right-color: var(--fill-color);\n",
       "    }\n",
       "    40% {\n",
       "      border-color: transparent;\n",
       "      border-right-color: var(--fill-color);\n",
       "      border-top-color: var(--fill-color);\n",
       "    }\n",
       "    60% {\n",
       "      border-color: transparent;\n",
       "      border-right-color: var(--fill-color);\n",
       "    }\n",
       "    80% {\n",
       "      border-color: transparent;\n",
       "      border-right-color: var(--fill-color);\n",
       "      border-bottom-color: var(--fill-color);\n",
       "    }\n",
       "    90% {\n",
       "      border-color: transparent;\n",
       "      border-bottom-color: var(--fill-color);\n",
       "    }\n",
       "  }\n",
       "</style>\n",
       "\n",
       "      <script>\n",
       "        async function quickchart(key) {\n",
       "          const quickchartButtonEl =\n",
       "            document.querySelector('#' + key + ' button');\n",
       "          quickchartButtonEl.disabled = true;  // To prevent multiple clicks.\n",
       "          quickchartButtonEl.classList.add('colab-df-spinner');\n",
       "          try {\n",
       "            const charts = await google.colab.kernel.invokeFunction(\n",
       "                'suggestCharts', [key], {});\n",
       "          } catch (error) {\n",
       "            console.error('Error during call to suggestCharts:', error);\n",
       "          }\n",
       "          quickchartButtonEl.classList.remove('colab-df-spinner');\n",
       "          quickchartButtonEl.classList.add('colab-df-quickchart-complete');\n",
       "        }\n",
       "        (() => {\n",
       "          let quickchartButtonEl =\n",
       "            document.querySelector('#df-39825bfc-3b14-41b5-8e54-f71c3aacf8f7 button');\n",
       "          quickchartButtonEl.style.display =\n",
       "            google.colab.kernel.accessAllowed ? 'block' : 'none';\n",
       "        })();\n",
       "      </script>\n",
       "    </div>\n",
       "\n",
       "  <div id=\"id_6b083ca8-4d2e-4ab7-94bc-6df47abb35c8\">\n",
       "    <style>\n",
       "      .colab-df-generate {\n",
       "        background-color: #E8F0FE;\n",
       "        border: none;\n",
       "        border-radius: 50%;\n",
       "        cursor: pointer;\n",
       "        display: none;\n",
       "        fill: #1967D2;\n",
       "        height: 32px;\n",
       "        padding: 0 0 0 0;\n",
       "        width: 32px;\n",
       "      }\n",
       "\n",
       "      .colab-df-generate:hover {\n",
       "        background-color: #E2EBFA;\n",
       "        box-shadow: 0px 1px 2px rgba(60, 64, 67, 0.3), 0px 1px 3px 1px rgba(60, 64, 67, 0.15);\n",
       "        fill: #174EA6;\n",
       "      }\n",
       "\n",
       "      [theme=dark] .colab-df-generate {\n",
       "        background-color: #3B4455;\n",
       "        fill: #D2E3FC;\n",
       "      }\n",
       "\n",
       "      [theme=dark] .colab-df-generate:hover {\n",
       "        background-color: #434B5C;\n",
       "        box-shadow: 0px 1px 3px 1px rgba(0, 0, 0, 0.15);\n",
       "        filter: drop-shadow(0px 1px 2px rgba(0, 0, 0, 0.3));\n",
       "        fill: #FFFFFF;\n",
       "      }\n",
       "    </style>\n",
       "    <button class=\"colab-df-generate\" onclick=\"generateWithVariable('har_new_concat')\"\n",
       "            title=\"Generate code using this dataframe.\"\n",
       "            style=\"display:none;\">\n",
       "\n",
       "  <svg xmlns=\"http://www.w3.org/2000/svg\" height=\"24px\"viewBox=\"0 0 24 24\"\n",
       "       width=\"24px\">\n",
       "    <path d=\"M7,19H8.4L18.45,9,17,7.55,7,17.6ZM5,21V16.75L18.45,3.32a2,2,0,0,1,2.83,0l1.4,1.43a1.91,1.91,0,0,1,.58,1.4,1.91,1.91,0,0,1-.58,1.4L9.25,21ZM18.45,9,17,7.55Zm-12,3A5.31,5.31,0,0,0,4.9,8.1,5.31,5.31,0,0,0,1,6.5,5.31,5.31,0,0,0,4.9,4.9,5.31,5.31,0,0,0,6.5,1,5.31,5.31,0,0,0,8.1,4.9,5.31,5.31,0,0,0,12,6.5,5.46,5.46,0,0,0,6.5,12Z\"/>\n",
       "  </svg>\n",
       "    </button>\n",
       "    <script>\n",
       "      (() => {\n",
       "      const buttonEl =\n",
       "        document.querySelector('#id_6b083ca8-4d2e-4ab7-94bc-6df47abb35c8 button.colab-df-generate');\n",
       "      buttonEl.style.display =\n",
       "        google.colab.kernel.accessAllowed ? 'block' : 'none';\n",
       "\n",
       "      buttonEl.onclick = () => {\n",
       "        google.colab.notebook.generateWithVariable('har_new_concat');\n",
       "      }\n",
       "      })();\n",
       "    </script>\n",
       "  </div>\n",
       "\n",
       "    </div>\n",
       "  </div>\n"
      ],
      "text/plain": [
       "              x          y         z     gt\n",
       "0     -0.565032  -9.572019 -0.614113  stand\n",
       "1     -0.832584  -9.713276 -0.606930  stand\n",
       "2     -1.018134  -9.935339 -0.544082  stand\n",
       "3     -1.222838 -10.142437 -0.566229  stand\n",
       "4     -1.577180 -10.480618 -0.402824  stand\n",
       "...         ...        ...       ...    ...\n",
       "32228 -7.964911  -0.887650  6.034586   bike\n",
       "32229 -8.882488  -1.451485  6.030994   bike\n",
       "32230 -8.641871  -1.823783  6.533178   bike\n",
       "32231 -9.081207  -1.670554  7.043143   bike\n",
       "32232 -7.817069  -0.821810  6.237494   bike\n",
       "\n",
       "[20000 rows x 4 columns]"
      ]
     },
     "execution_count": 249,
     "metadata": {},
     "output_type": "execute_result"
    }
   ],
   "source": [
    "har_new_concat"
   ]
  },
  {
   "cell_type": "markdown",
   "id": "HABn3qhs9Zt4",
   "metadata": {
    "id": "HABn3qhs9Zt4"
   },
   "source": [
    "### &nbsp;&nbsp;&nbsp;&nbsp; 1.3 Transforming the categorical variables to numerics"
   ]
  },
  {
   "cell_type": "code",
   "execution_count": 250,
   "id": "QCbJBsN39pUR",
   "metadata": {
    "colab": {
     "base_uri": "https://localhost:8080/"
    },
    "executionInfo": {
     "elapsed": 17,
     "status": "ok",
     "timestamp": 1754065021605,
     "user": {
      "displayName": "Jorvany Nelson",
      "userId": "15494697462108672179"
     },
     "user_tz": -120
    },
    "id": "QCbJBsN39pUR",
    "outputId": "5b8b853b-c4f9-4afb-aad6-b9dacc57d2ee"
   },
   "outputs": [
    {
     "name": "stderr",
     "output_type": "stream",
     "text": [
      "/tmp/ipython-input-1529349107.py:6: FutureWarning: Downcasting behavior in `replace` is deprecated and will be removed in a future version. To retain the old behavior, explicitly call `result.infer_objects(copy=False)`. To opt-in to the future behavior, set `pd.set_option('future.no_silent_downcasting', True)`\n",
      "  har_new_concat['gt'] = har_new_concat['gt'].replace(to_replace='bike', value=5)\n"
     ]
    }
   ],
   "source": [
    "har_new_concat['gt'] = har_new_concat['gt'].replace(to_replace='stand', value=0)\n",
    "har_new_concat['gt'] = har_new_concat['gt'].replace(to_replace='sit', value=1)\n",
    "har_new_concat['gt'] = har_new_concat['gt'].replace(to_replace='walk', value=2)\n",
    "har_new_concat['gt'] = har_new_concat['gt'].replace(to_replace='stairup', value=3)\n",
    "har_new_concat['gt'] = har_new_concat['gt'].replace(to_replace='stairdown', value=4)\n",
    "har_new_concat['gt'] = har_new_concat['gt'].replace(to_replace='bike', value=5)"
   ]
  },
  {
   "cell_type": "code",
   "execution_count": 251,
   "id": "HzwGEfXJ9-Nq",
   "metadata": {
    "colab": {
     "base_uri": "https://localhost:8080/",
     "height": 424
    },
    "executionInfo": {
     "elapsed": 33,
     "status": "ok",
     "timestamp": 1754065021640,
     "user": {
      "displayName": "Jorvany Nelson",
      "userId": "15494697462108672179"
     },
     "user_tz": -120
    },
    "id": "HzwGEfXJ9-Nq",
    "outputId": "18cefec5-6d2f-4f43-9388-60f1ed90d684"
   },
   "outputs": [
    {
     "data": {
      "application/vnd.google.colaboratory.intrinsic+json": {
       "summary": "{\n  \"name\": \"har_new_concat\",\n  \"rows\": 20000,\n  \"fields\": [\n    {\n      \"column\": \"x\",\n      \"properties\": {\n        \"dtype\": \"number\",\n        \"std\": 2.0201717268846386,\n        \"min\": -19.6133,\n        \"max\": 3.9612067,\n        \"num_unique_values\": 7982,\n        \"samples\": [\n          -4.821324,\n          -9.938332,\n          -12.551602\n        ],\n        \"semantic_type\": \"\",\n        \"description\": \"\"\n      }\n    },\n    {\n      \"column\": \"y\",\n      \"properties\": {\n        \"dtype\": \"number\",\n        \"std\": 2.4659121469090017,\n        \"min\": -15.020623,\n        \"max\": 11.140221,\n        \"num_unique_values\": 8619,\n        \"samples\": [\n          -3.3614593,\n          -5.6407394,\n          -1.9752164\n        ],\n        \"semantic_type\": \"\",\n        \"description\": \"\"\n      }\n    },\n    {\n      \"column\": \"z\",\n      \"properties\": {\n        \"dtype\": \"number\",\n        \"std\": 3.6930233098228316,\n        \"min\": -10.596737,\n        \"max\": 13.58051,\n        \"num_unique_values\": 9841,\n        \"samples\": [\n          7.2729864,\n          5.5264163,\n          -1.2593501\n        ],\n        \"semantic_type\": \"\",\n        \"description\": \"\"\n      }\n    },\n    {\n      \"column\": \"gt\",\n      \"properties\": {\n        \"dtype\": \"number\",\n        \"std\": 1,\n        \"min\": 0,\n        \"max\": 5,\n        \"num_unique_values\": 4,\n        \"samples\": [\n          1,\n          5,\n          0\n        ],\n        \"semantic_type\": \"\",\n        \"description\": \"\"\n      }\n    }\n  ]\n}",
       "type": "dataframe",
       "variable_name": "har_new_concat"
      },
      "text/html": [
       "\n",
       "  <div id=\"df-af25c540-1ee7-4b22-850f-19c3079360c5\" class=\"colab-df-container\">\n",
       "    <div>\n",
       "<style scoped>\n",
       "    .dataframe tbody tr th:only-of-type {\n",
       "        vertical-align: middle;\n",
       "    }\n",
       "\n",
       "    .dataframe tbody tr th {\n",
       "        vertical-align: top;\n",
       "    }\n",
       "\n",
       "    .dataframe thead th {\n",
       "        text-align: right;\n",
       "    }\n",
       "</style>\n",
       "<table border=\"1\" class=\"dataframe\">\n",
       "  <thead>\n",
       "    <tr style=\"text-align: right;\">\n",
       "      <th></th>\n",
       "      <th>x</th>\n",
       "      <th>y</th>\n",
       "      <th>z</th>\n",
       "      <th>gt</th>\n",
       "    </tr>\n",
       "  </thead>\n",
       "  <tbody>\n",
       "    <tr>\n",
       "      <th>0</th>\n",
       "      <td>-0.565032</td>\n",
       "      <td>-9.572019</td>\n",
       "      <td>-0.614113</td>\n",
       "      <td>0</td>\n",
       "    </tr>\n",
       "    <tr>\n",
       "      <th>1</th>\n",
       "      <td>-0.832584</td>\n",
       "      <td>-9.713276</td>\n",
       "      <td>-0.606930</td>\n",
       "      <td>0</td>\n",
       "    </tr>\n",
       "    <tr>\n",
       "      <th>2</th>\n",
       "      <td>-1.018134</td>\n",
       "      <td>-9.935339</td>\n",
       "      <td>-0.544082</td>\n",
       "      <td>0</td>\n",
       "    </tr>\n",
       "    <tr>\n",
       "      <th>3</th>\n",
       "      <td>-1.222838</td>\n",
       "      <td>-10.142437</td>\n",
       "      <td>-0.566229</td>\n",
       "      <td>0</td>\n",
       "    </tr>\n",
       "    <tr>\n",
       "      <th>4</th>\n",
       "      <td>-1.577180</td>\n",
       "      <td>-10.480618</td>\n",
       "      <td>-0.402824</td>\n",
       "      <td>0</td>\n",
       "    </tr>\n",
       "    <tr>\n",
       "      <th>...</th>\n",
       "      <td>...</td>\n",
       "      <td>...</td>\n",
       "      <td>...</td>\n",
       "      <td>...</td>\n",
       "    </tr>\n",
       "    <tr>\n",
       "      <th>32228</th>\n",
       "      <td>-7.964911</td>\n",
       "      <td>-0.887650</td>\n",
       "      <td>6.034586</td>\n",
       "      <td>5</td>\n",
       "    </tr>\n",
       "    <tr>\n",
       "      <th>32229</th>\n",
       "      <td>-8.882488</td>\n",
       "      <td>-1.451485</td>\n",
       "      <td>6.030994</td>\n",
       "      <td>5</td>\n",
       "    </tr>\n",
       "    <tr>\n",
       "      <th>32230</th>\n",
       "      <td>-8.641871</td>\n",
       "      <td>-1.823783</td>\n",
       "      <td>6.533178</td>\n",
       "      <td>5</td>\n",
       "    </tr>\n",
       "    <tr>\n",
       "      <th>32231</th>\n",
       "      <td>-9.081207</td>\n",
       "      <td>-1.670554</td>\n",
       "      <td>7.043143</td>\n",
       "      <td>5</td>\n",
       "    </tr>\n",
       "    <tr>\n",
       "      <th>32232</th>\n",
       "      <td>-7.817069</td>\n",
       "      <td>-0.821810</td>\n",
       "      <td>6.237494</td>\n",
       "      <td>5</td>\n",
       "    </tr>\n",
       "  </tbody>\n",
       "</table>\n",
       "<p>20000 rows × 4 columns</p>\n",
       "</div>\n",
       "    <div class=\"colab-df-buttons\">\n",
       "\n",
       "  <div class=\"colab-df-container\">\n",
       "    <button class=\"colab-df-convert\" onclick=\"convertToInteractive('df-af25c540-1ee7-4b22-850f-19c3079360c5')\"\n",
       "            title=\"Convert this dataframe to an interactive table.\"\n",
       "            style=\"display:none;\">\n",
       "\n",
       "  <svg xmlns=\"http://www.w3.org/2000/svg\" height=\"24px\" viewBox=\"0 -960 960 960\">\n",
       "    <path d=\"M120-120v-720h720v720H120Zm60-500h600v-160H180v160Zm220 220h160v-160H400v160Zm0 220h160v-160H400v160ZM180-400h160v-160H180v160Zm440 0h160v-160H620v160ZM180-180h160v-160H180v160Zm440 0h160v-160H620v160Z\"/>\n",
       "  </svg>\n",
       "    </button>\n",
       "\n",
       "  <style>\n",
       "    .colab-df-container {\n",
       "      display:flex;\n",
       "      gap: 12px;\n",
       "    }\n",
       "\n",
       "    .colab-df-convert {\n",
       "      background-color: #E8F0FE;\n",
       "      border: none;\n",
       "      border-radius: 50%;\n",
       "      cursor: pointer;\n",
       "      display: none;\n",
       "      fill: #1967D2;\n",
       "      height: 32px;\n",
       "      padding: 0 0 0 0;\n",
       "      width: 32px;\n",
       "    }\n",
       "\n",
       "    .colab-df-convert:hover {\n",
       "      background-color: #E2EBFA;\n",
       "      box-shadow: 0px 1px 2px rgba(60, 64, 67, 0.3), 0px 1px 3px 1px rgba(60, 64, 67, 0.15);\n",
       "      fill: #174EA6;\n",
       "    }\n",
       "\n",
       "    .colab-df-buttons div {\n",
       "      margin-bottom: 4px;\n",
       "    }\n",
       "\n",
       "    [theme=dark] .colab-df-convert {\n",
       "      background-color: #3B4455;\n",
       "      fill: #D2E3FC;\n",
       "    }\n",
       "\n",
       "    [theme=dark] .colab-df-convert:hover {\n",
       "      background-color: #434B5C;\n",
       "      box-shadow: 0px 1px 3px 1px rgba(0, 0, 0, 0.15);\n",
       "      filter: drop-shadow(0px 1px 2px rgba(0, 0, 0, 0.3));\n",
       "      fill: #FFFFFF;\n",
       "    }\n",
       "  </style>\n",
       "\n",
       "    <script>\n",
       "      const buttonEl =\n",
       "        document.querySelector('#df-af25c540-1ee7-4b22-850f-19c3079360c5 button.colab-df-convert');\n",
       "      buttonEl.style.display =\n",
       "        google.colab.kernel.accessAllowed ? 'block' : 'none';\n",
       "\n",
       "      async function convertToInteractive(key) {\n",
       "        const element = document.querySelector('#df-af25c540-1ee7-4b22-850f-19c3079360c5');\n",
       "        const dataTable =\n",
       "          await google.colab.kernel.invokeFunction('convertToInteractive',\n",
       "                                                    [key], {});\n",
       "        if (!dataTable) return;\n",
       "\n",
       "        const docLinkHtml = 'Like what you see? Visit the ' +\n",
       "          '<a target=\"_blank\" href=https://colab.research.google.com/notebooks/data_table.ipynb>data table notebook</a>'\n",
       "          + ' to learn more about interactive tables.';\n",
       "        element.innerHTML = '';\n",
       "        dataTable['output_type'] = 'display_data';\n",
       "        await google.colab.output.renderOutput(dataTable, element);\n",
       "        const docLink = document.createElement('div');\n",
       "        docLink.innerHTML = docLinkHtml;\n",
       "        element.appendChild(docLink);\n",
       "      }\n",
       "    </script>\n",
       "  </div>\n",
       "\n",
       "\n",
       "    <div id=\"df-38d4589f-63ac-4549-bbaa-6ad34b10beb0\">\n",
       "      <button class=\"colab-df-quickchart\" onclick=\"quickchart('df-38d4589f-63ac-4549-bbaa-6ad34b10beb0')\"\n",
       "                title=\"Suggest charts\"\n",
       "                style=\"display:none;\">\n",
       "\n",
       "<svg xmlns=\"http://www.w3.org/2000/svg\" height=\"24px\"viewBox=\"0 0 24 24\"\n",
       "     width=\"24px\">\n",
       "    <g>\n",
       "        <path d=\"M19 3H5c-1.1 0-2 .9-2 2v14c0 1.1.9 2 2 2h14c1.1 0 2-.9 2-2V5c0-1.1-.9-2-2-2zM9 17H7v-7h2v7zm4 0h-2V7h2v10zm4 0h-2v-4h2v4z\"/>\n",
       "    </g>\n",
       "</svg>\n",
       "      </button>\n",
       "\n",
       "<style>\n",
       "  .colab-df-quickchart {\n",
       "      --bg-color: #E8F0FE;\n",
       "      --fill-color: #1967D2;\n",
       "      --hover-bg-color: #E2EBFA;\n",
       "      --hover-fill-color: #174EA6;\n",
       "      --disabled-fill-color: #AAA;\n",
       "      --disabled-bg-color: #DDD;\n",
       "  }\n",
       "\n",
       "  [theme=dark] .colab-df-quickchart {\n",
       "      --bg-color: #3B4455;\n",
       "      --fill-color: #D2E3FC;\n",
       "      --hover-bg-color: #434B5C;\n",
       "      --hover-fill-color: #FFFFFF;\n",
       "      --disabled-bg-color: #3B4455;\n",
       "      --disabled-fill-color: #666;\n",
       "  }\n",
       "\n",
       "  .colab-df-quickchart {\n",
       "    background-color: var(--bg-color);\n",
       "    border: none;\n",
       "    border-radius: 50%;\n",
       "    cursor: pointer;\n",
       "    display: none;\n",
       "    fill: var(--fill-color);\n",
       "    height: 32px;\n",
       "    padding: 0;\n",
       "    width: 32px;\n",
       "  }\n",
       "\n",
       "  .colab-df-quickchart:hover {\n",
       "    background-color: var(--hover-bg-color);\n",
       "    box-shadow: 0 1px 2px rgba(60, 64, 67, 0.3), 0 1px 3px 1px rgba(60, 64, 67, 0.15);\n",
       "    fill: var(--button-hover-fill-color);\n",
       "  }\n",
       "\n",
       "  .colab-df-quickchart-complete:disabled,\n",
       "  .colab-df-quickchart-complete:disabled:hover {\n",
       "    background-color: var(--disabled-bg-color);\n",
       "    fill: var(--disabled-fill-color);\n",
       "    box-shadow: none;\n",
       "  }\n",
       "\n",
       "  .colab-df-spinner {\n",
       "    border: 2px solid var(--fill-color);\n",
       "    border-color: transparent;\n",
       "    border-bottom-color: var(--fill-color);\n",
       "    animation:\n",
       "      spin 1s steps(1) infinite;\n",
       "  }\n",
       "\n",
       "  @keyframes spin {\n",
       "    0% {\n",
       "      border-color: transparent;\n",
       "      border-bottom-color: var(--fill-color);\n",
       "      border-left-color: var(--fill-color);\n",
       "    }\n",
       "    20% {\n",
       "      border-color: transparent;\n",
       "      border-left-color: var(--fill-color);\n",
       "      border-top-color: var(--fill-color);\n",
       "    }\n",
       "    30% {\n",
       "      border-color: transparent;\n",
       "      border-left-color: var(--fill-color);\n",
       "      border-top-color: var(--fill-color);\n",
       "      border-right-color: var(--fill-color);\n",
       "    }\n",
       "    40% {\n",
       "      border-color: transparent;\n",
       "      border-right-color: var(--fill-color);\n",
       "      border-top-color: var(--fill-color);\n",
       "    }\n",
       "    60% {\n",
       "      border-color: transparent;\n",
       "      border-right-color: var(--fill-color);\n",
       "    }\n",
       "    80% {\n",
       "      border-color: transparent;\n",
       "      border-right-color: var(--fill-color);\n",
       "      border-bottom-color: var(--fill-color);\n",
       "    }\n",
       "    90% {\n",
       "      border-color: transparent;\n",
       "      border-bottom-color: var(--fill-color);\n",
       "    }\n",
       "  }\n",
       "</style>\n",
       "\n",
       "      <script>\n",
       "        async function quickchart(key) {\n",
       "          const quickchartButtonEl =\n",
       "            document.querySelector('#' + key + ' button');\n",
       "          quickchartButtonEl.disabled = true;  // To prevent multiple clicks.\n",
       "          quickchartButtonEl.classList.add('colab-df-spinner');\n",
       "          try {\n",
       "            const charts = await google.colab.kernel.invokeFunction(\n",
       "                'suggestCharts', [key], {});\n",
       "          } catch (error) {\n",
       "            console.error('Error during call to suggestCharts:', error);\n",
       "          }\n",
       "          quickchartButtonEl.classList.remove('colab-df-spinner');\n",
       "          quickchartButtonEl.classList.add('colab-df-quickchart-complete');\n",
       "        }\n",
       "        (() => {\n",
       "          let quickchartButtonEl =\n",
       "            document.querySelector('#df-38d4589f-63ac-4549-bbaa-6ad34b10beb0 button');\n",
       "          quickchartButtonEl.style.display =\n",
       "            google.colab.kernel.accessAllowed ? 'block' : 'none';\n",
       "        })();\n",
       "      </script>\n",
       "    </div>\n",
       "\n",
       "  <div id=\"id_a7c52ca5-cc72-4aee-b946-65457ca8acba\">\n",
       "    <style>\n",
       "      .colab-df-generate {\n",
       "        background-color: #E8F0FE;\n",
       "        border: none;\n",
       "        border-radius: 50%;\n",
       "        cursor: pointer;\n",
       "        display: none;\n",
       "        fill: #1967D2;\n",
       "        height: 32px;\n",
       "        padding: 0 0 0 0;\n",
       "        width: 32px;\n",
       "      }\n",
       "\n",
       "      .colab-df-generate:hover {\n",
       "        background-color: #E2EBFA;\n",
       "        box-shadow: 0px 1px 2px rgba(60, 64, 67, 0.3), 0px 1px 3px 1px rgba(60, 64, 67, 0.15);\n",
       "        fill: #174EA6;\n",
       "      }\n",
       "\n",
       "      [theme=dark] .colab-df-generate {\n",
       "        background-color: #3B4455;\n",
       "        fill: #D2E3FC;\n",
       "      }\n",
       "\n",
       "      [theme=dark] .colab-df-generate:hover {\n",
       "        background-color: #434B5C;\n",
       "        box-shadow: 0px 1px 3px 1px rgba(0, 0, 0, 0.15);\n",
       "        filter: drop-shadow(0px 1px 2px rgba(0, 0, 0, 0.3));\n",
       "        fill: #FFFFFF;\n",
       "      }\n",
       "    </style>\n",
       "    <button class=\"colab-df-generate\" onclick=\"generateWithVariable('har_new_concat')\"\n",
       "            title=\"Generate code using this dataframe.\"\n",
       "            style=\"display:none;\">\n",
       "\n",
       "  <svg xmlns=\"http://www.w3.org/2000/svg\" height=\"24px\"viewBox=\"0 0 24 24\"\n",
       "       width=\"24px\">\n",
       "    <path d=\"M7,19H8.4L18.45,9,17,7.55,7,17.6ZM5,21V16.75L18.45,3.32a2,2,0,0,1,2.83,0l1.4,1.43a1.91,1.91,0,0,1,.58,1.4,1.91,1.91,0,0,1-.58,1.4L9.25,21ZM18.45,9,17,7.55Zm-12,3A5.31,5.31,0,0,0,4.9,8.1,5.31,5.31,0,0,0,1,6.5,5.31,5.31,0,0,0,4.9,4.9,5.31,5.31,0,0,0,6.5,1,5.31,5.31,0,0,0,8.1,4.9,5.31,5.31,0,0,0,12,6.5,5.46,5.46,0,0,0,6.5,12Z\"/>\n",
       "  </svg>\n",
       "    </button>\n",
       "    <script>\n",
       "      (() => {\n",
       "      const buttonEl =\n",
       "        document.querySelector('#id_a7c52ca5-cc72-4aee-b946-65457ca8acba button.colab-df-generate');\n",
       "      buttonEl.style.display =\n",
       "        google.colab.kernel.accessAllowed ? 'block' : 'none';\n",
       "\n",
       "      buttonEl.onclick = () => {\n",
       "        google.colab.notebook.generateWithVariable('har_new_concat');\n",
       "      }\n",
       "      })();\n",
       "    </script>\n",
       "  </div>\n",
       "\n",
       "    </div>\n",
       "  </div>\n"
      ],
      "text/plain": [
       "              x          y         z  gt\n",
       "0     -0.565032  -9.572019 -0.614113   0\n",
       "1     -0.832584  -9.713276 -0.606930   0\n",
       "2     -1.018134  -9.935339 -0.544082   0\n",
       "3     -1.222838 -10.142437 -0.566229   0\n",
       "4     -1.577180 -10.480618 -0.402824   0\n",
       "...         ...        ...       ...  ..\n",
       "32228 -7.964911  -0.887650  6.034586   5\n",
       "32229 -8.882488  -1.451485  6.030994   5\n",
       "32230 -8.641871  -1.823783  6.533178   5\n",
       "32231 -9.081207  -1.670554  7.043143   5\n",
       "32232 -7.817069  -0.821810  6.237494   5\n",
       "\n",
       "[20000 rows x 4 columns]"
      ]
     },
     "execution_count": 251,
     "metadata": {},
     "output_type": "execute_result"
    }
   ],
   "source": [
    "har_new_concat"
   ]
  },
  {
   "cell_type": "markdown",
   "id": "zpuI-c5l-W4R",
   "metadata": {
    "id": "zpuI-c5l-W4R"
   },
   "source": [
    "- Categorical variables has been replace with intergers"
   ]
  },
  {
   "cell_type": "markdown",
   "id": "YyWOPLvr54yh",
   "metadata": {
    "id": "YyWOPLvr54yh"
   },
   "source": [
    "# 🎁 2. Feature Engineering 🎁\n",
    "- Since we've three featureas x, y, and z, therefore we will extract 4 new features from x, y and y. i.e. We'll create 12 new features from the existing features.\n",
    "  - The samples in the new feature will be less than in the original.\n",
    "    - We've 20000 feature in the original x, y and z features.\n",
    "    - With the window size of 256, our new features will have (20000 - 256) samples.\n",
    "  - After creating the new features, we will only use the new features in our dataset and the old features will be deleted"
   ]
  },
  {
   "cell_type": "markdown",
   "id": "ot0Zuy9YL2_O",
   "metadata": {
    "id": "ot0Zuy9YL2_O"
   },
   "source": [
    "### &nbsp;&nbsp;&nbsp;&nbsp; 2.1 Creating new Features"
   ]
  },
  {
   "cell_type": "code",
   "execution_count": 252,
   "id": "YzLNop2F6Bt-",
   "metadata": {
    "executionInfo": {
     "elapsed": 1633,
     "status": "ok",
     "timestamp": 1754065023278,
     "user": {
      "displayName": "Jorvany Nelson",
      "userId": "15494697462108672179"
     },
     "user_tz": -120
    },
    "id": "YzLNop2F6Bt-"
   },
   "outputs": [],
   "source": [
    "# Step 1: create 12 empty list\n",
    "\n",
    "# Creating empty lists to store the new features of x\n",
    "X_Min = []\n",
    "X_Max = []\n",
    "X_Mean = []\n",
    "X_Std = []\n",
    "\n",
    "# Creating empty lists to store the new features of y\n",
    "Y_Min = []\n",
    "Y_Max = []\n",
    "Y_Mean = []\n",
    "Y_Std = []\n",
    "\n",
    "# Creating empty lists to store the new features of z\n",
    "Z_Min = []\n",
    "Z_Max = []\n",
    "Z_Mean = []\n",
    "Z_Std = []\n",
    "\n",
    "# Creating an empty lists for the labels\n",
    "labels = []\n",
    "\n",
    "# Defining the window size\n",
    "win = 256\n",
    "\n",
    "# Step 2: Extracting the value of x, y, z and gt from the dataset\n",
    "X = har_new_concat['x'].values\n",
    "Y = har_new_concat['y'].values\n",
    "Z = har_new_concat['z'].values\n",
    "\n",
    "gt = har_new_concat['gt'].values\n",
    "\n",
    "#\n",
    "\n",
    "# Step 2: Calculate their values using for loop.\n",
    "  # Running the for loop for 20000 - window size.\n",
    "for i in range(len(X) - win):\n",
    "\n",
    "  # Extracting 256 samples every time the loop runs\n",
    "  X_i = X[i : i + win]\n",
    "  Y_i = Y[i : i + win]\n",
    "  Z_i = Z[i : i + win]\n",
    "\n",
    "  y = gt[i + win]\n",
    "  labels.append(y)\n",
    "\n",
    "\n",
    "  # From the Extracted 256 sample above, we will calculcate the min., max., mean., and st., of X and then apppend it to the empty list\n",
    "  X_Min.append(np.min(X_i))\n",
    "  X_Max.append(np.max(X_i))\n",
    "  X_Mean.append(np.mean(X_i))\n",
    "  X_Std.append(np.std(X_i))\n",
    "\n",
    "  # From the extracted 256 samples above we will also calculate the min., max., mean., and st. of Y then apppend it to the empty list\n",
    "  Y_Min.append(np.min(Y_i))\n",
    "  Y_Max.append(np.max(Y_i))\n",
    "  Y_Mean.append(np.mean(Y_i))\n",
    "  Y_Std.append(np.std(Y_i))\n",
    "\n",
    "  # From the extracted 256 samples above we will also calculate the min., max., mean., and st. of Z then apppend it to the empty list\n",
    "  Z_Min.append(np.min(Z_i))\n",
    "  Z_Max.append(np.max(Z_i))\n",
    "  Z_Mean.append(np.mean(Z_i))\n",
    "  Z_Std.append(np.std(Z_i))\n",
    "\n",
    "# So new features have been created"
   ]
  },
  {
   "cell_type": "markdown",
   "id": "QL0JfuJIBjkp",
   "metadata": {
    "id": "QL0JfuJIBjkp"
   },
   "source": [
    "### &nbsp;&nbsp;&nbsp;&nbsp; 2.2 Creating a new Datafram consisting of only the new feature."
   ]
  },
  {
   "cell_type": "code",
   "execution_count": 253,
   "id": "g6QFNbnxB3_P",
   "metadata": {
    "executionInfo": {
     "elapsed": 39,
     "status": "ok",
     "timestamp": 1754065023319,
     "user": {
      "displayName": "Jorvany Nelson",
      "userId": "15494697462108672179"
     },
     "user_tz": -120
    },
    "id": "g6QFNbnxB3_P"
   },
   "outputs": [],
   "source": [
    "New_Dataframe  = pd.DataFrame({\n",
    "    'X_Min': X_Min, 'X_Max': X_Max, 'X_Mean': X_Mean, 'X_Std': X_Std,\n",
    "    'Y_Min': Y_Min, 'Y_Max': Y_Max, 'Y_Mean': Y_Mean, 'Y_Std': Y_Std,\n",
    "    'Z_Min': Z_Min, 'Z_Max': Z_Max, 'Z_Mean': Z_Mean, 'Z_Std': Z_Std,\n",
    "    'labels': labels\n",
    "})"
   ]
  },
  {
   "cell_type": "code",
   "execution_count": 254,
   "id": "elCPotQHEyHG",
   "metadata": {
    "colab": {
     "base_uri": "https://localhost:8080/",
     "height": 424
    },
    "executionInfo": {
     "elapsed": 33,
     "status": "ok",
     "timestamp": 1754065023376,
     "user": {
      "displayName": "Jorvany Nelson",
      "userId": "15494697462108672179"
     },
     "user_tz": -120
    },
    "id": "elCPotQHEyHG",
    "outputId": "f9e360b3-deca-4282-b6c3-f812595da333"
   },
   "outputs": [
    {
     "data": {
      "application/vnd.google.colaboratory.intrinsic+json": {
       "summary": "{\n  \"name\": \"New_Dataframe\",\n  \"rows\": 19744,\n  \"fields\": [\n    {\n      \"column\": \"X_Min\",\n      \"properties\": {\n        \"dtype\": \"number\",\n        \"std\": 3.317885029194045,\n        \"min\": -19.6133,\n        \"max\": -7.6105685,\n        \"num_unique_values\": 336,\n        \"samples\": [\n          -9.333197,\n          -10.685921,\n          -10.469246\n        ],\n        \"semantic_type\": \"\",\n        \"description\": \"\"\n      }\n    },\n    {\n      \"column\": \"X_Max\",\n      \"properties\": {\n        \"dtype\": \"number\",\n        \"std\": 3.025725980305955,\n        \"min\": -9.796474,\n        \"max\": 3.9612067,\n        \"num_unique_values\": 357,\n        \"samples\": [\n          -5.1607018,\n          -9.300277,\n          -5.898116\n        ],\n        \"semantic_type\": \"\",\n        \"description\": \"\"\n      }\n    },\n    {\n      \"column\": \"X_Mean\",\n      \"properties\": {\n        \"dtype\": \"number\",\n        \"std\": 1.3128716376141956,\n        \"min\": -10.820702114843751,\n        \"max\": -4.4564206840625,\n        \"num_unique_values\": 19710,\n        \"samples\": [\n          -7.707148033203126,\n          -7.661510878515625,\n          -9.898321919921875\n        ],\n        \"semantic_type\": \"\",\n        \"description\": \"\"\n      }\n    },\n    {\n      \"column\": \"X_Std\",\n      \"properties\": {\n        \"dtype\": \"number\",\n        \"std\": 1.1149405437952014,\n        \"min\": 0.02124647484398405,\n        \"max\": 3.851271122932546,\n        \"num_unique_values\": 19726,\n        \"samples\": [\n          2.0381245974456554,\n          1.1796897192312819,\n          2.374739852059891\n        ],\n        \"semantic_type\": \"\",\n        \"description\": \"\"\n      }\n    },\n    {\n      \"column\": \"Y_Min\",\n      \"properties\": {\n        \"dtype\": \"number\",\n        \"std\": 3.0930553474380766,\n        \"min\": -15.020623,\n        \"max\": -0.81402856,\n        \"num_unique_values\": 386,\n        \"samples\": [\n          -5.2600613,\n          -5.457583,\n          -4.012682\n        ],\n        \"semantic_type\": \"\",\n        \"description\": \"\"\n      }\n    },\n    {\n      \"column\": \"Y_Max\",\n      \"properties\": {\n        \"dtype\": \"number\",\n        \"std\": 3.442258140814907,\n        \"min\": -5.637148,\n        \"max\": 11.140221,\n        \"num_unique_values\": 412,\n        \"samples\": [\n          1.5376761,\n          -3.3452983,\n          -3.3500867\n        ],\n        \"semantic_type\": \"\",\n        \"description\": \"\"\n      }\n    },\n    {\n      \"column\": \"Y_Mean\",\n      \"properties\": {\n        \"dtype\": \"number\",\n        \"std\": 2.086900840559874,\n        \"min\": -8.02400802734375,\n        \"max\": 2.4600656326171872,\n        \"num_unique_values\": 19720,\n        \"samples\": [\n          -1.1749147362968748,\n          -1.2291607084609375,\n          2.4600656326171872\n        ],\n        \"semantic_type\": \"\",\n        \"description\": \"\"\n      }\n    },\n    {\n      \"column\": \"Y_Std\",\n      \"properties\": {\n        \"dtype\": \"number\",\n        \"std\": 0.9833332574327184,\n        \"min\": 0.02494393467371304,\n        \"max\": 5.5035024097976555,\n        \"num_unique_values\": 19724,\n        \"samples\": [\n          0.7198814021074943,\n          0.7240865647911654,\n          4.635064777625529\n        ],\n        \"semantic_type\": \"\",\n        \"description\": \"\"\n      }\n    },\n    {\n      \"column\": \"Z_Min\",\n      \"properties\": {\n        \"dtype\": \"number\",\n        \"std\": 4.400379462741683,\n        \"min\": -10.596737,\n        \"max\": 5.2995653,\n        \"num_unique_values\": 408,\n        \"samples\": [\n          -1.6472107,\n          2.753332,\n          -7.0886326\n        ],\n        \"semantic_type\": \"\",\n        \"description\": \"\"\n      }\n    },\n    {\n      \"column\": \"Z_Max\",\n      \"properties\": {\n        \"dtype\": \"number\",\n        \"std\": 4.059661133444675,\n        \"min\": -1.7495629,\n        \"max\": 13.58051,\n        \"num_unique_values\": 482,\n        \"samples\": [\n          10.933122,\n          8.590396,\n          0.1376666\n        ],\n        \"semantic_type\": \"\",\n        \"description\": \"\"\n      }\n    },\n    {\n      \"column\": \"Z_Mean\",\n      \"properties\": {\n        \"dtype\": \"number\",\n        \"std\": 3.501848895308024,\n        \"min\": -4.932770958632812,\n        \"max\": 6.5359602125,\n        \"num_unique_values\": 19712,\n        \"samples\": [\n          5.78020846625,\n          2.698040849609375,\n          -0.2834720789453125\n        ],\n        \"semantic_type\": \"\",\n        \"description\": \"\"\n      }\n    },\n    {\n      \"column\": \"Z_Std\",\n      \"properties\": {\n        \"dtype\": \"number\",\n        \"std\": 0.852294275440625,\n        \"min\": 0.023735999093430615,\n        \"max\": 4.898875502011671,\n        \"num_unique_values\": 19721,\n        \"samples\": [\n          0.9426221841977704,\n          0.6672464804949513,\n          4.683363772557881\n        ],\n        \"semantic_type\": \"\",\n        \"description\": \"\"\n      }\n    },\n    {\n      \"column\": \"labels\",\n      \"properties\": {\n        \"dtype\": \"number\",\n        \"std\": 1,\n        \"min\": 0,\n        \"max\": 5,\n        \"num_unique_values\": 4,\n        \"samples\": [\n          1,\n          5,\n          0\n        ],\n        \"semantic_type\": \"\",\n        \"description\": \"\"\n      }\n    }\n  ]\n}",
       "type": "dataframe",
       "variable_name": "New_Dataframe"
      },
      "text/html": [
       "\n",
       "  <div id=\"df-b4a51cf0-f62c-4d16-adc6-7966e9e7b137\" class=\"colab-df-container\">\n",
       "    <div>\n",
       "<style scoped>\n",
       "    .dataframe tbody tr th:only-of-type {\n",
       "        vertical-align: middle;\n",
       "    }\n",
       "\n",
       "    .dataframe tbody tr th {\n",
       "        vertical-align: top;\n",
       "    }\n",
       "\n",
       "    .dataframe thead th {\n",
       "        text-align: right;\n",
       "    }\n",
       "</style>\n",
       "<table border=\"1\" class=\"dataframe\">\n",
       "  <thead>\n",
       "    <tr style=\"text-align: right;\">\n",
       "      <th></th>\n",
       "      <th>X_Min</th>\n",
       "      <th>X_Max</th>\n",
       "      <th>X_Mean</th>\n",
       "      <th>X_Std</th>\n",
       "      <th>Y_Min</th>\n",
       "      <th>Y_Max</th>\n",
       "      <th>Y_Mean</th>\n",
       "      <th>Y_Std</th>\n",
       "      <th>Z_Min</th>\n",
       "      <th>Z_Max</th>\n",
       "      <th>Z_Mean</th>\n",
       "      <th>Z_Std</th>\n",
       "      <th>labels</th>\n",
       "    </tr>\n",
       "  </thead>\n",
       "  <tbody>\n",
       "    <tr>\n",
       "      <th>0</th>\n",
       "      <td>-12.600683</td>\n",
       "      <td>-0.565032</td>\n",
       "      <td>-8.930767</td>\n",
       "      <td>1.345873</td>\n",
       "      <td>-11.082760</td>\n",
       "      <td>-3.336919</td>\n",
       "      <td>-3.954286</td>\n",
       "      <td>1.272895</td>\n",
       "      <td>-1.379060</td>\n",
       "      <td>1.015740</td>\n",
       "      <td>-1.006481</td>\n",
       "      <td>0.298180</td>\n",
       "      <td>0</td>\n",
       "    </tr>\n",
       "    <tr>\n",
       "      <th>1</th>\n",
       "      <td>-12.600683</td>\n",
       "      <td>-0.832584</td>\n",
       "      <td>-8.963975</td>\n",
       "      <td>1.239743</td>\n",
       "      <td>-11.082760</td>\n",
       "      <td>-3.336919</td>\n",
       "      <td>-3.932986</td>\n",
       "      <td>1.223371</td>\n",
       "      <td>-1.379060</td>\n",
       "      <td>1.015740</td>\n",
       "      <td>-1.008789</td>\n",
       "      <td>0.297420</td>\n",
       "      <td>0</td>\n",
       "    </tr>\n",
       "    <tr>\n",
       "      <th>2</th>\n",
       "      <td>-12.600683</td>\n",
       "      <td>-1.018134</td>\n",
       "      <td>-8.996428</td>\n",
       "      <td>1.130377</td>\n",
       "      <td>-11.082760</td>\n",
       "      <td>-3.336919</td>\n",
       "      <td>-3.910559</td>\n",
       "      <td>1.168600</td>\n",
       "      <td>-1.379060</td>\n",
       "      <td>1.015740</td>\n",
       "      <td>-1.011457</td>\n",
       "      <td>0.296866</td>\n",
       "      <td>0</td>\n",
       "    </tr>\n",
       "    <tr>\n",
       "      <th>3</th>\n",
       "      <td>-12.600683</td>\n",
       "      <td>-1.222838</td>\n",
       "      <td>-9.028315</td>\n",
       "      <td>1.014014</td>\n",
       "      <td>-11.082760</td>\n",
       "      <td>-3.336919</td>\n",
       "      <td>-3.886816</td>\n",
       "      <td>1.106022</td>\n",
       "      <td>-1.379060</td>\n",
       "      <td>1.015740</td>\n",
       "      <td>-1.014370</td>\n",
       "      <td>0.295923</td>\n",
       "      <td>0</td>\n",
       "    </tr>\n",
       "    <tr>\n",
       "      <th>4</th>\n",
       "      <td>-12.600683</td>\n",
       "      <td>-1.577180</td>\n",
       "      <td>-9.059589</td>\n",
       "      <td>0.888489</td>\n",
       "      <td>-11.082760</td>\n",
       "      <td>-3.336919</td>\n",
       "      <td>-3.861887</td>\n",
       "      <td>1.034341</td>\n",
       "      <td>-1.379060</td>\n",
       "      <td>1.015740</td>\n",
       "      <td>-1.017286</td>\n",
       "      <td>0.295169</td>\n",
       "      <td>0</td>\n",
       "    </tr>\n",
       "    <tr>\n",
       "      <th>...</th>\n",
       "      <td>...</td>\n",
       "      <td>...</td>\n",
       "      <td>...</td>\n",
       "      <td>...</td>\n",
       "      <td>...</td>\n",
       "      <td>...</td>\n",
       "      <td>...</td>\n",
       "      <td>...</td>\n",
       "      <td>...</td>\n",
       "      <td>...</td>\n",
       "      <td>...</td>\n",
       "      <td>...</td>\n",
       "      <td>...</td>\n",
       "    </tr>\n",
       "    <tr>\n",
       "      <th>19739</th>\n",
       "      <td>-11.146805</td>\n",
       "      <td>-4.592678</td>\n",
       "      <td>-7.576585</td>\n",
       "      <td>1.146897</td>\n",
       "      <td>-3.280655</td>\n",
       "      <td>1.973421</td>\n",
       "      <td>-0.822640</td>\n",
       "      <td>0.926178</td>\n",
       "      <td>3.188478</td>\n",
       "      <td>8.395866</td>\n",
       "      <td>5.920372</td>\n",
       "      <td>0.951775</td>\n",
       "      <td>5</td>\n",
       "    </tr>\n",
       "    <tr>\n",
       "      <th>19740</th>\n",
       "      <td>-11.146805</td>\n",
       "      <td>-4.592678</td>\n",
       "      <td>-7.576867</td>\n",
       "      <td>1.146983</td>\n",
       "      <td>-3.280655</td>\n",
       "      <td>1.973421</td>\n",
       "      <td>-0.824971</td>\n",
       "      <td>0.925588</td>\n",
       "      <td>3.188478</td>\n",
       "      <td>8.395866</td>\n",
       "      <td>5.916360</td>\n",
       "      <td>0.949116</td>\n",
       "      <td>5</td>\n",
       "    </tr>\n",
       "    <tr>\n",
       "      <th>19741</th>\n",
       "      <td>-11.146805</td>\n",
       "      <td>-4.592678</td>\n",
       "      <td>-7.584871</td>\n",
       "      <td>1.148916</td>\n",
       "      <td>-3.280655</td>\n",
       "      <td>1.973421</td>\n",
       "      <td>-0.828515</td>\n",
       "      <td>0.926243</td>\n",
       "      <td>3.188478</td>\n",
       "      <td>8.395866</td>\n",
       "      <td>5.912890</td>\n",
       "      <td>0.947065</td>\n",
       "      <td>5</td>\n",
       "    </tr>\n",
       "    <tr>\n",
       "      <th>19742</th>\n",
       "      <td>-11.146805</td>\n",
       "      <td>-4.592678</td>\n",
       "      <td>-7.593325</td>\n",
       "      <td>1.148700</td>\n",
       "      <td>-3.280655</td>\n",
       "      <td>1.973421</td>\n",
       "      <td>-0.834323</td>\n",
       "      <td>0.927802</td>\n",
       "      <td>3.188478</td>\n",
       "      <td>8.395866</td>\n",
       "      <td>5.910702</td>\n",
       "      <td>0.944980</td>\n",
       "      <td>5</td>\n",
       "    </tr>\n",
       "    <tr>\n",
       "      <th>19743</th>\n",
       "      <td>-11.146805</td>\n",
       "      <td>-4.592678</td>\n",
       "      <td>-7.602231</td>\n",
       "      <td>1.151360</td>\n",
       "      <td>-3.280655</td>\n",
       "      <td>1.973421</td>\n",
       "      <td>-0.838882</td>\n",
       "      <td>0.929032</td>\n",
       "      <td>3.188478</td>\n",
       "      <td>8.395866</td>\n",
       "      <td>5.911277</td>\n",
       "      <td>0.945624</td>\n",
       "      <td>5</td>\n",
       "    </tr>\n",
       "  </tbody>\n",
       "</table>\n",
       "<p>19744 rows × 13 columns</p>\n",
       "</div>\n",
       "    <div class=\"colab-df-buttons\">\n",
       "\n",
       "  <div class=\"colab-df-container\">\n",
       "    <button class=\"colab-df-convert\" onclick=\"convertToInteractive('df-b4a51cf0-f62c-4d16-adc6-7966e9e7b137')\"\n",
       "            title=\"Convert this dataframe to an interactive table.\"\n",
       "            style=\"display:none;\">\n",
       "\n",
       "  <svg xmlns=\"http://www.w3.org/2000/svg\" height=\"24px\" viewBox=\"0 -960 960 960\">\n",
       "    <path d=\"M120-120v-720h720v720H120Zm60-500h600v-160H180v160Zm220 220h160v-160H400v160Zm0 220h160v-160H400v160ZM180-400h160v-160H180v160Zm440 0h160v-160H620v160ZM180-180h160v-160H180v160Zm440 0h160v-160H620v160Z\"/>\n",
       "  </svg>\n",
       "    </button>\n",
       "\n",
       "  <style>\n",
       "    .colab-df-container {\n",
       "      display:flex;\n",
       "      gap: 12px;\n",
       "    }\n",
       "\n",
       "    .colab-df-convert {\n",
       "      background-color: #E8F0FE;\n",
       "      border: none;\n",
       "      border-radius: 50%;\n",
       "      cursor: pointer;\n",
       "      display: none;\n",
       "      fill: #1967D2;\n",
       "      height: 32px;\n",
       "      padding: 0 0 0 0;\n",
       "      width: 32px;\n",
       "    }\n",
       "\n",
       "    .colab-df-convert:hover {\n",
       "      background-color: #E2EBFA;\n",
       "      box-shadow: 0px 1px 2px rgba(60, 64, 67, 0.3), 0px 1px 3px 1px rgba(60, 64, 67, 0.15);\n",
       "      fill: #174EA6;\n",
       "    }\n",
       "\n",
       "    .colab-df-buttons div {\n",
       "      margin-bottom: 4px;\n",
       "    }\n",
       "\n",
       "    [theme=dark] .colab-df-convert {\n",
       "      background-color: #3B4455;\n",
       "      fill: #D2E3FC;\n",
       "    }\n",
       "\n",
       "    [theme=dark] .colab-df-convert:hover {\n",
       "      background-color: #434B5C;\n",
       "      box-shadow: 0px 1px 3px 1px rgba(0, 0, 0, 0.15);\n",
       "      filter: drop-shadow(0px 1px 2px rgba(0, 0, 0, 0.3));\n",
       "      fill: #FFFFFF;\n",
       "    }\n",
       "  </style>\n",
       "\n",
       "    <script>\n",
       "      const buttonEl =\n",
       "        document.querySelector('#df-b4a51cf0-f62c-4d16-adc6-7966e9e7b137 button.colab-df-convert');\n",
       "      buttonEl.style.display =\n",
       "        google.colab.kernel.accessAllowed ? 'block' : 'none';\n",
       "\n",
       "      async function convertToInteractive(key) {\n",
       "        const element = document.querySelector('#df-b4a51cf0-f62c-4d16-adc6-7966e9e7b137');\n",
       "        const dataTable =\n",
       "          await google.colab.kernel.invokeFunction('convertToInteractive',\n",
       "                                                    [key], {});\n",
       "        if (!dataTable) return;\n",
       "\n",
       "        const docLinkHtml = 'Like what you see? Visit the ' +\n",
       "          '<a target=\"_blank\" href=https://colab.research.google.com/notebooks/data_table.ipynb>data table notebook</a>'\n",
       "          + ' to learn more about interactive tables.';\n",
       "        element.innerHTML = '';\n",
       "        dataTable['output_type'] = 'display_data';\n",
       "        await google.colab.output.renderOutput(dataTable, element);\n",
       "        const docLink = document.createElement('div');\n",
       "        docLink.innerHTML = docLinkHtml;\n",
       "        element.appendChild(docLink);\n",
       "      }\n",
       "    </script>\n",
       "  </div>\n",
       "\n",
       "\n",
       "    <div id=\"df-2e776b9a-30f6-4086-bf47-0008011050ee\">\n",
       "      <button class=\"colab-df-quickchart\" onclick=\"quickchart('df-2e776b9a-30f6-4086-bf47-0008011050ee')\"\n",
       "                title=\"Suggest charts\"\n",
       "                style=\"display:none;\">\n",
       "\n",
       "<svg xmlns=\"http://www.w3.org/2000/svg\" height=\"24px\"viewBox=\"0 0 24 24\"\n",
       "     width=\"24px\">\n",
       "    <g>\n",
       "        <path d=\"M19 3H5c-1.1 0-2 .9-2 2v14c0 1.1.9 2 2 2h14c1.1 0 2-.9 2-2V5c0-1.1-.9-2-2-2zM9 17H7v-7h2v7zm4 0h-2V7h2v10zm4 0h-2v-4h2v4z\"/>\n",
       "    </g>\n",
       "</svg>\n",
       "      </button>\n",
       "\n",
       "<style>\n",
       "  .colab-df-quickchart {\n",
       "      --bg-color: #E8F0FE;\n",
       "      --fill-color: #1967D2;\n",
       "      --hover-bg-color: #E2EBFA;\n",
       "      --hover-fill-color: #174EA6;\n",
       "      --disabled-fill-color: #AAA;\n",
       "      --disabled-bg-color: #DDD;\n",
       "  }\n",
       "\n",
       "  [theme=dark] .colab-df-quickchart {\n",
       "      --bg-color: #3B4455;\n",
       "      --fill-color: #D2E3FC;\n",
       "      --hover-bg-color: #434B5C;\n",
       "      --hover-fill-color: #FFFFFF;\n",
       "      --disabled-bg-color: #3B4455;\n",
       "      --disabled-fill-color: #666;\n",
       "  }\n",
       "\n",
       "  .colab-df-quickchart {\n",
       "    background-color: var(--bg-color);\n",
       "    border: none;\n",
       "    border-radius: 50%;\n",
       "    cursor: pointer;\n",
       "    display: none;\n",
       "    fill: var(--fill-color);\n",
       "    height: 32px;\n",
       "    padding: 0;\n",
       "    width: 32px;\n",
       "  }\n",
       "\n",
       "  .colab-df-quickchart:hover {\n",
       "    background-color: var(--hover-bg-color);\n",
       "    box-shadow: 0 1px 2px rgba(60, 64, 67, 0.3), 0 1px 3px 1px rgba(60, 64, 67, 0.15);\n",
       "    fill: var(--button-hover-fill-color);\n",
       "  }\n",
       "\n",
       "  .colab-df-quickchart-complete:disabled,\n",
       "  .colab-df-quickchart-complete:disabled:hover {\n",
       "    background-color: var(--disabled-bg-color);\n",
       "    fill: var(--disabled-fill-color);\n",
       "    box-shadow: none;\n",
       "  }\n",
       "\n",
       "  .colab-df-spinner {\n",
       "    border: 2px solid var(--fill-color);\n",
       "    border-color: transparent;\n",
       "    border-bottom-color: var(--fill-color);\n",
       "    animation:\n",
       "      spin 1s steps(1) infinite;\n",
       "  }\n",
       "\n",
       "  @keyframes spin {\n",
       "    0% {\n",
       "      border-color: transparent;\n",
       "      border-bottom-color: var(--fill-color);\n",
       "      border-left-color: var(--fill-color);\n",
       "    }\n",
       "    20% {\n",
       "      border-color: transparent;\n",
       "      border-left-color: var(--fill-color);\n",
       "      border-top-color: var(--fill-color);\n",
       "    }\n",
       "    30% {\n",
       "      border-color: transparent;\n",
       "      border-left-color: var(--fill-color);\n",
       "      border-top-color: var(--fill-color);\n",
       "      border-right-color: var(--fill-color);\n",
       "    }\n",
       "    40% {\n",
       "      border-color: transparent;\n",
       "      border-right-color: var(--fill-color);\n",
       "      border-top-color: var(--fill-color);\n",
       "    }\n",
       "    60% {\n",
       "      border-color: transparent;\n",
       "      border-right-color: var(--fill-color);\n",
       "    }\n",
       "    80% {\n",
       "      border-color: transparent;\n",
       "      border-right-color: var(--fill-color);\n",
       "      border-bottom-color: var(--fill-color);\n",
       "    }\n",
       "    90% {\n",
       "      border-color: transparent;\n",
       "      border-bottom-color: var(--fill-color);\n",
       "    }\n",
       "  }\n",
       "</style>\n",
       "\n",
       "      <script>\n",
       "        async function quickchart(key) {\n",
       "          const quickchartButtonEl =\n",
       "            document.querySelector('#' + key + ' button');\n",
       "          quickchartButtonEl.disabled = true;  // To prevent multiple clicks.\n",
       "          quickchartButtonEl.classList.add('colab-df-spinner');\n",
       "          try {\n",
       "            const charts = await google.colab.kernel.invokeFunction(\n",
       "                'suggestCharts', [key], {});\n",
       "          } catch (error) {\n",
       "            console.error('Error during call to suggestCharts:', error);\n",
       "          }\n",
       "          quickchartButtonEl.classList.remove('colab-df-spinner');\n",
       "          quickchartButtonEl.classList.add('colab-df-quickchart-complete');\n",
       "        }\n",
       "        (() => {\n",
       "          let quickchartButtonEl =\n",
       "            document.querySelector('#df-2e776b9a-30f6-4086-bf47-0008011050ee button');\n",
       "          quickchartButtonEl.style.display =\n",
       "            google.colab.kernel.accessAllowed ? 'block' : 'none';\n",
       "        })();\n",
       "      </script>\n",
       "    </div>\n",
       "\n",
       "  <div id=\"id_a260718e-df74-459f-8ea0-6eed55ff3aaa\">\n",
       "    <style>\n",
       "      .colab-df-generate {\n",
       "        background-color: #E8F0FE;\n",
       "        border: none;\n",
       "        border-radius: 50%;\n",
       "        cursor: pointer;\n",
       "        display: none;\n",
       "        fill: #1967D2;\n",
       "        height: 32px;\n",
       "        padding: 0 0 0 0;\n",
       "        width: 32px;\n",
       "      }\n",
       "\n",
       "      .colab-df-generate:hover {\n",
       "        background-color: #E2EBFA;\n",
       "        box-shadow: 0px 1px 2px rgba(60, 64, 67, 0.3), 0px 1px 3px 1px rgba(60, 64, 67, 0.15);\n",
       "        fill: #174EA6;\n",
       "      }\n",
       "\n",
       "      [theme=dark] .colab-df-generate {\n",
       "        background-color: #3B4455;\n",
       "        fill: #D2E3FC;\n",
       "      }\n",
       "\n",
       "      [theme=dark] .colab-df-generate:hover {\n",
       "        background-color: #434B5C;\n",
       "        box-shadow: 0px 1px 3px 1px rgba(0, 0, 0, 0.15);\n",
       "        filter: drop-shadow(0px 1px 2px rgba(0, 0, 0, 0.3));\n",
       "        fill: #FFFFFF;\n",
       "      }\n",
       "    </style>\n",
       "    <button class=\"colab-df-generate\" onclick=\"generateWithVariable('New_Dataframe')\"\n",
       "            title=\"Generate code using this dataframe.\"\n",
       "            style=\"display:none;\">\n",
       "\n",
       "  <svg xmlns=\"http://www.w3.org/2000/svg\" height=\"24px\"viewBox=\"0 0 24 24\"\n",
       "       width=\"24px\">\n",
       "    <path d=\"M7,19H8.4L18.45,9,17,7.55,7,17.6ZM5,21V16.75L18.45,3.32a2,2,0,0,1,2.83,0l1.4,1.43a1.91,1.91,0,0,1,.58,1.4,1.91,1.91,0,0,1-.58,1.4L9.25,21ZM18.45,9,17,7.55Zm-12,3A5.31,5.31,0,0,0,4.9,8.1,5.31,5.31,0,0,0,1,6.5,5.31,5.31,0,0,0,4.9,4.9,5.31,5.31,0,0,0,6.5,1,5.31,5.31,0,0,0,8.1,4.9,5.31,5.31,0,0,0,12,6.5,5.46,5.46,0,0,0,6.5,12Z\"/>\n",
       "  </svg>\n",
       "    </button>\n",
       "    <script>\n",
       "      (() => {\n",
       "      const buttonEl =\n",
       "        document.querySelector('#id_a260718e-df74-459f-8ea0-6eed55ff3aaa button.colab-df-generate');\n",
       "      buttonEl.style.display =\n",
       "        google.colab.kernel.accessAllowed ? 'block' : 'none';\n",
       "\n",
       "      buttonEl.onclick = () => {\n",
       "        google.colab.notebook.generateWithVariable('New_Dataframe');\n",
       "      }\n",
       "      })();\n",
       "    </script>\n",
       "  </div>\n",
       "\n",
       "    </div>\n",
       "  </div>\n"
      ],
      "text/plain": [
       "           X_Min     X_Max    X_Mean     X_Std      Y_Min     Y_Max    Y_Mean  \\\n",
       "0     -12.600683 -0.565032 -8.930767  1.345873 -11.082760 -3.336919 -3.954286   \n",
       "1     -12.600683 -0.832584 -8.963975  1.239743 -11.082760 -3.336919 -3.932986   \n",
       "2     -12.600683 -1.018134 -8.996428  1.130377 -11.082760 -3.336919 -3.910559   \n",
       "3     -12.600683 -1.222838 -9.028315  1.014014 -11.082760 -3.336919 -3.886816   \n",
       "4     -12.600683 -1.577180 -9.059589  0.888489 -11.082760 -3.336919 -3.861887   \n",
       "...          ...       ...       ...       ...        ...       ...       ...   \n",
       "19739 -11.146805 -4.592678 -7.576585  1.146897  -3.280655  1.973421 -0.822640   \n",
       "19740 -11.146805 -4.592678 -7.576867  1.146983  -3.280655  1.973421 -0.824971   \n",
       "19741 -11.146805 -4.592678 -7.584871  1.148916  -3.280655  1.973421 -0.828515   \n",
       "19742 -11.146805 -4.592678 -7.593325  1.148700  -3.280655  1.973421 -0.834323   \n",
       "19743 -11.146805 -4.592678 -7.602231  1.151360  -3.280655  1.973421 -0.838882   \n",
       "\n",
       "          Y_Std     Z_Min     Z_Max    Z_Mean     Z_Std  labels  \n",
       "0      1.272895 -1.379060  1.015740 -1.006481  0.298180       0  \n",
       "1      1.223371 -1.379060  1.015740 -1.008789  0.297420       0  \n",
       "2      1.168600 -1.379060  1.015740 -1.011457  0.296866       0  \n",
       "3      1.106022 -1.379060  1.015740 -1.014370  0.295923       0  \n",
       "4      1.034341 -1.379060  1.015740 -1.017286  0.295169       0  \n",
       "...         ...       ...       ...       ...       ...     ...  \n",
       "19739  0.926178  3.188478  8.395866  5.920372  0.951775       5  \n",
       "19740  0.925588  3.188478  8.395866  5.916360  0.949116       5  \n",
       "19741  0.926243  3.188478  8.395866  5.912890  0.947065       5  \n",
       "19742  0.927802  3.188478  8.395866  5.910702  0.944980       5  \n",
       "19743  0.929032  3.188478  8.395866  5.911277  0.945624       5  \n",
       "\n",
       "[19744 rows x 13 columns]"
      ]
     },
     "execution_count": 254,
     "metadata": {},
     "output_type": "execute_result"
    }
   ],
   "source": [
    "New_Dataframe"
   ]
  },
  {
   "cell_type": "markdown",
   "id": "ERLHY7MyE6om",
   "metadata": {
    "id": "ERLHY7MyE6om"
   },
   "source": [
    "- If substract 256 from 20000 samples, we'll get 19744 samples.\n",
    "- We#ve 13 columns and we've create 12 new features and the 13th column is our labels."
   ]
  },
  {
   "cell_type": "markdown",
   "id": "2dTn_DwF-mGr",
   "metadata": {
    "id": "2dTn_DwF-mGr"
   },
   "source": [
    "### &nbsp;&nbsp;&nbsp;&nbsp; 2.3 Extracting the Final features and labels"
   ]
  },
  {
   "cell_type": "code",
   "execution_count": 255,
   "id": "6kZQ4-gMENAH",
   "metadata": {
    "executionInfo": {
     "elapsed": 2,
     "status": "ok",
     "timestamp": 1754065023381,
     "user": {
      "displayName": "Jorvany Nelson",
      "userId": "15494697462108672179"
     },
     "user_tz": -120
    },
    "id": "6kZQ4-gMENAH"
   },
   "outputs": [],
   "source": [
    "# Extracting the features\n",
    "data = New_Dataframe[New_Dataframe.columns[0: -1]].values        # <= Extracting the feature and calling it data\n",
    "\n",
    "# Extracting the label\n",
    "targets = New_Dataframe[New_Dataframe.columns[-1]].values         # <= Extracting the labels and calling it target."
   ]
  },
  {
   "cell_type": "code",
   "execution_count": 256,
   "id": "om3lOM0pFTeT",
   "metadata": {
    "colab": {
     "base_uri": "https://localhost:8080/"
    },
    "executionInfo": {
     "elapsed": 16,
     "status": "ok",
     "timestamp": 1754065023400,
     "user": {
      "displayName": "Jorvany Nelson",
      "userId": "15494697462108672179"
     },
     "user_tz": -120
    },
    "id": "om3lOM0pFTeT",
    "outputId": "4131f4ac-1dae-4c2e-c9c8-6226ee82c317"
   },
   "outputs": [
    {
     "data": {
      "text/plain": [
       "(19744, 12)"
      ]
     },
     "execution_count": 256,
     "metadata": {},
     "output_type": "execute_result"
    }
   ],
   "source": [
    "# Let's see how many target we have\n",
    "data.shape"
   ]
  },
  {
   "cell_type": "code",
   "execution_count": 257,
   "id": "zqDqboguFpCR",
   "metadata": {
    "colab": {
     "base_uri": "https://localhost:8080/"
    },
    "executionInfo": {
     "elapsed": 47,
     "status": "ok",
     "timestamp": 1754065023449,
     "user": {
      "displayName": "Jorvany Nelson",
      "userId": "15494697462108672179"
     },
     "user_tz": -120
    },
    "id": "zqDqboguFpCR",
    "outputId": "0490c0cc-52e8-46de-aa49-e01f821a2407"
   },
   "outputs": [
    {
     "data": {
      "text/plain": [
       "(19744,)"
      ]
     },
     "execution_count": 257,
     "metadata": {},
     "output_type": "execute_result"
    }
   ],
   "source": [
    "# Let's see how many labels we have\n",
    "targets.shape"
   ]
  },
  {
   "cell_type": "code",
   "execution_count": 258,
   "id": "LLcf0xVBPJjc",
   "metadata": {
    "colab": {
     "base_uri": "https://localhost:8080/",
     "height": 241
    },
    "executionInfo": {
     "elapsed": 5,
     "status": "ok",
     "timestamp": 1754065023455,
     "user": {
      "displayName": "Jorvany Nelson",
      "userId": "15494697462108672179"
     },
     "user_tz": -120
    },
    "id": "LLcf0xVBPJjc",
    "outputId": "a0d89227-01aa-4550-e9c5-a8bed3c31997"
   },
   "outputs": [
    {
     "data": {
      "text/html": [
       "<div>\n",
       "<style scoped>\n",
       "    .dataframe tbody tr th:only-of-type {\n",
       "        vertical-align: middle;\n",
       "    }\n",
       "\n",
       "    .dataframe tbody tr th {\n",
       "        vertical-align: top;\n",
       "    }\n",
       "\n",
       "    .dataframe thead th {\n",
       "        text-align: right;\n",
       "    }\n",
       "</style>\n",
       "<table border=\"1\" class=\"dataframe\">\n",
       "  <thead>\n",
       "    <tr style=\"text-align: right;\">\n",
       "      <th></th>\n",
       "      <th>count</th>\n",
       "    </tr>\n",
       "    <tr>\n",
       "      <th>labels</th>\n",
       "      <th></th>\n",
       "    </tr>\n",
       "  </thead>\n",
       "  <tbody>\n",
       "    <tr>\n",
       "      <th>1</th>\n",
       "      <td>5000</td>\n",
       "    </tr>\n",
       "    <tr>\n",
       "      <th>2</th>\n",
       "      <td>5000</td>\n",
       "    </tr>\n",
       "    <tr>\n",
       "      <th>5</th>\n",
       "      <td>5000</td>\n",
       "    </tr>\n",
       "    <tr>\n",
       "      <th>0</th>\n",
       "      <td>4744</td>\n",
       "    </tr>\n",
       "  </tbody>\n",
       "</table>\n",
       "</div><br><label><b>dtype:</b> int64</label>"
      ],
      "text/plain": [
       "labels\n",
       "1    5000\n",
       "2    5000\n",
       "5    5000\n",
       "0    4744\n",
       "Name: count, dtype: int64"
      ]
     },
     "execution_count": 258,
     "metadata": {},
     "output_type": "execute_result"
    }
   ],
   "source": [
    "# Counting the labels for each class\n",
    "New_Dataframe['labels'].value_counts()\n"
   ]
  },
  {
   "cell_type": "code",
   "execution_count": 259,
   "id": "VTReQNjNRevS",
   "metadata": {
    "colab": {
     "base_uri": "https://localhost:8080/"
    },
    "executionInfo": {
     "elapsed": 15,
     "status": "ok",
     "timestamp": 1754065023473,
     "user": {
      "displayName": "Jorvany Nelson",
      "userId": "15494697462108672179"
     },
     "user_tz": -120
    },
    "id": "VTReQNjNRevS",
    "outputId": "03c3683a-2238-48f5-c81a-d565fb528c78"
   },
   "outputs": [
    {
     "data": {
      "text/plain": [
       "4"
      ]
     },
     "execution_count": 259,
     "metadata": {},
     "output_type": "execute_result"
    }
   ],
   "source": [
    "number_class = len(New_Dataframe['labels'].unique())\n",
    "\n",
    "number_class"
   ]
  },
  {
   "cell_type": "markdown",
   "id": "k7hN3as6RmoK",
   "metadata": {
    "id": "k7hN3as6RmoK"
   },
   "source": [
    "- Which mean we have 4 classes/labels in total"
   ]
  },
  {
   "cell_type": "markdown",
   "id": "uLujD7fHF6f4",
   "metadata": {
    "id": "uLujD7fHF6f4"
   },
   "source": [
    "# 3. Spltting the Data into Train and Test set"
   ]
  },
  {
   "cell_type": "code",
   "execution_count": 260,
   "id": "R5VaNJymFpAW",
   "metadata": {
    "executionInfo": {
     "elapsed": 26,
     "status": "ok",
     "timestamp": 1754065023501,
     "user": {
      "displayName": "Jorvany Nelson",
      "userId": "15494697462108672179"
     },
     "user_tz": -120
    },
    "id": "R5VaNJymFpAW"
   },
   "outputs": [],
   "source": [
    "from sklearn.model_selection import train_test_split\n",
    "\n",
    "# Splitting the model in train and test set\n",
    "X_train, X_test, Y_train, Y_test = train_test_split(data, targets, test_size = 0.2)               # <= Using data as train set and targets as test set"
   ]
  },
  {
   "cell_type": "markdown",
   "id": "ALk4ylx2GhNV",
   "metadata": {
    "id": "ALk4ylx2GhNV"
   },
   "source": [
    "# 4. Converting the Data from Numpy Array into Pytorch Tensor"
   ]
  },
  {
   "cell_type": "code",
   "execution_count": 261,
   "id": "p8gQyuaEG6q5",
   "metadata": {
    "executionInfo": {
     "elapsed": 16,
     "status": "ok",
     "timestamp": 1754065023520,
     "user": {
      "displayName": "Jorvany Nelson",
      "userId": "15494697462108672179"
     },
     "user_tz": -120
    },
    "id": "p8gQyuaEG6q5"
   },
   "outputs": [],
   "source": [
    "# Converting the Train data into Pytorch Tensor\n",
    "tensor_train_data = torch.tensor(X_train).float()\n",
    "tensor_train_label = torch.tensor(Y_train).long()\n",
    "\n",
    "# Coverting the Test data into Pytorch Tensor\n",
    "tensor_test_data = torch.tensor(X_test).float()\n",
    "tensor_test_label = torch.tensor(Y_test).long()"
   ]
  },
  {
   "cell_type": "markdown",
   "id": "S8Cabxn0Ialw",
   "metadata": {
    "id": "S8Cabxn0Ialw"
   },
   "source": [
    "# 5. Converting the pytorch Train and Test Tensor into Pytorch Tensor Dataset."
   ]
  },
  {
   "cell_type": "code",
   "execution_count": 262,
   "id": "IEfUar-7G6pD",
   "metadata": {
    "colab": {
     "base_uri": "https://localhost:8080/"
    },
    "executionInfo": {
     "elapsed": 19,
     "status": "ok",
     "timestamp": 1754065023525,
     "user": {
      "displayName": "Jorvany Nelson",
      "userId": "15494697462108672179"
     },
     "user_tz": -120
    },
    "id": "IEfUar-7G6pD",
    "outputId": "6c9e5b46-1e5b-4598-b856-894baca17896"
   },
   "outputs": [
    {
     "name": "stdout",
     "output_type": "stream",
     "text": [
      "(tensor([[-11.1917,  -1.5556,  -4.9996,  ...,  -1.0666,  -4.0776,   1.6435],\n",
      "        [-12.0829,  -3.0873,  -7.2080,  ...,  10.3178,   6.3862,   1.1345],\n",
      "        [ -7.6722,  -7.2927,  -7.4683,  ...,   2.6151,   2.3743,   0.0688],\n",
      "        ...,\n",
      "        [ -9.4230,  -9.1895,  -9.3031,  ...,  -0.3286,  -0.4642,   0.0677],\n",
      "        [-10.4686,   1.6616,  -4.8384,  ...,   5.4474,  -3.7773,   2.5552],\n",
      "        [-15.0535,  -3.3459,  -7.8367,  ...,   7.9290,   5.4724,   1.1102]]), tensor([2, 5, 1,  ..., 0, 2, 5]))\n"
     ]
    }
   ],
   "source": [
    "# Creating a tensor training dataset\n",
    "tensor_train_dataset = TensorDataset(tensor_train_data, tensor_train_label)\n",
    "\n",
    "# Creating a tensor testing dataset\n",
    "tensor_test_dataset = TensorDataset(tensor_test_data, tensor_test_label)\n",
    "\n",
    "# Displaying the test tensor dataset\n",
    "print(tensor_test_dataset.tensors)"
   ]
  },
  {
   "cell_type": "markdown",
   "id": "NScmRPSsJywD",
   "metadata": {
    "id": "NScmRPSsJywD"
   },
   "source": [
    "# 6. Passing the Tensor Dataset to the dataloader"
   ]
  },
  {
   "cell_type": "code",
   "execution_count": 263,
   "id": "beG00-CwJ6y8",
   "metadata": {
    "executionInfo": {
     "elapsed": 9,
     "status": "ok",
     "timestamp": 1754065023526,
     "user": {
      "displayName": "Jorvany Nelson",
      "userId": "15494697462108672179"
     },
     "user_tz": -120
    },
    "id": "beG00-CwJ6y8"
   },
   "outputs": [],
   "source": [
    "# Initializing the batch size\n",
    "batchsize = 64\n",
    "\n",
    "# Creating the training dataloader\n",
    "train_dataloader = DataLoader(tensor_train_dataset, batch_size = batchsize, shuffle = True, drop_last = True)  # <- Shuffle: randomize the other after each batch when training to avoid overfitting\n",
    "                                                                                             # <- During Shuffling the Cross validation will be performed.\n",
    "\n",
    "# Creating the testing dataloader\n",
    "test_dataloader = DataLoader(tensor_test_dataset, batch_size = tensor_test_dataset.tensors[0].shape[0])           # <= tensor_test_dataset.tensors[0].shape[0], means we're passing the whole ..\n",
    "                                                                                                                  # ... test size during training i.e. 3000\n"
   ]
  },
  {
   "cell_type": "code",
   "execution_count": 264,
   "id": "Q0uhH-AgK578",
   "metadata": {
    "colab": {
     "base_uri": "https://localhost:8080/"
    },
    "executionInfo": {
     "elapsed": 25,
     "status": "ok",
     "timestamp": 1754065023553,
     "user": {
      "displayName": "Jorvany Nelson",
      "userId": "15494697462108672179"
     },
     "user_tz": -120
    },
    "id": "Q0uhH-AgK578",
    "outputId": "ea360c2d-4379-4e17-f81d-f5ed6eb1776b"
   },
   "outputs": [
    {
     "data": {
      "text/plain": [
       "3949"
      ]
     },
     "execution_count": 264,
     "metadata": {},
     "output_type": "execute_result"
    }
   ],
   "source": [
    "tensor_test_dataset.tensors[0].shape[0]"
   ]
  },
  {
   "cell_type": "markdown",
   "id": "02HR4a6ZLKhP",
   "metadata": {
    "id": "02HR4a6ZLKhP"
   },
   "source": [
    "# 7. Visualizing the batches of training and test data"
   ]
  },
  {
   "cell_type": "code",
   "execution_count": 265,
   "id": "IdG62a2cLf04",
   "metadata": {
    "colab": {
     "base_uri": "https://localhost:8080/"
    },
    "executionInfo": {
     "elapsed": 13,
     "status": "ok",
     "timestamp": 1754065023555,
     "user": {
      "displayName": "Jorvany Nelson",
      "userId": "15494697462108672179"
     },
     "user_tz": -120
    },
    "id": "IdG62a2cLf04",
    "outputId": "05f31bd7-df58-4180-b2df-3bc38cc73464"
   },
   "outputs": [
    {
     "name": "stdout",
     "output_type": "stream",
     "text": [
      "torch.Size([64, 12])\n",
      "torch.Size([64])\n"
     ]
    }
   ],
   "source": [
    "for X, Y in train_dataloader:\n",
    "  break\n",
    "\n",
    "# Visualizing the train and test batch size\n",
    "print(X.shape)\n",
    "print(Y.shape)"
   ]
  },
  {
   "cell_type": "markdown",
   "id": "_PIZUEz2UQI5",
   "metadata": {
    "id": "_PIZUEz2UQI5"
   },
   "source": [
    "- We can see that we have 64 Batch size and 12 features in the train_dataloader\n",
    "- and 64 batch labels in the train_dataloader"
   ]
  },
  {
   "cell_type": "code",
   "execution_count": 266,
   "id": "PfhntSVpMItg",
   "metadata": {
    "colab": {
     "base_uri": "https://localhost:8080/"
    },
    "executionInfo": {
     "elapsed": 45,
     "status": "ok",
     "timestamp": 1754065023596,
     "user": {
      "displayName": "Jorvany Nelson",
      "userId": "15494697462108672179"
     },
     "user_tz": -120
    },
    "id": "PfhntSVpMItg",
    "outputId": "71ccceb4-9f05-46e9-fcd6-c072b85485cc"
   },
   "outputs": [
    {
     "name": "stdout",
     "output_type": "stream",
     "text": [
      "torch.Size([3949, 12])\n",
      "torch.Size([3949])\n"
     ]
    }
   ],
   "source": [
    "# if we want to see/know the total size of the testloader\n",
    "X, Y = next(iter(test_dataloader))\n",
    "\n",
    "# Total features in the teat_dataloader\n",
    "print(X.shape)\n",
    "\n",
    "# Total llabels in the test_dataloader\n",
    "print(Y.shape)"
   ]
  },
  {
   "cell_type": "markdown",
   "id": "5ZZAZ3hKNbmE",
   "metadata": {
    "id": "5ZZAZ3hKNbmE"
   },
   "source": [
    "# 8. Creating the Neural Model"
   ]
  },
  {
   "cell_type": "code",
   "execution_count": 267,
   "id": "qMkXx2waN5QB",
   "metadata": {
    "colab": {
     "base_uri": "https://localhost:8080/"
    },
    "executionInfo": {
     "elapsed": 8,
     "status": "ok",
     "timestamp": 1754065023605,
     "user": {
      "displayName": "Jorvany Nelson",
      "userId": "15494697462108672179"
     },
     "user_tz": -120
    },
    "id": "qMkXx2waN5QB",
    "outputId": "83d518d9-d842-4f10-fd9f-4b55862e4fd6"
   },
   "outputs": [
    {
     "data": {
      "text/plain": [
       "Sequential(\n",
       "  (0): Linear(in_features=12, out_features=64, bias=True)\n",
       "  (1): ReLU()\n",
       "  (2): Linear(in_features=64, out_features=32, bias=True)\n",
       "  (3): ReLU()\n",
       "  (4): Linear(in_features=32, out_features=16, bias=True)\n",
       "  (5): ReLU()\n",
       "  (6): Linear(in_features=16, out_features=6, bias=True)\n",
       ")"
      ]
     },
     "execution_count": 267,
     "metadata": {},
     "output_type": "execute_result"
    }
   ],
   "source": [
    "########################################## ➡️Sequential Form⬅️ #########################################\n",
    "\n",
    "# In order to compare the performance of the neural Network we're going to retain every thing as it was....\n",
    "# .... except for the feature which now 12 instead of 3 as befor.\n",
    "\n",
    "# Now we'll see that if we increase the features by feature engineering method our neural network will perform better.\n",
    "\n",
    "ANN_har = nn.Sequential(\n",
    "    nn.Linear(12, 64),            # <= Now we've 12 feature\n",
    "    nn.ReLU(),\n",
    "    nn.Linear(64, 32),\n",
    "    nn.ReLU(),\n",
    "    nn.Linear(32, 16),\n",
    "    nn.ReLU(),\n",
    "    nn.Linear(16, 6)                          # <- Changed output features to 6 for 6 classes\n",
    "  )\n",
    "\n",
    "ANN_har"
   ]
  },
  {
   "cell_type": "markdown",
   "id": "xOt-Ilq9PA53",
   "metadata": {
    "id": "xOt-Ilq9PA53"
   },
   "source": [
    "# 9. Training and testing the Model"
   ]
  },
  {
   "cell_type": "markdown",
   "id": "jk57N44FPegI",
   "metadata": {
    "id": "jk57N44FPegI"
   },
   "source": [
    "### &nbsp;&nbsp;&nbsp;&nbsp; 9.1 Setting the Parameter of the model"
   ]
  },
  {
   "cell_type": "code",
   "execution_count": 268,
   "id": "5E3eur6xPvjJ",
   "metadata": {
    "executionInfo": {
     "elapsed": 2,
     "status": "ok",
     "timestamp": 1754065023611,
     "user": {
      "displayName": "Jorvany Nelson",
      "userId": "15494697462108672179"
     },
     "user_tz": -120
    },
    "id": "5E3eur6xPvjJ"
   },
   "outputs": [],
   "source": [
    "# Setting the Learning rate\n",
    "learning_rate = 0.001\n",
    "\n",
    "# Setting the Loss Function\n",
    "loss_function = nn.CrossEntropyLoss()                                                           # <= We use CrossEntropyLoss() since we're performing classification\n",
    "\n",
    "# Setting the Optimizer\n",
    "optimizer = torch.optim.SGD(ANN_har.parameters(), momentum = 0.9, lr = learning_rate)          # <= SGD = Stochastic Gradient Descent as optimizer\n",
    "                                                                                                  # <= Momentum will increase the speed of optimization. max. is 1, here we set it to 0.9\n",
    "# Placing the ANN_model on GPU\n",
    "ANN_har = ANN_har.to(device)"
   ]
  },
  {
   "cell_type": "markdown",
   "id": "mA8qdkHjQLgL",
   "metadata": {
    "id": "mA8qdkHjQLgL"
   },
   "source": [
    "### &nbsp;&nbsp;&nbsp;&nbsp; 9.2 Training and testing the model\n",
    "&nbsp;&nbsp;&nbsp;&nbsp;&nbsp;&nbsp;&nbsp;&nbsp;&nbsp;&nbsp;&nbsp;&nbsp;&nbsp;&nbsp;&nbsp;&nbsp;&nbsp;&nbsp; - We want our model to generalize well on the testing data i.e. to have the same accuracy as the trained data or even more."
   ]
  },
  {
   "cell_type": "code",
   "execution_count": 269,
   "id": "SDR00Oe9QUAo",
   "metadata": {
    "colab": {
     "base_uri": "https://localhost:8080/"
    },
    "executionInfo": {
     "elapsed": 50396,
     "status": "ok",
     "timestamp": 1754065074008,
     "user": {
      "displayName": "Jorvany Nelson",
      "userId": "15494697462108672179"
     },
     "user_tz": -120
    },
    "id": "SDR00Oe9QUAo",
    "outputId": "f928635b-56a3-4d12-ed2e-6834a69a67ae"
   },
   "outputs": [
    {
     "name": "stdout",
     "output_type": "stream",
     "text": [
      "epochs: 0, loss:  0.83\n",
      "epochs: 10, loss:  0.02\n",
      "epochs: 20, loss:  0.01\n",
      "epochs: 30, loss:  0.01\n",
      "epochs: 40, loss:  0.01\n",
      "epochs: 50, loss:  0.00\n",
      "epochs: 60, loss:  0.00\n",
      "epochs: 70, loss:  0.00\n",
      "epochs: 80, loss:  0.00\n",
      "epochs: 90, loss:  0.00\n",
      "epochs: 100, loss:  0.00\n",
      "epochs: 110, loss:  0.00\n",
      "epochs: 120, loss:  0.00\n",
      "epochs: 130, loss:  0.00\n",
      "epochs: 140, loss:  0.00\n"
     ]
    }
   ],
   "source": [
    "# Number of times we want to pass the entire dataset in the ANN model\n",
    "number_of_epochs = 150\n",
    "\n",
    "# Creating a 1D tensor filled with zeros, in order to track/store the losses at each  epoch\n",
    "losses = torch.zeros(number_of_epochs)                                       # <- initializing the losses tensor with 1000 zeros and at each epoch we'll store the loss\n",
    "                                                                             # <- During the forward propagation we'll calculate the loss and store it in the losses tensor.\n",
    "\n",
    "# Initializing accuracy\n",
    "train_accuracy = []\n",
    "test_accuracy  = []\n",
    "\n",
    "# Using a for loop to pass the dataset 1000 times into the model\n",
    "for epochi in range(number_of_epochs):\n",
    "\n",
    "    # Putting the model in the training mode\n",
    "    ANN_har.train()\n",
    "\n",
    "    # putting the model in the device  📍📍Added📍📍\n",
    "    ANN_har.to(device)\n",
    "\n",
    "\n",
    "    # for loop for training in batches\n",
    "    batch_accuracy = []\n",
    "    batch_loss     = []\n",
    "\n",
    "    # The for loop ensure that during a single run only 32 sample will be passed\n",
    "    for X,Y in train_dataloader:\n",
    "\n",
    "      # Reshaping from  4D to 2D 📍📍added📍📍              # <- to transform into 2D we have to multiple the last 3 dimension together i.e. 3 * 116 * 116 = 40368\n",
    "      #X = X.reshape(32, 40368)                                # <- 32 is the batch size\n",
    "\n",
    "      # Placing feature on device, since the model is in GPU feature should also be in GPU\n",
    "      X = X.to(device)\n",
    "\n",
    "      # Placing labels on device, since the model is in GPU feature should also be in GPU\n",
    "      Y = Y.to(device)\n",
    "\n",
    "\n",
    "\n",
    "      # Forward Propagation\n",
    "      y_pred = ANN_har(X)                 # <- We pass the features x into the model and then the output of the model is our predictions y_pred.\n",
    "\n",
    "      # We calculate/compute the loss\n",
    "      loss = loss_function(y_pred, Y)                  # <- To calculate/compute the loss we pass the predictions y_pred and the true values y into the loss_function()...\n",
    "                                                     # ... for that particular training epoch.\n",
    "\n",
    "\n",
    "\n",
    "      # Backward  Propagation                          # <- Backward Propagation is the process of calculating the gradients of the loss function with respect to the model parameters.\n",
    "\n",
    "      # Initialize the gradients to zero\n",
    "      optimizer.zero_grad()                            # <- zero_grad() restart the gradients to zero at each epoch, so that the gradients/losses are not accumulated.\n",
    "\n",
    "      # Calculating the gradients\n",
    "      loss.backward()                                  # <- loss.backward() is used to calculate the gradients of the loss with respect to the parameters of the model.\n",
    "\n",
    "\n",
    "      # Updating the model parameters\n",
    "      optimizer.step()                                 # <- The optimizer.step() is used to update the model parameters so that the error could be minimized.\n",
    "\n",
    "      # Append Batch loss after performing the batch training\n",
    "      batch_loss.append(loss.item())\n",
    "\n",
    "      # Putting y_pred back to cpu\n",
    "      y_pred = y_pred.cpu()\n",
    "      Y = Y.cpu()\n",
    "\n",
    "\n",
    "      # Computing the Batch accuracy\n",
    "      accuracy = 100*torch.mean((torch.argmax(y_pred, axis = 1) == Y ).float())\n",
    "      # Appending the batch accuracy\n",
    "      batch_accuracy.append(accuracy)\n",
    "\n",
    "      ####### Batch concluded\n",
    "\n",
    "    # Average training accuracy(outside the batch loop)\n",
    "    train_accuracy.append(np.mean(batch_accuracy))                # <= traiNIng accuracy is the average of the batch accuracy.\n",
    "\n",
    "    # Total Accuracy is the mean of the batch_loss\n",
    "    losses[epochi] = np.mean(batch_loss)                          # <- Storing the loss at each epoch in a tensor losses. i.e. Put the computed loss into the epoch-th position of the losses tensor.\n",
    "                                                                  # <- at each epoch/iteration we'll replace the respective zero with the calculated loss.\n",
    "\n",
    "\n",
    "##################################################################################➡️ testing the model ⬅️##########################################################################################\n",
    "\n",
    "    # Putting the model on the Testing Mode\n",
    "    ANN_har.eval()\n",
    "\n",
    "    # Deactivating the gradient since during back propagation we don't need the gradient\n",
    "    with torch.no_grad():\n",
    "      # Passing all the samples at once from the test_dataloader to the train model\n",
    "      X_test_data, Y_test_label = next(iter(test_dataloader))\n",
    "\n",
    "      # Pushing X and Y in GPU\n",
    "      X_test_data = X_test_data.to(device)\n",
    "      Y_test_label = Y_test_label.to(device)\n",
    "\n",
    "      # Passing the testing data to the model\n",
    "      y_test_pred = ANN_har(X_test_data)                           # <= Here we will obtain the prediction\n",
    "\n",
    "      # Putting the prediction back to cpu\n",
    "      y_test_pred = y_test_pred.cpu()\n",
    "      Y_test_label = Y_test_label.cpu()\n",
    "\n",
    "      # Appending the test accuracy\n",
    "      test_accuracy.append(100 * torch.mean((torch.argmax(y_test_pred, dim = 1) == Y_test_label).float()))\n",
    "\n",
    "    # printing the losses after every 5 epochs\n",
    "    if (epochi % 10) == 0:\n",
    "      print(f'epochs: {epochi}, loss: {losses[epochi]: 2.2f}')            # Corrected: Print average loss for epoch"
   ]
  },
  {
   "cell_type": "markdown",
   "id": "mK2aLkMdTKaq",
   "metadata": {
    "id": "mK2aLkMdTKaq"
   },
   "source": [
    "# 10. Visualizing the Performance"
   ]
  },
  {
   "cell_type": "code",
   "execution_count": 270,
   "id": "hPYnCQExTRDX",
   "metadata": {
    "colab": {
     "base_uri": "https://localhost:8080/",
     "height": 595
    },
    "executionInfo": {
     "elapsed": 198,
     "status": "ok",
     "timestamp": 1754065074209,
     "user": {
      "displayName": "Jorvany Nelson",
      "userId": "15494697462108672179"
     },
     "user_tz": -120
    },
    "id": "hPYnCQExTRDX",
    "outputId": "6fbcc034-9f57-4547-88ce-d3276f9c1b57"
   },
   "outputs": [
    {
     "data": {
      "image/png": "[encoded data removed]",
      "text/plain": [
       "<Figure size 1800x600 with 2 Axes>"
      ]
     },
     "metadata": {},
     "output_type": "display_data"
    }
   ],
   "source": [
    "# Visualize the loss and accuracies after the training loop\n",
    "fig, ax = plt.subplots(1, 2, figsize = (18, 6))       # <= 1 row, 2 column\n",
    "\n",
    "ax[0].plot(losses, 'g', lw = 3, label = 'Train')      # <= ax[0] means we're plotting on the 1st column, i.e. losses on the first column, g = green\n",
    "ax[0].set_xlabel('Epochs', fontsize = 15)\n",
    "ax[0].set_ylabel('Loss', fontsize = 15)\n",
    "ax[0].set_title('Training Loss', fontsize = 15)\n",
    "ax[0].legend(fontsize = 15)\n",
    "\n",
    "ax[1].plot(train_accuracy, 'b', lw = 3, label = 'Train')   # <= ax[1] means we're plotting on the 2nd column\n",
    "ax[1].plot(test_accuracy, 'r', lw = 3, label = 'Test')\n",
    "ax[1].set_xlabel('Epochs', fontsize = 15)\n",
    "ax[1].set_ylabel('Accuracy (%)', fontsize = 15)\n",
    "ax[1].set_ylim(10, 110)                                    # <= Setting the y limit between 10 and 110 so that we can clearly see the accuracy\n",
    "ax[1].set_title(f'Train Accuracy: {train_accuracy[-1]:.2f}% \\n Test Accuracy: {test_accuracy[-1]:.2f}%', fontsize = 15)       # <= Printing the final values\n",
    "ax[1].legend(fontsize = 15)\n",
    "\n",
    "plt.show()"
   ]
  },
  {
   "cell_type": "markdown",
   "id": "uAZ24uzjcAA6",
   "metadata": {
    "id": "uAZ24uzjcAA6"
   },
   "source": [
    "- The loss decrease as the number of epochs increases, at the point the loss reaches zero the is no more an observable change."
   ]
  },
  {
   "cell_type": "markdown",
   "id": "Uvvnon_pbQId",
   "metadata": {
    "id": "Uvvnon_pbQId"
   },
   "source": [
    "# =========================== Ende of code ============================="
   ]
  },
  {
   "cell_type": "markdown",
   "id": "AHef2m56cIrX",
   "metadata": {
    "id": "AHef2m56cIrX"
   },
   "source": [
    "# Saving the Trained Model"
   ]
  },
  {
   "cell_type": "code",
   "execution_count": 271,
   "id": "SPj5vdJucLzM",
   "metadata": {
    "executionInfo": {
     "elapsed": 7,
     "status": "ok",
     "timestamp": 1754065074219,
     "user": {
      "displayName": "Jorvany Nelson",
      "userId": "15494697462108672179"
     },
     "user_tz": -120
    },
    "id": "SPj5vdJucLzM"
   },
   "outputs": [],
   "source": [
    "# Save the model with its current state(weights and biases) in the dictionary\n",
    "# torch.save(model_name.state_dict(), 'name.pt')\n",
    "torch.save(ANN_har.state_dict(), 'Human_Action_Recognition.pt')"
   ]
  },
  {
   "cell_type": "markdown",
   "id": "38KhWXXFccol",
   "metadata": {
    "id": "38KhWXXFccol"
   },
   "source": [
    "# loading the Model"
   ]
  },
  {
   "cell_type": "code",
   "execution_count": 272,
   "id": "eJzA6HRhcgMG",
   "metadata": {
    "colab": {
     "base_uri": "https://localhost:8080/"
    },
    "executionInfo": {
     "elapsed": 17,
     "status": "ok",
     "timestamp": 1754065074232,
     "user": {
      "displayName": "Jorvany Nelson",
      "userId": "15494697462108672179"
     },
     "user_tz": -120
    },
    "id": "eJzA6HRhcgMG",
    "outputId": "31cf32cd-008f-43aa-eb82-462d810ad99d"
   },
   "outputs": [
    {
     "data": {
      "text/plain": [
       "<All keys matched successfully>"
      ]
     },
     "execution_count": 272,
     "metadata": {},
     "output_type": "execute_result"
    }
   ],
   "source": [
    "ANN_har.load_state_dict(torch.load('Human_Action_Recognition.pt'))"
   ]
  },
  {
   "cell_type": "markdown",
   "id": "F6b2lmSTc1iP",
   "metadata": {
    "id": "F6b2lmSTc1iP"
   },
   "source": [
    "# Test the model"
   ]
  },
  {
   "cell_type": "code",
   "execution_count": 273,
   "id": "4owgIQ7Nc5QE",
   "metadata": {
    "colab": {
     "base_uri": "https://localhost:8080/"
    },
    "executionInfo": {
     "elapsed": 30,
     "status": "ok",
     "timestamp": 1754065074263,
     "user": {
      "displayName": "Jorvany Nelson",
      "userId": "15494697462108672179"
     },
     "user_tz": -120
    },
    "id": "4owgIQ7Nc5QE",
    "outputId": "7dfe3b5a-b36d-4b8c-e3fe-ee8413b509c3"
   },
   "outputs": [
    {
     "data": {
      "text/plain": [
       "tensor(100.)"
      ]
     },
     "execution_count": 273,
     "metadata": {},
     "output_type": "execute_result"
    }
   ],
   "source": [
    "ANN_har.to(device)\n",
    "\n",
    "# Passing all the samples at once from the test_dataloader to the train model\n",
    "X, Y = next(iter(test_dataloader))\n",
    "\n",
    "# Pushing X and Y in GPU\n",
    "X = X.to(device)\n",
    "Y = Y.to(device)\n",
    "\n",
    "# Deactivating the gradient since during back propagation we don't need the gradien\n",
    "with torch.no_grad():\n",
    "\n",
    "  # Passing the testing data to the model\n",
    "  y_pred = ANN_har(X)                           # <= Here we will obtain the prediction\n",
    "\n",
    "  # Putting the prediction back to cpu\n",
    "  y_pred = y_pred.cpu()\n",
    "  Y = Y.cpu()\n",
    "\n",
    "# Appending the test accuracy\n",
    "accuracy = 100 * torch.mean((torch.argmax(y_pred, dim = 1) == Y).float())\n",
    "accuracy"
   ]
  }
 ],
 "metadata": {
  "accelerator": "GPU",
  "colab": {
   "gpuType": "T4",
   "provenance": []
  },
  "kernelspec": {
   "display_name": "tensorflow_env",
   "language": "python",
   "name": "python3"
  },
  "language_info": {
   "name": "python",
   "version": "3.13.2"
  }
 },
 "nbformat": 4,
 "nbformat_minor": 5
}
