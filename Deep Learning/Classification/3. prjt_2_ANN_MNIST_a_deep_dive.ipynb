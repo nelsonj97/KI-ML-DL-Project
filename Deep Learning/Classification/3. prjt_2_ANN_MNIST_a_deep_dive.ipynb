{
 "cells": [
  {
   "cell_type": "markdown",
   "id": "375ed35c",
   "metadata": {
    "id": "375ed35c"
   },
   "source": [
    "# MNIST Dataset\n",
    "- **MNIST dataset** consist of images of handwritten digits.\n",
    "  - It is a set of 70,000 28x28 pixel grayscale images of the 10 digits(0-9), along with a corresponding file with the digit labels (1 to 10).\n",
    "\n",
    "    ![alt text](Images/image-1.png)\n",
    "- $Number of pixel = 28x28 = 784$\n",
    "- $Number of classes/labels/outputs = 10$\n",
    "- $Number of features are equal to the number of pixels = 784$\n",
    "- Number of hidden layers = ?\n",
    "  - Depend on the experience of the user.\n",
    "\n",
    "# Goal: Handwritten Digit Recognition\n"
   ]
  },
  {
   "cell_type": "markdown",
   "id": "8dbb1f00",
   "metadata": {
    "id": "8dbb1f00"
   },
   "source": [
    "# 0. Importing the libraries"
   ]
  },
  {
   "cell_type": "code",
   "execution_count": 287,
   "id": "8de9ddfd",
   "metadata": {
    "executionInfo": {
     "elapsed": 3,
     "status": "ok",
     "timestamp": 1753932522618,
     "user": {
      "displayName": "Jorvany Nelson",
      "userId": "15494697462108672179"
     },
     "user_tz": -120
    },
    "id": "8de9ddfd"
   },
   "outputs": [],
   "source": [
    "import numpy as np\n",
    "import pandas as pd\n",
    "import seaborn as sns\n",
    "import matplotlib.pyplot as plt\n",
    "\n",
    "from matplotlib import style\n",
    "style.use('default')\n",
    "\n",
    "import torch\n",
    "import torch.nn as nn\n",
    "import torch.nn.functional as F      # <- Use to create our activation functions.\n",
    "from torch.utils.data import DataLoader, TensorDataset\n",
    "\n",
    "# from sklearn.model_selection import train_test_split"
   ]
  },
  {
   "cell_type": "markdown",
   "id": "dY25LjZYIGf0",
   "metadata": {
    "id": "dY25LjZYIGf0"
   },
   "source": [
    "# Checking the availability of GPU"
   ]
  },
  {
   "cell_type": "code",
   "execution_count": 288,
   "id": "mIOdlh7zIg_n",
   "metadata": {
    "colab": {
     "base_uri": "https://localhost:8080/"
    },
    "executionInfo": {
     "elapsed": 5,
     "status": "ok",
     "timestamp": 1753932522634,
     "user": {
      "displayName": "Jorvany Nelson",
      "userId": "15494697462108672179"
     },
     "user_tz": -120
    },
    "id": "mIOdlh7zIg_n",
    "outputId": "ea3c9ee8-82a1-49d5-ee3a-dac06caade1f"
   },
   "outputs": [
    {
     "data": {
      "text/plain": [
       "False"
      ]
     },
     "execution_count": 288,
     "metadata": {},
     "output_type": "execute_result"
    }
   ],
   "source": [
    "torch.cuda.is_available()"
   ]
  },
  {
   "cell_type": "markdown",
   "id": "8frQ6hfkJ1ev",
   "metadata": {
    "id": "8frQ6hfkJ1ev"
   },
   "source": [
    "# Selecting the GPu as a device for training and testing"
   ]
  },
  {
   "cell_type": "code",
   "execution_count": 289,
   "id": "oEKd4JpTKDyQ",
   "metadata": {
    "colab": {
     "base_uri": "https://localhost:8080/"
    },
    "executionInfo": {
     "elapsed": 5,
     "status": "ok",
     "timestamp": 1753932522700,
     "user": {
      "displayName": "Jorvany Nelson",
      "userId": "15494697462108672179"
     },
     "user_tz": -120
    },
    "id": "oEKd4JpTKDyQ",
    "outputId": "e26a8328-c357-40e5-bf16-6c7acb223775"
   },
   "outputs": [
    {
     "name": "stdout",
     "output_type": "stream",
     "text": [
      "cpu\n"
     ]
    }
   ],
   "source": [
    "device = torch.device('cuda:0' if torch.cuda.is_available() else 'cpu')\n",
    "print(device)"
   ]
  },
  {
   "cell_type": "markdown",
   "id": "Qe9TDBLlKLCC",
   "metadata": {
    "id": "Qe9TDBLlKLCC"
   },
   "source": []
  },
  {
   "cell_type": "markdown",
   "id": "9nbxOIWULSZb",
   "metadata": {
    "id": "9nbxOIWULSZb"
   },
   "source": [
    "# 1. Importing and processing the Data"
   ]
  },
  {
   "cell_type": "markdown",
   "id": "1HRFPeLxOnE6",
   "metadata": {
    "id": "1HRFPeLxOnE6"
   },
   "source": [
    "### &nbsp;&nbsp;&nbsp;&nbsp; 1.1 Importing the dataset"
   ]
  },
  {
   "cell_type": "code",
   "execution_count": 290,
   "id": "DhqxWetULpS7",
   "metadata": {
    "colab": {
     "base_uri": "https://localhost:8080/",
     "height": 236
    },
    "executionInfo": {
     "elapsed": 4398,
     "status": "ok",
     "timestamp": 1753932527099,
     "user": {
      "displayName": "Jorvany Nelson",
      "userId": "15494697462108672179"
     },
     "user_tz": -120
    },
    "id": "DhqxWetULpS7",
    "outputId": "e346c67e-6a04-4b9c-b902-ee20bb2b7549"
   },
   "outputs": [
    {
     "data": {
      "application/vnd.google.colaboratory.intrinsic+json": {
       "type": "dataframe",
       "variable_name": "dataset"
      },
      "text/html": [
       "\n",
       "  <div id=\"df-051891b3-7e6f-49c0-b50e-ec8817319055\" class=\"colab-df-container\">\n",
       "    <div>\n",
       "<style scoped>\n",
       "    .dataframe tbody tr th:only-of-type {\n",
       "        vertical-align: middle;\n",
       "    }\n",
       "\n",
       "    .dataframe tbody tr th {\n",
       "        vertical-align: top;\n",
       "    }\n",
       "\n",
       "    .dataframe thead th {\n",
       "        text-align: right;\n",
       "    }\n",
       "</style>\n",
       "<table border=\"1\" class=\"dataframe\">\n",
       "  <thead>\n",
       "    <tr style=\"text-align: right;\">\n",
       "      <th></th>\n",
       "      <th>label</th>\n",
       "      <th>1x1</th>\n",
       "      <th>1x2</th>\n",
       "      <th>1x3</th>\n",
       "      <th>1x4</th>\n",
       "      <th>1x5</th>\n",
       "      <th>1x6</th>\n",
       "      <th>1x7</th>\n",
       "      <th>1x8</th>\n",
       "      <th>1x9</th>\n",
       "      <th>...</th>\n",
       "      <th>28x19</th>\n",
       "      <th>28x20</th>\n",
       "      <th>28x21</th>\n",
       "      <th>28x22</th>\n",
       "      <th>28x23</th>\n",
       "      <th>28x24</th>\n",
       "      <th>28x25</th>\n",
       "      <th>28x26</th>\n",
       "      <th>28x27</th>\n",
       "      <th>28x28</th>\n",
       "    </tr>\n",
       "  </thead>\n",
       "  <tbody>\n",
       "    <tr>\n",
       "      <th>0</th>\n",
       "      <td>5</td>\n",
       "      <td>0</td>\n",
       "      <td>0</td>\n",
       "      <td>0</td>\n",
       "      <td>0</td>\n",
       "      <td>0</td>\n",
       "      <td>0</td>\n",
       "      <td>0</td>\n",
       "      <td>0</td>\n",
       "      <td>0</td>\n",
       "      <td>...</td>\n",
       "      <td>0</td>\n",
       "      <td>0</td>\n",
       "      <td>0</td>\n",
       "      <td>0</td>\n",
       "      <td>0</td>\n",
       "      <td>0</td>\n",
       "      <td>0</td>\n",
       "      <td>0</td>\n",
       "      <td>0</td>\n",
       "      <td>0</td>\n",
       "    </tr>\n",
       "    <tr>\n",
       "      <th>1</th>\n",
       "      <td>0</td>\n",
       "      <td>0</td>\n",
       "      <td>0</td>\n",
       "      <td>0</td>\n",
       "      <td>0</td>\n",
       "      <td>0</td>\n",
       "      <td>0</td>\n",
       "      <td>0</td>\n",
       "      <td>0</td>\n",
       "      <td>0</td>\n",
       "      <td>...</td>\n",
       "      <td>0</td>\n",
       "      <td>0</td>\n",
       "      <td>0</td>\n",
       "      <td>0</td>\n",
       "      <td>0</td>\n",
       "      <td>0</td>\n",
       "      <td>0</td>\n",
       "      <td>0</td>\n",
       "      <td>0</td>\n",
       "      <td>0</td>\n",
       "    </tr>\n",
       "    <tr>\n",
       "      <th>2</th>\n",
       "      <td>4</td>\n",
       "      <td>0</td>\n",
       "      <td>0</td>\n",
       "      <td>0</td>\n",
       "      <td>0</td>\n",
       "      <td>0</td>\n",
       "      <td>0</td>\n",
       "      <td>0</td>\n",
       "      <td>0</td>\n",
       "      <td>0</td>\n",
       "      <td>...</td>\n",
       "      <td>0</td>\n",
       "      <td>0</td>\n",
       "      <td>0</td>\n",
       "      <td>0</td>\n",
       "      <td>0</td>\n",
       "      <td>0</td>\n",
       "      <td>0</td>\n",
       "      <td>0</td>\n",
       "      <td>0</td>\n",
       "      <td>0</td>\n",
       "    </tr>\n",
       "    <tr>\n",
       "      <th>3</th>\n",
       "      <td>1</td>\n",
       "      <td>0</td>\n",
       "      <td>0</td>\n",
       "      <td>0</td>\n",
       "      <td>0</td>\n",
       "      <td>0</td>\n",
       "      <td>0</td>\n",
       "      <td>0</td>\n",
       "      <td>0</td>\n",
       "      <td>0</td>\n",
       "      <td>...</td>\n",
       "      <td>0</td>\n",
       "      <td>0</td>\n",
       "      <td>0</td>\n",
       "      <td>0</td>\n",
       "      <td>0</td>\n",
       "      <td>0</td>\n",
       "      <td>0</td>\n",
       "      <td>0</td>\n",
       "      <td>0</td>\n",
       "      <td>0</td>\n",
       "    </tr>\n",
       "    <tr>\n",
       "      <th>4</th>\n",
       "      <td>9</td>\n",
       "      <td>0</td>\n",
       "      <td>0</td>\n",
       "      <td>0</td>\n",
       "      <td>0</td>\n",
       "      <td>0</td>\n",
       "      <td>0</td>\n",
       "      <td>0</td>\n",
       "      <td>0</td>\n",
       "      <td>0</td>\n",
       "      <td>...</td>\n",
       "      <td>0</td>\n",
       "      <td>0</td>\n",
       "      <td>0</td>\n",
       "      <td>0</td>\n",
       "      <td>0</td>\n",
       "      <td>0</td>\n",
       "      <td>0</td>\n",
       "      <td>0</td>\n",
       "      <td>0</td>\n",
       "      <td>0</td>\n",
       "    </tr>\n",
       "  </tbody>\n",
       "</table>\n",
       "<p>5 rows × 785 columns</p>\n",
       "</div>\n",
       "    <div class=\"colab-df-buttons\">\n",
       "\n",
       "  <div class=\"colab-df-container\">\n",
       "    <button class=\"colab-df-convert\" onclick=\"convertToInteractive('df-051891b3-7e6f-49c0-b50e-ec8817319055')\"\n",
       "            title=\"Convert this dataframe to an interactive table.\"\n",
       "            style=\"display:none;\">\n",
       "\n",
       "  <svg xmlns=\"http://www.w3.org/2000/svg\" height=\"24px\" viewBox=\"0 -960 960 960\">\n",
       "    <path d=\"M120-120v-720h720v720H120Zm60-500h600v-160H180v160Zm220 220h160v-160H400v160Zm0 220h160v-160H400v160ZM180-400h160v-160H180v160Zm440 0h160v-160H620v160ZM180-180h160v-160H180v160Zm440 0h160v-160H620v160Z\"/>\n",
       "  </svg>\n",
       "    </button>\n",
       "\n",
       "  <style>\n",
       "    .colab-df-container {\n",
       "      display:flex;\n",
       "      gap: 12px;\n",
       "    }\n",
       "\n",
       "    .colab-df-convert {\n",
       "      background-color: #E8F0FE;\n",
       "      border: none;\n",
       "      border-radius: 50%;\n",
       "      cursor: pointer;\n",
       "      display: none;\n",
       "      fill: #1967D2;\n",
       "      height: 32px;\n",
       "      padding: 0 0 0 0;\n",
       "      width: 32px;\n",
       "    }\n",
       "\n",
       "    .colab-df-convert:hover {\n",
       "      background-color: #E2EBFA;\n",
       "      box-shadow: 0px 1px 2px rgba(60, 64, 67, 0.3), 0px 1px 3px 1px rgba(60, 64, 67, 0.15);\n",
       "      fill: #174EA6;\n",
       "    }\n",
       "\n",
       "    .colab-df-buttons div {\n",
       "      margin-bottom: 4px;\n",
       "    }\n",
       "\n",
       "    [theme=dark] .colab-df-convert {\n",
       "      background-color: #3B4455;\n",
       "      fill: #D2E3FC;\n",
       "    }\n",
       "\n",
       "    [theme=dark] .colab-df-convert:hover {\n",
       "      background-color: #434B5C;\n",
       "      box-shadow: 0px 1px 3px 1px rgba(0, 0, 0, 0.15);\n",
       "      filter: drop-shadow(0px 1px 2px rgba(0, 0, 0, 0.3));\n",
       "      fill: #FFFFFF;\n",
       "    }\n",
       "  </style>\n",
       "\n",
       "    <script>\n",
       "      const buttonEl =\n",
       "        document.querySelector('#df-051891b3-7e6f-49c0-b50e-ec8817319055 button.colab-df-convert');\n",
       "      buttonEl.style.display =\n",
       "        google.colab.kernel.accessAllowed ? 'block' : 'none';\n",
       "\n",
       "      async function convertToInteractive(key) {\n",
       "        const element = document.querySelector('#df-051891b3-7e6f-49c0-b50e-ec8817319055');\n",
       "        const dataTable =\n",
       "          await google.colab.kernel.invokeFunction('convertToInteractive',\n",
       "                                                    [key], {});\n",
       "        if (!dataTable) return;\n",
       "\n",
       "        const docLinkHtml = 'Like what you see? Visit the ' +\n",
       "          '<a target=\"_blank\" href=https://colab.research.google.com/notebooks/data_table.ipynb>data table notebook</a>'\n",
       "          + ' to learn more about interactive tables.';\n",
       "        element.innerHTML = '';\n",
       "        dataTable['output_type'] = 'display_data';\n",
       "        await google.colab.output.renderOutput(dataTable, element);\n",
       "        const docLink = document.createElement('div');\n",
       "        docLink.innerHTML = docLinkHtml;\n",
       "        element.appendChild(docLink);\n",
       "      }\n",
       "    </script>\n",
       "  </div>\n",
       "\n",
       "\n",
       "    <div id=\"df-64bb39cf-713d-4e50-9209-5e8abeaf8f2f\">\n",
       "      <button class=\"colab-df-quickchart\" onclick=\"quickchart('df-64bb39cf-713d-4e50-9209-5e8abeaf8f2f')\"\n",
       "                title=\"Suggest charts\"\n",
       "                style=\"display:none;\">\n",
       "\n",
       "<svg xmlns=\"http://www.w3.org/2000/svg\" height=\"24px\"viewBox=\"0 0 24 24\"\n",
       "     width=\"24px\">\n",
       "    <g>\n",
       "        <path d=\"M19 3H5c-1.1 0-2 .9-2 2v14c0 1.1.9 2 2 2h14c1.1 0 2-.9 2-2V5c0-1.1-.9-2-2-2zM9 17H7v-7h2v7zm4 0h-2V7h2v10zm4 0h-2v-4h2v4z\"/>\n",
       "    </g>\n",
       "</svg>\n",
       "      </button>\n",
       "\n",
       "<style>\n",
       "  .colab-df-quickchart {\n",
       "      --bg-color: #E8F0FE;\n",
       "      --fill-color: #1967D2;\n",
       "      --hover-bg-color: #E2EBFA;\n",
       "      --hover-fill-color: #174EA6;\n",
       "      --disabled-fill-color: #AAA;\n",
       "      --disabled-bg-color: #DDD;\n",
       "  }\n",
       "\n",
       "  [theme=dark] .colab-df-quickchart {\n",
       "      --bg-color: #3B4455;\n",
       "      --fill-color: #D2E3FC;\n",
       "      --hover-bg-color: #434B5C;\n",
       "      --hover-fill-color: #FFFFFF;\n",
       "      --disabled-bg-color: #3B4455;\n",
       "      --disabled-fill-color: #666;\n",
       "  }\n",
       "\n",
       "  .colab-df-quickchart {\n",
       "    background-color: var(--bg-color);\n",
       "    border: none;\n",
       "    border-radius: 50%;\n",
       "    cursor: pointer;\n",
       "    display: none;\n",
       "    fill: var(--fill-color);\n",
       "    height: 32px;\n",
       "    padding: 0;\n",
       "    width: 32px;\n",
       "  }\n",
       "\n",
       "  .colab-df-quickchart:hover {\n",
       "    background-color: var(--hover-bg-color);\n",
       "    box-shadow: 0 1px 2px rgba(60, 64, 67, 0.3), 0 1px 3px 1px rgba(60, 64, 67, 0.15);\n",
       "    fill: var(--button-hover-fill-color);\n",
       "  }\n",
       "\n",
       "  .colab-df-quickchart-complete:disabled,\n",
       "  .colab-df-quickchart-complete:disabled:hover {\n",
       "    background-color: var(--disabled-bg-color);\n",
       "    fill: var(--disabled-fill-color);\n",
       "    box-shadow: none;\n",
       "  }\n",
       "\n",
       "  .colab-df-spinner {\n",
       "    border: 2px solid var(--fill-color);\n",
       "    border-color: transparent;\n",
       "    border-bottom-color: var(--fill-color);\n",
       "    animation:\n",
       "      spin 1s steps(1) infinite;\n",
       "  }\n",
       "\n",
       "  @keyframes spin {\n",
       "    0% {\n",
       "      border-color: transparent;\n",
       "      border-bottom-color: var(--fill-color);\n",
       "      border-left-color: var(--fill-color);\n",
       "    }\n",
       "    20% {\n",
       "      border-color: transparent;\n",
       "      border-left-color: var(--fill-color);\n",
       "      border-top-color: var(--fill-color);\n",
       "    }\n",
       "    30% {\n",
       "      border-color: transparent;\n",
       "      border-left-color: var(--fill-color);\n",
       "      border-top-color: var(--fill-color);\n",
       "      border-right-color: var(--fill-color);\n",
       "    }\n",
       "    40% {\n",
       "      border-color: transparent;\n",
       "      border-right-color: var(--fill-color);\n",
       "      border-top-color: var(--fill-color);\n",
       "    }\n",
       "    60% {\n",
       "      border-color: transparent;\n",
       "      border-right-color: var(--fill-color);\n",
       "    }\n",
       "    80% {\n",
       "      border-color: transparent;\n",
       "      border-right-color: var(--fill-color);\n",
       "      border-bottom-color: var(--fill-color);\n",
       "    }\n",
       "    90% {\n",
       "      border-color: transparent;\n",
       "      border-bottom-color: var(--fill-color);\n",
       "    }\n",
       "  }\n",
       "</style>\n",
       "\n",
       "      <script>\n",
       "        async function quickchart(key) {\n",
       "          const quickchartButtonEl =\n",
       "            document.querySelector('#' + key + ' button');\n",
       "          quickchartButtonEl.disabled = true;  // To prevent multiple clicks.\n",
       "          quickchartButtonEl.classList.add('colab-df-spinner');\n",
       "          try {\n",
       "            const charts = await google.colab.kernel.invokeFunction(\n",
       "                'suggestCharts', [key], {});\n",
       "          } catch (error) {\n",
       "            console.error('Error during call to suggestCharts:', error);\n",
       "          }\n",
       "          quickchartButtonEl.classList.remove('colab-df-spinner');\n",
       "          quickchartButtonEl.classList.add('colab-df-quickchart-complete');\n",
       "        }\n",
       "        (() => {\n",
       "          let quickchartButtonEl =\n",
       "            document.querySelector('#df-64bb39cf-713d-4e50-9209-5e8abeaf8f2f button');\n",
       "          quickchartButtonEl.style.display =\n",
       "            google.colab.kernel.accessAllowed ? 'block' : 'none';\n",
       "        })();\n",
       "      </script>\n",
       "    </div>\n",
       "\n",
       "    </div>\n",
       "  </div>\n"
      ],
      "text/plain": [
       "   label  1x1  1x2  1x3  1x4  1x5  1x6  1x7  1x8  1x9  ...  28x19  28x20  \\\n",
       "0      5    0    0    0    0    0    0    0    0    0  ...      0      0   \n",
       "1      0    0    0    0    0    0    0    0    0    0  ...      0      0   \n",
       "2      4    0    0    0    0    0    0    0    0    0  ...      0      0   \n",
       "3      1    0    0    0    0    0    0    0    0    0  ...      0      0   \n",
       "4      9    0    0    0    0    0    0    0    0    0  ...      0      0   \n",
       "\n",
       "   28x21  28x22  28x23  28x24  28x25  28x26  28x27  28x28  \n",
       "0      0      0      0      0      0      0      0      0  \n",
       "1      0      0      0      0      0      0      0      0  \n",
       "2      0      0      0      0      0      0      0      0  \n",
       "3      0      0      0      0      0      0      0      0  \n",
       "4      0      0      0      0      0      0      0      0  \n",
       "\n",
       "[5 rows x 785 columns]"
      ]
     },
     "execution_count": 290,
     "metadata": {},
     "output_type": "execute_result"
    }
   ],
   "source": [
    "dataset = pd.read_csv('mnist_train.csv')\n",
    "\n",
    "dataset.head()"
   ]
  },
  {
   "cell_type": "code",
   "execution_count": 291,
   "id": "TmctfvKxMZjn",
   "metadata": {
    "colab": {
     "base_uri": "https://localhost:8080/"
    },
    "executionInfo": {
     "elapsed": 18,
     "status": "ok",
     "timestamp": 1753932527100,
     "user": {
      "displayName": "Jorvany Nelson",
      "userId": "15494697462108672179"
     },
     "user_tz": -120
    },
    "id": "TmctfvKxMZjn",
    "outputId": "8c44b7fc-2d79-4ca0-f61a-a64fc42441a8"
   },
   "outputs": [
    {
     "data": {
      "text/plain": [
       "(60000, 785)"
      ]
     },
     "execution_count": 291,
     "metadata": {},
     "output_type": "execute_result"
    }
   ],
   "source": [
    "dataset.shape"
   ]
  },
  {
   "cell_type": "markdown",
   "id": "LZ1IpAyhMlE-",
   "metadata": {
    "id": "LZ1IpAyhMlE-"
   },
   "source": [
    "- For the learning purpose we will use only 10000 samples"
   ]
  },
  {
   "cell_type": "markdown",
   "id": "0TMs2epZNR_X",
   "metadata": {
    "id": "0TMs2epZNR_X"
   },
   "source": [
    "### &nbsp;&nbsp;&nbsp;&nbsp; 1.2 Transforming the Data into numpy array and extracting 10000 samples"
   ]
  },
  {
   "cell_type": "code",
   "execution_count": 292,
   "id": "TA-Xvks4NA2Z",
   "metadata": {
    "executionInfo": {
     "elapsed": 4,
     "status": "ok",
     "timestamp": 1753932527101,
     "user": {
      "displayName": "Jorvany Nelson",
      "userId": "15494697462108672179"
     },
     "user_tz": -120
    },
    "id": "TA-Xvks4NA2Z"
   },
   "outputs": [],
   "source": [
    "# Transforming the data into numpy array\n",
    "dataset = np.array(dataset)\n",
    "\n",
    "# Extracting 10000 samples\n",
    "dataset = dataset[0 : 10000, :]                # <= Assigning 10000 rows and all columns to the dataset"
   ]
  },
  {
   "cell_type": "markdown",
   "id": "uVEYEy4rOx3y",
   "metadata": {
    "id": "uVEYEy4rOx3y"
   },
   "source": [
    "### &nbsp;&nbsp;&nbsp;&nbsp; 1.3 Extracting the Features and labels"
   ]
  },
  {
   "cell_type": "code",
   "execution_count": null,
   "id": "PttaQSUWO7eC",
   "metadata": {
    "executionInfo": {
     "elapsed": 4,
     "status": "ok",
     "timestamp": 1753932527106,
     "user": {
      "displayName": "Jorvany Nelson",
      "userId": "15494697462108672179"
     },
     "user_tz": -120
    },
    "id": "PttaQSUWO7eC"
   },
   "outputs": [],
   "source": [
    "# the 1st column is the label\n",
    "Y = dataset[:, 0]                              # <= i want all the rows of the 1st column\n",
    "\n",
    "# from column 1 are the features\n",
    "X = dataset[:, 1:]                                # <= I want all the rows starting from column 1"
   ]
  },
  {
   "cell_type": "code",
   "execution_count": 294,
   "id": "y89huIkfQnRe",
   "metadata": {
    "colab": {
     "base_uri": "https://localhost:8080/"
    },
    "executionInfo": {
     "elapsed": 73,
     "status": "ok",
     "timestamp": 1753932527182,
     "user": {
      "displayName": "Jorvany Nelson",
      "userId": "15494697462108672179"
     },
     "user_tz": -120
    },
    "id": "y89huIkfQnRe",
    "outputId": "f583773d-204b-4502-d698-5168b1a380e4"
   },
   "outputs": [
    {
     "data": {
      "text/plain": [
       "(10000, 784)"
      ]
     },
     "execution_count": 294,
     "metadata": {},
     "output_type": "execute_result"
    }
   ],
   "source": [
    "X.shape"
   ]
  },
  {
   "cell_type": "markdown",
   "id": "N6Y_1i1XQrCg",
   "metadata": {
    "id": "N6Y_1i1XQrCg"
   },
   "source": [
    "- Now X has 10000 Features and 784 labels"
   ]
  },
  {
   "cell_type": "markdown",
   "id": "EilvFsVVRPk4",
   "metadata": {
    "id": "EilvFsVVRPk4"
   },
   "source": [
    "# 2. Convert the Data to pytorch tensor"
   ]
  },
  {
   "cell_type": "code",
   "execution_count": 295,
   "id": "abzVrH0jRssx",
   "metadata": {
    "executionInfo": {
     "elapsed": 1,
     "status": "ok",
     "timestamp": 1753932527185,
     "user": {
      "displayName": "Jorvany Nelson",
      "userId": "15494697462108672179"
     },
     "user_tz": -120
    },
    "id": "abzVrH0jRssx"
   },
   "outputs": [],
   "source": [
    "# Converting the feature from numpy array to pytorch tensor\n",
    "X_tensor = torch.tensor(X, dtype = torch.float32)\n",
    "\n",
    "# Converting the labes from numpy array to pytorch tensor\n",
    "Y_tensor = torch.tensor(Y, dtype = torch.long)"
   ]
  },
  {
   "cell_type": "markdown",
   "id": "vh7fYzKhSsmL",
   "metadata": {
    "id": "vh7fYzKhSsmL"
   },
   "source": [
    "# 3. Splitting the Data into train and test set"
   ]
  },
  {
   "cell_type": "code",
   "execution_count": 296,
   "id": "938kuKCTS6E0",
   "metadata": {
    "executionInfo": {
     "elapsed": 3,
     "status": "ok",
     "timestamp": 1753932527192,
     "user": {
      "displayName": "Jorvany Nelson",
      "userId": "15494697462108672179"
     },
     "user_tz": -120
    },
    "id": "938kuKCTS6E0"
   },
   "outputs": [],
   "source": [
    "from sklearn.model_selection import train_test_split\n",
    "X_train, X_test, Y_train, Y_test = train_test_split(X_tensor, Y_tensor, test_size = 0.1)"
   ]
  },
  {
   "cell_type": "markdown",
   "id": "v_HOOqsGUjf9",
   "metadata": {
    "id": "v_HOOqsGUjf9"
   },
   "source": [
    "- Using 10% of the 10000 i.e. 1000 as test set and 9000 as train set"
   ]
  },
  {
   "cell_type": "markdown",
   "id": "f8QoYSAvU6V-",
   "metadata": {
    "id": "f8QoYSAvU6V-"
   },
   "source": [
    "# 4. Normalizing the Features\n",
    "- **For Data Normalization**: we divide the train and test set by the maximum value in the dataset<br>\n",
    "$$\\mathbf{ X_{train} = \\frac{X_{train}}{max(X)} }$$\n",
    "$$\\mathbf{ X_{test} = \\frac{X_{test}}{max(X)} }$$"
   ]
  },
  {
   "cell_type": "code",
   "execution_count": 297,
   "id": "pavpOmuOVP5Y",
   "metadata": {
    "executionInfo": {
     "elapsed": 37,
     "status": "ok",
     "timestamp": 1753932527232,
     "user": {
      "displayName": "Jorvany Nelson",
      "userId": "15494697462108672179"
     },
     "user_tz": -120
    },
    "id": "pavpOmuOVP5Y"
   },
   "outputs": [],
   "source": [
    "# Normalizing the train features\n",
    "X_train = X_train/torch.max(X_train)\n",
    "\n",
    "# Normalizing the test features\n",
    "X_test = X_test/torch.max(X_test)"
   ]
  },
  {
   "cell_type": "markdown",
   "id": "YQPVUTMSYvti",
   "metadata": {
    "id": "YQPVUTMSYvti"
   },
   "source": [
    "# 5. Converting into Pytorch Dataset"
   ]
  },
  {
   "cell_type": "code",
   "execution_count": 298,
   "id": "DyrP0TBRZIrz",
   "metadata": {
    "executionInfo": {
     "elapsed": 2,
     "status": "ok",
     "timestamp": 1753932527236,
     "user": {
      "displayName": "Jorvany Nelson",
      "userId": "15494697462108672179"
     },
     "user_tz": -120
    },
    "id": "DyrP0TBRZIrz"
   },
   "outputs": [],
   "source": [
    "# train Dataset\n",
    "Tensor_train_dataset = TensorDataset(X_train, Y_train)\n",
    "\n",
    "# converting into test Dataset\n",
    "Tensor_test_dataset = TensorDataset(X_test, Y_test)"
   ]
  },
  {
   "cell_type": "markdown",
   "id": "8ELaIhqEbNi5",
   "metadata": {
    "id": "8ELaIhqEbNi5"
   },
   "source": [
    "# 6. Pushing the Tensor Dataset into the Dataloader objects"
   ]
  },
  {
   "cell_type": "code",
   "execution_count": null,
   "id": "4s00aFJ7b8d_",
   "metadata": {
    "executionInfo": {
     "elapsed": 5,
     "status": "ok",
     "timestamp": 1753932527245,
     "user": {
      "displayName": "Jorvany Nelson",
      "userId": "15494697462108672179"
     },
     "user_tz": -120
    },
    "id": "4s00aFJ7b8d_"
   },
   "outputs": [],
   "source": [
    "# Initialize the Batch size\n",
    "batchsize = 32\n",
    "\n",
    "# Creating the training dataloader\n",
    "train_dataloader = DataLoader(Tensor_train_dataset, batch_size = batchsize, shuffle = True, drop_last = True)     # <= shuffling: To randomize the order after each batch when training to avoid Overfitting\n",
    "                                                                                                                  # <= During shuffling, cross validation will be performed\n",
    "                                                                                                                  # 9000 / 32 = 281.25 therefore the remainder i.e. 0.25 will be drop.\n",
    "\n",
    "# Creating the test dataloader\n",
    "test_dataloader = DataLoader(Tensor_test_dataset, batch_size = Tensor_test_dataset.tensors[0].shape[0])           # <= Tensor_test_dataset.tensors[0].shape[0], means we're passing the whole ..\n",
    "                                                                                                                  # ... test size during training i.e. 1000"
   ]
  },
  {
   "cell_type": "code",
   "execution_count": 300,
   "id": "k9gXWxkdgXog",
   "metadata": {
    "colab": {
     "base_uri": "https://localhost:8080/"
    },
    "executionInfo": {
     "elapsed": 34,
     "status": "ok",
     "timestamp": 1753932527280,
     "user": {
      "displayName": "Jorvany Nelson",
      "userId": "15494697462108672179"
     },
     "user_tz": -120
    },
    "id": "k9gXWxkdgXog",
    "outputId": "0b62598f-bf4f-4841-bf50-9bd8fc470f18"
   },
   "outputs": [
    {
     "data": {
      "text/plain": [
       "1000"
      ]
     },
     "execution_count": 300,
     "metadata": {},
     "output_type": "execute_result"
    }
   ],
   "source": [
    "Tensor_test_dataset.tensors[0].shape[0]"
   ]
  },
  {
   "cell_type": "code",
   "execution_count": 301,
   "id": "J0j-nc1xhimm",
   "metadata": {
    "colab": {
     "base_uri": "https://localhost:8080/"
    },
    "executionInfo": {
     "elapsed": 7,
     "status": "ok",
     "timestamp": 1753932527288,
     "user": {
      "displayName": "Jorvany Nelson",
      "userId": "15494697462108672179"
     },
     "user_tz": -120
    },
    "id": "J0j-nc1xhimm",
    "outputId": "7b253507-c544-4135-eb07-1563f0529435"
   },
   "outputs": [
    {
     "data": {
      "text/plain": [
       "torch.Size([32, 784])"
      ]
     },
     "execution_count": 301,
     "metadata": {},
     "output_type": "execute_result"
    }
   ],
   "source": [
    "# Apply a for loop on the train loader and breaking after each run\n",
    "for X, Y in train_dataloader:\n",
    "  break\n",
    "X.shape"
   ]
  },
  {
   "cell_type": "markdown",
   "id": "nA3XD6cKijE9",
   "metadata": {
    "id": "nA3XD6cKijE9"
   },
   "source": [
    "# 7. Visualizing Few Sample"
   ]
  },
  {
   "cell_type": "code",
   "execution_count": null,
   "id": "cicjFUqGiw0l",
   "metadata": {
    "colab": {
     "base_uri": "https://localhost:8080/",
     "height": 161
    },
    "executionInfo": {
     "elapsed": 370,
     "status": "ok",
     "timestamp": 1753932527661,
     "user": {
      "displayName": "Jorvany Nelson",
      "userId": "15494697462108672179"
     },
     "user_tz": -120
    },
    "id": "cicjFUqGiw0l",
    "outputId": "5dd2b29d-0791-4080-cfce-fc4d308fff6f"
   },
   "outputs": [
    {
     "data": {
      "image/png": "[encoded data removed]",
      "text/plain": [
       "<Figure size 1000x200 with 12 Axes>"
      ]
     },
     "metadata": {},
     "output_type": "display_data"
    }
   ],
   "source": [
    "# Visualizing few images in the MNIST dataset\n",
    "fig, axs = plt.subplots(1, 12, figsize = (10, 2))\n",
    "\n",
    "for i in range(12):\n",
    "  axs[i].imshow(X_tensor[i, :].view(28,28).detach(), cmap ='gray')\n",
    "  axs[i].set_xticks([]), axs[i].set_yticks([])\n",
    "plt.suptitle('Few Data Image')\n",
    "plt.show()"
   ]
  },
  {
   "cell_type": "markdown",
   "id": "-7G814zhl0SN",
   "metadata": {
    "id": "-7G814zhl0SN"
   },
   "source": [
    "# 8. Creating the ANN model"
   ]
  },
  {
   "cell_type": "markdown",
   "id": "AYUjMTN8qQKj",
   "metadata": {
    "id": "AYUjMTN8qQKj"
   },
   "source": [
    "### &nbsp;&nbsp;&nbsp;&nbsp; 8.1 Creating the ANN Class"
   ]
  },
  {
   "cell_type": "code",
   "execution_count": null,
   "id": "RJ0Q0B5amEJd",
   "metadata": {
    "executionInfo": {
     "elapsed": 4,
     "status": "ok",
     "timestamp": 1753932527666,
     "user": {
      "displayName": "Jorvany Nelson",
      "userId": "15494697462108672179"
     },
     "user_tz": -120
    },
    "id": "RJ0Q0B5amEJd"
   },
   "outputs": [],
   "source": [
    "######################################## Creating the ANN model  ########################################\n",
    "########################################## ➡️Sequential Form⬅️ #########################################\n",
    "\n",
    "# ANN_iris = nn.Sequential(\n",
    "#     nn.Linear(784, 64),\n",
    "#     nn.Relu(),\n",
    "#     nn.Linear(64, 32),\n",
    "#     nn.ReLU(),\n",
    "#     nn.Linear(32, 32)\n",
    "#     nn.ReLU()\n",
    "#     nn.Linear(32, 10)                          #<- Has a build-in sigmoid function after the output layer\n",
    "# )\n",
    "\n",
    "############################## ⬇️Transforming the Sequential Form into Class Form⬇️ #######################\n",
    "\n",
    "class ANN_Classifier(nn.Module):\n",
    "    def __init__(self):\n",
    "        super().__init__()\n",
    "\n",
    "    # Initializing the layers\n",
    "        # Input Layer\n",
    "        self.input = nn.Linear(784, 64)\n",
    "\n",
    "        # 1st Hidden layer\n",
    "        self.hidden_1 = nn.Linear(64, 32)\n",
    "\n",
    "        # 2nd Hidden Layer\n",
    "        self.hidden_2 = nn.Linear(32, 32)\n",
    "\n",
    "        # Output layer\n",
    "        self.output = nn.Linear(32, 10)\n",
    "\n",
    "    # Forward Pass                                                         # <- Forward Pass tells how we want to pass our features.\n",
    "    def forward(self, X):\n",
    "\n",
    "        # firstly, Passing the features through input layer\n",
    "        X = self.input(X)\n",
    "\n",
    "        # secondly, through the 1st hidden layer\n",
    "        X = self.hidden_1(X)\n",
    "\n",
    "        # thirdly, through the activation function.\n",
    "        X = F.relu(X)\n",
    "\n",
    "        # then through the 2nd hidden layer\n",
    "        X = self.hidden_2(X)\n",
    "\n",
    "        # next, through the activation function.\n",
    "        X = F.relu(X)\n",
    "\n",
    "\n",
    "        # after that, through the output layer\n",
    "        X = self.output(X)\n",
    "\n",
    "        # Finally, through the sigmoid activation function.\n",
    "        # X = torch.sigmoid(X)                                             # <= For Classification Problem we always have sigmoid activation after the output layer, but ..\n",
    "                                                                              # |=> ... Cross entropy have a built in sigmoid activation function, that is why we don't ...\n",
    "                                                                              # |=> ... ❌ If use at the same time with CrossEntropy() my accuracy will be so low.\n",
    "\n",
    "\n",
    "        return X"
   ]
  },
  {
   "cell_type": "markdown",
   "id": "hG9_hNC4qAXQ",
   "metadata": {
    "id": "hG9_hNC4qAXQ"
   },
   "source": [
    "### &nbsp;&nbsp;&nbsp;&nbsp; 8.2 Instantiating the ANN Class"
   ]
  },
  {
   "cell_type": "code",
   "execution_count": 304,
   "id": "boEWl_D0qiLa",
   "metadata": {
    "executionInfo": {
     "elapsed": 7,
     "status": "ok",
     "timestamp": 1753932527676,
     "user": {
      "displayName": "Jorvany Nelson",
      "userId": "15494697462108672179"
     },
     "user_tz": -120
    },
    "id": "boEWl_D0qiLa"
   },
   "outputs": [],
   "source": [
    "# Creating the ANN model\n",
    "ANN_model = ANN_Classifier()"
   ]
  },
  {
   "cell_type": "markdown",
   "id": "nznw6Iq_pTWZ",
   "metadata": {
    "id": "nznw6Iq_pTWZ"
   },
   "source": [
    "# 9. Training the Neural Network Model 🎁Will always be used🎁"
   ]
  },
  {
   "cell_type": "markdown",
   "id": "xW7Y79SsphZf",
   "metadata": {
    "id": "xW7Y79SsphZf"
   },
   "source": [
    "### &nbsp;&nbsp;&nbsp;&nbsp; 9.1 Setting the Parameters of the Model"
   ]
  },
  {
   "cell_type": "code",
   "execution_count": null,
   "id": "l--EN-00p8S1",
   "metadata": {
    "colab": {
     "base_uri": "https://localhost:8080/"
    },
    "executionInfo": {
     "elapsed": 10,
     "status": "ok",
     "timestamp": 1753932527688,
     "user": {
      "displayName": "Jorvany Nelson",
      "userId": "15494697462108672179"
     },
     "user_tz": -120
    },
    "id": "l--EN-00p8S1",
    "outputId": "940ad2e4-e726-4ee1-8169-ff166b170e6c"
   },
   "outputs": [
    {
     "data": {
      "text/plain": [
       "ANN_Classifier(\n",
       "  (input): Linear(in_features=784, out_features=64, bias=True)\n",
       "  (hidden_1): Linear(in_features=64, out_features=32, bias=True)\n",
       "  (hidden_2): Linear(in_features=32, out_features=32, bias=True)\n",
       "  (output): Linear(in_features=32, out_features=10, bias=True)\n",
       ")"
      ]
     },
     "execution_count": 305,
     "metadata": {},
     "output_type": "execute_result"
    }
   ],
   "source": [
    "# Setting the Learning rate\n",
    "learning_rate = 0.01\n",
    "\n",
    "# Setting the Loss Function\n",
    "loss_function = nn.CrossEntropyLoss()                                                           # <= We use CrossEntropyLoss() since we're performing classification\n",
    "\n",
    "# Setting the Optimizer\n",
    "optimizer = torch.optim.SGD(ANN_model.parameters(), momentum = 0.9, lr = learning_rate)          # <= SGD = Stochastic Gradient Descent as optimizer\n",
    "\n",
    "# Placing the ANN_model on GPU\n",
    "ANN_model.to(device)"
   ]
  },
  {
   "cell_type": "markdown",
   "id": "vxpPUIukrB9i",
   "metadata": {
    "id": "vxpPUIukrB9i"
   },
   "source": [
    "### &nbsp;&nbsp;&nbsp;&nbsp; 9.2 Training and Testing the Model"
   ]
  },
  {
   "cell_type": "code",
   "execution_count": null,
   "id": "ifFWQPjJrJup",
   "metadata": {
    "colab": {
     "base_uri": "https://localhost:8080/"
    },
    "id": "ifFWQPjJrJup",
    "outputId": "add79298-980f-4a4b-9c30-cc6e9c139476"
   },
   "outputs": [
    {
     "name": "stdout",
     "output_type": "stream",
     "text": [
      "epochs: 0, loss:  0.59\n",
      "epochs: 10, loss:  0.25\n",
      "epochs: 20, loss:  0.01\n",
      "epochs: 30, loss:  0.02\n",
      "epochs: 40, loss:  0.00\n",
      "epochs: 50, loss:  0.00\n",
      "epochs: 60, loss:  0.00\n",
      "epochs: 70, loss:  0.00\n"
     ]
    }
   ],
   "source": [
    "# Number of times we want to pass the entire dataset in the ANN model\n",
    "number_of_epochs = 101\n",
    "\n",
    "# Creating a 1D tensor filled with zeros, in order to track/store the losses at each  epoch\n",
    "losses = torch.zeros(number_of_epochs)                                       # <- initializing the losses tensor with 1000 zeros and at each epoch we'll store the loss\n",
    "                                                                             # <- During the forward propagation we'll calculate the loss and store it in the losses tensor.\n",
    "# Initializing accuracy\n",
    "train_accuracy = []\n",
    "test_accuracy  = []\n",
    "\n",
    "# Using a for loop to pass the dataset 1000 times into the model\n",
    "for epochi in range(number_of_epochs):\n",
    "\n",
    "    # Putting the model in the training mode\n",
    "    ANN_model.train()\n",
    "\n",
    "    # putting the model in the device 📍📍Added📍📍\n",
    "    ANN_model.to(device)\n",
    "    \n",
    "    \n",
    "    # for loop for training in batches\n",
    "    batch_accuracy = []\n",
    "    batch_loss     = []\n",
    "\n",
    "    # The for loop ensure that during a single run only 32 sample will be passed\n",
    "    for X,Y in train_dataloader:\n",
    "\n",
    "      # Placing feature on device, since the model is in GPU feature should also be in GPU\n",
    "      X = X.to(device)\n",
    "\n",
    "      # Placing labels on device, since the model is in GPU feature should also be in GPU\n",
    "      Y = Y.to(device)\n",
    "\n",
    "\n",
    "\n",
    "      # Forward Propagation\n",
    "      y_pred = ANN_model(X)                 # <- We pass the features x into the model and then the output of the model is our predictions y_pred.\n",
    "\n",
    "      # We calculate/compute the loss\n",
    "      loss = loss_function(y_pred, Y)                  # <- To calculate/compute the loss we pass the predictions y_pred and the true values y into the loss_function()...\n",
    "                                                     # ... for that particular training epoch.\n",
    "\n",
    "\n",
    "\n",
    "      # Backward  Propagation                          # <- Backward Propagation is the process of calculating the gradients of the loss function with respect to the model parameters.\n",
    "\n",
    "      # Initialize the gradients to zero\n",
    "      optimizer.zero_grad()                            # <- zero_grad() restart the gradients to zero at each epoch, so that the gradients/losses are not accumulated.\n",
    "\n",
    "      # Calculating the gradients\n",
    "      loss.backward()                                  # <- loss.backward() is used to calculate the gradients of the loss with respect to the parameters of the model.\n",
    "\n",
    "\n",
    "      # Updating the model parameters\n",
    "      optimizer.step()                                 # <- The optimizer.step() is used to update the model parameters so that the error could be minimized.\n",
    "\n",
    "      # Append Batch loss after performing the batch training\n",
    "      batch_loss.append(loss.item())\n",
    "\n",
    "      # Putting y_pred back to cpu\n",
    "      y_pred = y_pred.cpu()\n",
    "      Y = Y.cpu()\n",
    "\n",
    "\n",
    "      # Computing the Batch accuracy\n",
    "      accuracy = 100*torch.mean((torch.argmax(y_pred, axis = 1) == Y ).float())\n",
    "      # Appending the batch accuracy\n",
    "      batch_accuracy.append(accuracy)\n",
    "\n",
    "      ####### Batch concluded\n",
    "\n",
    "    # Average training accuracy(outside the batch loop)\n",
    "    train_accuracy.append(np.mean(batch_accuracy))                # <= tracking accuracy is the average of the batch accuracy.\n",
    "\n",
    "    # Total Accuracy is the mean of the batch_loss\n",
    "    losses[epochi] = np.mean(batch_loss)                          # <- Storing the loss at each epoch in a tensor losses. i.e. Put the computed loss into the epoch-th position of the losses tensor.\n",
    "                                                                  # <- at each epoch/iteration we'll replace the respective zero with the calculated loss.\n",
    "\n",
    "\n",
    "##################################################################################➡️ testing the model ⬅️##########################################################################################\n",
    "\n",
    "    # Putting the model on the Testing Mode\n",
    "    ANN_model.eval()\n",
    "\n",
    "\n",
    "    # Passing all the samples at once from the test_dataloader to the train model\n",
    "    X, Y = next(iter(test_dataloader))\n",
    "\n",
    "    # Pushing X and Y in GPU\n",
    "    X = X.to(device)\n",
    "    Y = Y.to(device)\n",
    "\n",
    "    # Deactivating the gradient since during back propagation we don't need the gradient\n",
    "    with torch.no_grad():\n",
    "\n",
    "      # Passing the testing data to the model\n",
    "      y_pred = ANN_model(X)                           # <= Here we will obtain the prediction\n",
    "\n",
    "      # Putting the prediction back to cpu\n",
    "      y_pred = y_pred.cpu()\n",
    "      Y = Y.cpu()\n",
    "\n",
    "      # Appending the test accuracy\n",
    "      test_accuracy.append(100 * torch.mean((torch.argmax(y_pred, dim = 1) == Y).float()))\n",
    "      # printing the losses after every 10 epochs\n",
    "      if (epochi % 10) == 0:\n",
    "        print(f'epochs: {epochi}, loss: {loss : 2.2f}')\n",
    "\n",
    "\n",
    "# Visualize the loss and accuracies after the training loop\n",
    "fig, ax = plt.subplots(1, 2, figsize = (18, 6))       # <= 1 row, 2 column\n",
    "\n",
    "ax[0].plot(losses, 'g', lw = 3, label = 'Train')      # <= ax[0] means we're plotting on the 1st column, i.e. losses on the first column, g = green\n",
    "ax[0].set_xlabel('Epochs', fontsize = 15)\n",
    "ax[0].set_ylabel('Loss', fontsize = 15)\n",
    "ax[0].set_title('Training Loss', fontsize = 15)\n",
    "ax[0].legend(fontsize = 15)\n",
    "\n",
    "ax[1].plot(train_accuracy, 'b', lw = 3, label = 'Train')   # <= ax[1] means we're plotting on the 2nd column\n",
    "ax[1].plot(test_accuracy, 'r', lw = 3, label = 'Test')\n",
    "ax[1].set_xlabel('Epochs', fontsize = 15)\n",
    "ax[1].set_ylabel('Accuracy (%)', fontsize = 15)\n",
    "ax[1].set_ylim(10, 110)                                    # <= Setting the y limit between 10 and 110 so that we can clearly see the accuracy\n",
    "ax[1].set_title(f'Train Accuracy: {train_accuracy[-1]:.2f}% \\n Test Accuracy: {test_accuracy[-1]:.2f}%', fontsize = 15)       # <= Printing the final values\n",
    "ax[1].legend(fontsize = 15)\n",
    "\n",
    "plt.show()"
   ]
  },
  {
   "cell_type": "markdown",
   "id": "jpBPZX0U5kGz",
   "metadata": {
    "id": "jpBPZX0U5kGz"
   },
   "source": [
    "# 10. Visualizing the Loss and Accuracies"
   ]
  },
  {
   "cell_type": "code",
   "execution_count": null,
   "id": "35TmOHH45pGj",
   "metadata": {
    "id": "35TmOHH45pGj"
   },
   "outputs": [],
   "source": [
    "fig, ax = plt.subplots(1, 2, figsize = (18, 6))\n",
    "\n",
    "ax[0].plot(losses, 'g', lw = 3, label = 'Train')\n",
    "ax[0].set_xlabel('Epochs', fontsize = 15)\n",
    "ax[0].set_ylabel('Loss', fontsize = 15)\n",
    "ax[0].set_title('Training Loss', fontsize = 15)\n",
    "ax[0].legend(fontsize = 15)\n",
    "\n",
    "ax[1].plot(train_accuracy, 'b', lw = 3, label = 'Train')\n",
    "ax[1].plot(test_accuracy, 'r', lw = 3, label = 'Test')\n",
    "ax[1].set_xlabel('Epochs', fontsize = 15)\n",
    "ax[1].set_ylabel('Accuracy (%)', fontsize = 15)\n",
    "ax[1].set_ylim(10, 110)\n",
    "ax[1].set_title(f'Train Accuracy: {train_accuracy[-1]:.2f}% \\n Test Accuracy: {test_accuracy[-1]:.2f}', fontsize = 15)\n",
    "ax[1].legend(fontsize = 15)\n",
    "\n",
    "plt.show()\n"
   ]
  },
  {
   "cell_type": "markdown",
   "id": "iaQlfh2fW6tK",
   "metadata": {
    "id": "iaQlfh2fW6tK"
   },
   "source": [
    "- we can see that as the epoch was 0 the loss was high, but as the epoch increase the loss decrease"
   ]
  },
  {
   "cell_type": "markdown",
   "id": "Ql_hbPzAXKIx",
   "metadata": {
    "id": "Ql_hbPzAXKIx"
   },
   "source": []
  },
  {
   "cell_type": "markdown",
   "id": "28LvfJQka2S4",
   "metadata": {
    "id": "28LvfJQka2S4"
   },
   "source": [
    "# Saving the Trained Model"
   ]
  },
  {
   "cell_type": "code",
   "execution_count": null,
   "id": "Tr3VJfOJbBvI",
   "metadata": {
    "id": "Tr3VJfOJbBvI"
   },
   "outputs": [],
   "source": [
    "# Save the model with its current state(weights and biases) in the dictionary\n",
    "# torch.save(model_name.state_dict(), 'name.pt')\n",
    "torch.save(ANN_model.state_dict(), 'My_Train_Model.pt')"
   ]
  },
  {
   "cell_type": "markdown",
   "id": "4cAcGyBMcjlM",
   "metadata": {
    "id": "4cAcGyBMcjlM"
   },
   "source": [
    "# loading the Model\n"
   ]
  },
  {
   "cell_type": "code",
   "execution_count": null,
   "id": "7yrT2RqPcppb",
   "metadata": {
    "id": "7yrT2RqPcppb"
   },
   "outputs": [],
   "source": [
    "ANN_model.load_state_dict(torch.load('My_Train_Model.pt'))"
   ]
  },
  {
   "cell_type": "markdown",
   "id": "RBz0-FXCdn9l",
   "metadata": {
    "id": "RBz0-FXCdn9l"
   },
   "source": [
    "# Test the Loaded Model"
   ]
  },
  {
   "cell_type": "code",
   "execution_count": null,
   "id": "W5HbM2dFd0NW",
   "metadata": {
    "id": "W5HbM2dFd0NW"
   },
   "outputs": [],
   "source": [
    "ANN_model.to(device)\n",
    "\n",
    "# Passing all the samples at once from the test_dataloader to the train model\n",
    "X, Y = next(iter(test_dataloader))\n",
    "\n",
    "# Pushing X and Y in GPU\n",
    "X = X.to(device)\n",
    "Y = Y.to(device)\n",
    "\n",
    "# Deactivating the gradient since during back propagation we don't need the gradien\n",
    "with torch.no_grad():\n",
    "\n",
    "  # Passing the testing data to the model\n",
    "  y_pred = ANN_model(X)                           # <= Here we will obtain the prediction\n",
    "\n",
    "  # Putting the prediction back to cpu\n",
    "  y_pred = y_pred.cpu()\n",
    "  Y = Y.cpu()\n",
    "\n",
    "# Appending the test accuracy\n",
    "accuracy = 100 * torch.mean((torch.argmax(y_pred, dim = 1) == Y).float())\n",
    "accuracy"
   ]
  }
 ],
 "metadata": {
  "accelerator": "GPU",
  "colab": {
   "gpuType": "T4",
   "provenance": []
  },
  "kernelspec": {
   "display_name": "tensorflow_env",
   "language": "python",
   "name": "python3"
  },
  "language_info": {
   "codemirror_mode": {
    "name": "ipython",
    "version": 3
   },
   "file_extension": ".py",
   "mimetype": "text/x-python",
   "name": "python",
   "nbconvert_exporter": "python",
   "pygments_lexer": "ipython3",
   "version": "3.13.2"
  }
 },
 "nbformat": 4,
 "nbformat_minor": 5
}
